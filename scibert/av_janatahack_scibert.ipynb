{
 "cells": [
  {
   "cell_type": "markdown",
   "execution_count": null,
   "metadata": {
    "papermill": {
     "duration": 0.01028,
     "end_time": "2020-08-24T07:43:49.999329",
     "exception": false,
     "start_time": "2020-08-24T07:43:49.989049",
     "status": "completed"
    },
    "tags": []
   },
   "source": [
    "### **[SciBERT](http://github.com/allenai/scibert)** \n",
    "* It is a BERT model trained on scientific text.<br>\n",
    "* SciBERT is trained on papers from the corpus of semanticscholar.org. Corpus size is 1.14M papers, 3.1B tokens. We use the full text of the papers in training, not just abstracts.\n",
    "\n",
    "### Multi Class vs Multi Label Classification\n",
    "* **Multi Class** - There are multiple categories but each instance is assigned only one, therefore such problems are known as multi-class classification problem.\n",
    "* **Multi Label** - There are multiple categories and each instance can be assigned with multiple categories, so these types of problems are known as multi-label classification problem, where we have a set of target labels."
   ]
  },
  {
   "cell_type": "markdown",
   "execution_count": null,
   "metadata": {
    "id": "vr-nvX_HT4_K",
    "papermill": {
     "duration": 0.009301,
     "end_time": "2020-08-24T07:43:50.022285",
     "exception": false,
     "start_time": "2020-08-24T07:43:50.012984",
     "status": "completed"
    },
    "tags": []
   },
   "source": [
    "# Imports"
   ]
  },
  {
   "cell_type": "markdown",
   "execution_count": null,
   "metadata": {
    "papermill": {
     "duration": 0.008878,
     "end_time": "2020-08-24T07:43:50.042090",
     "exception": false,
     "start_time": "2020-08-24T07:43:50.033212",
     "status": "completed"
    },
    "tags": []
   },
   "source": [
    "The entire code is written using **PyTorch**.<br>\n",
    "We'll be using the **transformers** library by [huggingface](https://github.com/huggingface/transformers) as they provide wrappers for multiple Transformer models."
   ]
  },
  {
   "cell_type": "code",
   "execution_count": 1,
   "metadata": {
    "execution": {
     "iopub.execute_input": "2020-08-24T07:43:50.064589Z",
     "iopub.status.busy": "2020-08-24T07:43:50.063695Z",
     "iopub.status.idle": "2020-08-24T07:43:50.066772Z",
     "shell.execute_reply": "2020-08-24T07:43:50.066271Z"
    },
    "id": "9J7Ws11-9PqG",
    "papermill": {
     "duration": 0.015862,
     "end_time": "2020-08-24T07:43:50.066903",
     "exception": false,
     "start_time": "2020-08-24T07:43:50.051041",
     "status": "completed"
    },
    "tags": []
   },
   "outputs": [],
   "source": [
    "# ! pip3 install transformers"
   ]
  },
  {
   "cell_type": "code",
   "execution_count": 2,
   "metadata": {
    "execution": {
     "iopub.execute_input": "2020-08-24T07:43:50.092787Z",
     "iopub.status.busy": "2020-08-24T07:43:50.092108Z",
     "iopub.status.idle": "2020-08-24T07:43:58.330341Z",
     "shell.execute_reply": "2020-08-24T07:43:58.330818Z"
    },
    "id": "07GPLpCt_AjQ",
    "papermill": {
     "duration": 8.254909,
     "end_time": "2020-08-24T07:43:58.331008",
     "exception": false,
     "start_time": "2020-08-24T07:43:50.076099",
     "status": "completed"
    },
    "tags": []
   },
   "outputs": [
    {
     "name": "stderr",
     "output_type": "stream",
     "text": [
      "\u001b[34m\u001b[1mwandb\u001b[0m: \u001b[33mWARNING\u001b[0m W&B installed but not logged in.  Run `wandb login` or set the WANDB_API_KEY env variable.\n"
     ]
    }
   ],
   "source": [
    "import pandas as pd\n",
    "import numpy as np\n",
    "import pickle\n",
    "import matplotlib.pyplot as plt\n",
    "import seaborn as sns\n",
    "import re\n",
    "import copy\n",
    "from tqdm.notebook import tqdm\n",
    "import gc\n",
    "\n",
    "import torch\n",
    "import torch.nn as nn\n",
    "import torch.nn.functional as F\n",
    "from torch import optim\n",
    "from torch.utils.data import Dataset, DataLoader\n",
    "\n",
    "from sklearn.metrics import (\n",
    "    accuracy_score, \n",
    "    f1_score, \n",
    "    classification_report\n",
    ")\n",
    "\n",
    "from transformers import (\n",
    "    AutoTokenizer, \n",
    "    AutoModel,\n",
    "    get_linear_schedule_with_warmup\n",
    ")\n",
    "\n",
    "project_dir = '../input/avjanatahackresearcharticlesmlc/av_janatahack_data/'"
   ]
  },
  {
   "cell_type": "markdown",
   "execution_count": null,
   "metadata": {
    "papermill": {
     "duration": 0.008835,
     "end_time": "2020-08-24T07:43:58.349785",
     "exception": false,
     "start_time": "2020-08-24T07:43:58.340950",
     "status": "completed"
    },
    "tags": []
   },
   "source": [
    "Checking the GPU configurations. Kaggle's Tesla P100 GPU proves to be much faster for finetuning SciBERT on this dataset as compared to Google Colab's Tesla K80."
   ]
  },
  {
   "cell_type": "code",
   "execution_count": 3,
   "metadata": {
    "execution": {
     "iopub.execute_input": "2020-08-24T07:43:58.373706Z",
     "iopub.status.busy": "2020-08-24T07:43:58.372787Z",
     "iopub.status.idle": "2020-08-24T07:43:59.601582Z",
     "shell.execute_reply": "2020-08-24T07:43:59.600596Z"
    },
    "id": "-6_y9T71cQm2",
    "papermill": {
     "duration": 1.242786,
     "end_time": "2020-08-24T07:43:59.601705",
     "exception": false,
     "start_time": "2020-08-24T07:43:58.358919",
     "status": "completed"
    },
    "tags": []
   },
   "outputs": [
    {
     "name": "stdout",
     "output_type": "stream",
     "text": [
      "Mon Aug 24 07:43:59 2020       \r\n",
      "+-----------------------------------------------------------------------------+\r\n",
      "| NVIDIA-SMI 418.67       Driver Version: 418.67       CUDA Version: 10.1     |\r\n",
      "|-------------------------------+----------------------+----------------------+\r\n",
      "| GPU  Name        Persistence-M| Bus-Id        Disp.A | Volatile Uncorr. ECC |\r\n",
      "| Fan  Temp  Perf  Pwr:Usage/Cap|         Memory-Usage | GPU-Util  Compute M. |\r\n",
      "|===============================+======================+======================|\r\n",
      "|   0  Tesla P100-PCIE...  Off  | 00000000:00:04.0 Off |                    0 |\r\n",
      "| N/A   37C    P0    29W / 250W |      0MiB / 16280MiB |      0%      Default |\r\n",
      "+-------------------------------+----------------------+----------------------+\r\n",
      "                                                                               \r\n",
      "+-----------------------------------------------------------------------------+\r\n",
      "| Processes:                                                       GPU Memory |\r\n",
      "|  GPU       PID   Type   Process name                             Usage      |\r\n",
      "|=============================================================================|\r\n",
      "|  No running processes found                                                 |\r\n",
      "+-----------------------------------------------------------------------------+\r\n"
     ]
    }
   ],
   "source": [
    "! nvidia-smi"
   ]
  },
  {
   "cell_type": "markdown",
   "execution_count": null,
   "metadata": {
    "id": "1U4JGRlCV6rU",
    "papermill": {
     "duration": 0.009325,
     "end_time": "2020-08-24T07:43:59.621207",
     "exception": false,
     "start_time": "2020-08-24T07:43:59.611882",
     "status": "completed"
    },
    "tags": []
   },
   "source": [
    "# Data"
   ]
  },
  {
   "cell_type": "markdown",
   "execution_count": null,
   "metadata": {
    "papermill": {
     "duration": 0.009301,
     "end_time": "2020-08-24T07:43:59.639889",
     "exception": false,
     "start_time": "2020-08-24T07:43:59.630588",
     "status": "completed"
    },
    "tags": []
   },
   "source": [
    "We're using just the abstract text, but concatenating the title text along with it performed better on the leaderboard. \n",
    "<br><br>\n",
    "## Preprocessing\n",
    "- Stripping extra whitespaces around the text.\n",
    "- Replacing escape characters with whitespace.\n",
    "- Padding all punctuations with whitespaces on both sides.\n",
    "\n",
    "#### Additional Tips:\n",
    "- Replacing Latex equations with a special token.\n",
    "- Data Augmentation. \n",
    "\n"
   ]
  },
  {
   "cell_type": "code",
   "execution_count": 4,
   "metadata": {
    "execution": {
     "iopub.execute_input": "2020-08-24T07:43:59.671610Z",
     "iopub.status.busy": "2020-08-24T07:43:59.671017Z",
     "iopub.status.idle": "2020-08-24T07:43:59.918696Z",
     "shell.execute_reply": "2020-08-24T07:43:59.919181Z"
    },
    "papermill": {
     "duration": 0.270078,
     "end_time": "2020-08-24T07:43:59.919315",
     "exception": false,
     "start_time": "2020-08-24T07:43:59.649237",
     "status": "completed"
    },
    "tags": []
   },
   "outputs": [
    {
     "data": {
      "text/html": [
       "<div>\n",
       "<style scoped>\n",
       "    .dataframe tbody tr th:only-of-type {\n",
       "        vertical-align: middle;\n",
       "    }\n",
       "\n",
       "    .dataframe tbody tr th {\n",
       "        vertical-align: top;\n",
       "    }\n",
       "\n",
       "    .dataframe thead th {\n",
       "        text-align: right;\n",
       "    }\n",
       "</style>\n",
       "<table border=\"1\" class=\"dataframe\">\n",
       "  <thead>\n",
       "    <tr style=\"text-align: right;\">\n",
       "      <th></th>\n",
       "      <th>ID</th>\n",
       "      <th>TITLE</th>\n",
       "      <th>ABSTRACT</th>\n",
       "      <th>Computer Science</th>\n",
       "      <th>Physics</th>\n",
       "      <th>Mathematics</th>\n",
       "      <th>Statistics</th>\n",
       "      <th>Quantitative Biology</th>\n",
       "      <th>Quantitative Finance</th>\n",
       "    </tr>\n",
       "  </thead>\n",
       "  <tbody>\n",
       "    <tr>\n",
       "      <th>0</th>\n",
       "      <td>1</td>\n",
       "      <td>Reconstructing Subject-Specific Effect Maps</td>\n",
       "      <td>Predictive models allow subject-specific inf...</td>\n",
       "      <td>1</td>\n",
       "      <td>0</td>\n",
       "      <td>0</td>\n",
       "      <td>0</td>\n",
       "      <td>0</td>\n",
       "      <td>0</td>\n",
       "    </tr>\n",
       "    <tr>\n",
       "      <th>1</th>\n",
       "      <td>2</td>\n",
       "      <td>Rotation Invariance Neural Network</td>\n",
       "      <td>Rotation invariance and translation invarian...</td>\n",
       "      <td>1</td>\n",
       "      <td>0</td>\n",
       "      <td>0</td>\n",
       "      <td>0</td>\n",
       "      <td>0</td>\n",
       "      <td>0</td>\n",
       "    </tr>\n",
       "    <tr>\n",
       "      <th>2</th>\n",
       "      <td>3</td>\n",
       "      <td>Spherical polyharmonics and Poisson kernels fo...</td>\n",
       "      <td>We introduce and develop the notion of spher...</td>\n",
       "      <td>0</td>\n",
       "      <td>0</td>\n",
       "      <td>1</td>\n",
       "      <td>0</td>\n",
       "      <td>0</td>\n",
       "      <td>0</td>\n",
       "    </tr>\n",
       "    <tr>\n",
       "      <th>3</th>\n",
       "      <td>4</td>\n",
       "      <td>A finite element approximation for the stochas...</td>\n",
       "      <td>The stochastic Landau--Lifshitz--Gilbert (LL...</td>\n",
       "      <td>0</td>\n",
       "      <td>0</td>\n",
       "      <td>1</td>\n",
       "      <td>0</td>\n",
       "      <td>0</td>\n",
       "      <td>0</td>\n",
       "    </tr>\n",
       "    <tr>\n",
       "      <th>4</th>\n",
       "      <td>5</td>\n",
       "      <td>Comparative study of Discrete Wavelet Transfor...</td>\n",
       "      <td>Fourier-transform infra-red (FTIR) spectra o...</td>\n",
       "      <td>1</td>\n",
       "      <td>0</td>\n",
       "      <td>0</td>\n",
       "      <td>1</td>\n",
       "      <td>0</td>\n",
       "      <td>0</td>\n",
       "    </tr>\n",
       "  </tbody>\n",
       "</table>\n",
       "</div>"
      ],
      "text/plain": [
       "   ID                                              TITLE  \\\n",
       "0   1        Reconstructing Subject-Specific Effect Maps   \n",
       "1   2                 Rotation Invariance Neural Network   \n",
       "2   3  Spherical polyharmonics and Poisson kernels fo...   \n",
       "3   4  A finite element approximation for the stochas...   \n",
       "4   5  Comparative study of Discrete Wavelet Transfor...   \n",
       "\n",
       "                                            ABSTRACT  Computer Science  \\\n",
       "0    Predictive models allow subject-specific inf...                 1   \n",
       "1    Rotation invariance and translation invarian...                 1   \n",
       "2    We introduce and develop the notion of spher...                 0   \n",
       "3    The stochastic Landau--Lifshitz--Gilbert (LL...                 0   \n",
       "4    Fourier-transform infra-red (FTIR) spectra o...                 1   \n",
       "\n",
       "   Physics  Mathematics  Statistics  Quantitative Biology  \\\n",
       "0        0            0           0                     0   \n",
       "1        0            0           0                     0   \n",
       "2        0            1           0                     0   \n",
       "3        0            1           0                     0   \n",
       "4        0            0           1                     0   \n",
       "\n",
       "   Quantitative Finance  \n",
       "0                     0  \n",
       "1                     0  \n",
       "2                     0  \n",
       "3                     0  \n",
       "4                     0  "
      ]
     },
     "execution_count": 4,
     "metadata": {},
     "output_type": "execute_result"
    }
   ],
   "source": [
    "train_df = pd.read_csv(project_dir + 'train.csv')\n",
    "train_df.head()"
   ]
  },
  {
   "cell_type": "code",
   "execution_count": 5,
   "metadata": {
    "execution": {
     "iopub.execute_input": "2020-08-24T07:43:59.979820Z",
     "iopub.status.busy": "2020-08-24T07:43:59.964454Z",
     "iopub.status.idle": "2020-08-24T07:44:02.451043Z",
     "shell.execute_reply": "2020-08-24T07:44:02.451760Z"
    },
    "id": "6fTMIgN3XrPc",
    "outputId": "7999dca4-a2cb-4d2c-bde1-2a76423be5af",
    "papermill": {
     "duration": 2.522847,
     "end_time": "2020-08-24T07:44:02.452006",
     "exception": false,
     "start_time": "2020-08-24T07:43:59.929159",
     "status": "completed"
    },
    "tags": []
   },
   "outputs": [
    {
     "name": "stdout",
     "output_type": "stream",
     "text": [
      "TEXT -\tPredictive models allow subject-specific inference when analyzing disease related alterations in neuroimaging data .  Given a subject's data ,  inference can be made at two levels: global ,  i . e .  identifiying condition presence for the subject ,  and local ,  i . e .  detecting condition effect on each individual measurement extracted from the subject's data .  While global inference is widely used ,  local inference ,  which can be used to form subject-specific effect maps ,  is rarely used because existing models often yield noisy detections composed of dispersed isolated islands .  In this article ,  we propose a reconstruction method ,  named RSM ,  to improve subject-specific detections of predictive modeling approaches and in particular ,  binary classifiers .  RSM specifically aims to reduce noise due to sampling error associated with using a finite sample of examples to train classifiers .  The proposed method is a wrapper-type algorithm that can be used with different binary classifiers in a diagnostic manner ,  i . e .  without information on condition presence .  Reconstruction is posed as a Maximum-A-Posteriori problem with a prior model whose parameters are estimated from training data in a classifier-specific fashion .  Experimental evaluation is performed on synthetically generated data and data from the Alzheimer's Disease Neuroimaging Initiative  ( ADNI )  database .  Results on synthetic data demonstrate that using RSM yields higher detection accuracy compared to using models directly or with bootstrap averaging .  Analyses on the ADNI dataset show that RSM can also improve correlation between subject-specific detections in cortical thickness data and non-imaging markers of Alzheimer's Disease  ( AD )  ,  such as the Mini Mental State Examination Score and Cerebrospinal Fluid amyloid-$\\beta$ levels .  Further reliability studies on the longitudinal ADNI dataset show improvement on detection reliability when RSM is used . \n",
      "LABEL -\t[1 0 0 0 0 0]\n",
      "\n",
      "TEXT -\tRotation invariance and translation invariance have great values in image recognition tasks .  In this paper ,  we bring a new architecture in convolutional neural network  ( CNN )  named cyclic convolutional layer to achieve rotation invariance in 2-D symbol recognition .  We can also get the position and orientation of the 2-D symbol by the network to achieve detection purpose for multiple non-overlap target .  Last but not least ,  this architecture can achieve one-shot learning in some cases using those invariance . \n",
      "LABEL -\t[1 0 0 0 0 0]\n",
      "\n",
      "TEXT -\tWe introduce and develop the notion of spherical polyharmonics ,  which are a natural generalisation of spherical harmonics .  In particular we study the theory of zonal polyharmonics ,  which allows us ,  analogously to zonal harmonics ,  to construct Poisson kernels for polyharmonic functions on the union of rotated balls .  We find the representation of Poisson kernels and zonal polyharmonics in terms of the Gegenbauer polynomials .  We show the connection between the classical Poisson kernel for harmonic functions on the ball ,  Poisson kernels for polyharmonic functions on the union of rotated balls ,  and the Cauchy-Hua kernel for holomorphic functions on the Lie ball . \n",
      "LABEL -\t[0 0 1 0 0 0]\n",
      "\n",
      "TEXT -\tThe stochastic Landau--Lifshitz--Gilbert  ( LLG )  equation coupled with the Maxwell equations  ( the so called stochastic MLLG system )  describes the creation of domain walls and vortices  ( fundamental objects for the novel nanostructured magnetic memories )  .  We first reformulate the stochastic LLG equation into an equation with time-differentiable solutions .  We then propose a convergent $\\theta$-linear scheme to approximate the solutions of the reformulated system .  As a consequence ,  we prove convergence of the approximate solutions ,  with no or minor conditions on time and space steps  ( depending on the value of $\\theta$ )  .  Hence ,  we prove the existence of weak martingale solutions of the stochastic MLLG system .  Numerical results are presented to show applicability of the method . \n",
      "LABEL -\t[0 0 1 0 0 0]\n",
      "\n",
      "TEXT -\tFourier-transform infra-red  ( FTIR )  spectra of samples from 7 plant species were used to explore the influence of preprocessing and feature extraction on efficiency of machine learning algorithms .  Wavelet Tensor Train  ( WTT )  and Discrete Wavelet Transforms  ( DWT )  were compared as feature extraction techniques for FTIR data of medicinal plants .  Various combinations of signal processing steps showed different behavior when applied to classification and clustering tasks .  Best results for WTT and DWT found through grid search were similar ,  significantly improving quality of clustering as well as classification accuracy for tuned logistic regression in comparison to original spectra .  Unlike DWT ,  WTT has only one parameter to be tuned  ( rank )  ,  making it a more versatile and easier to use as a data processing tool in various signal processing applications . \n",
      "LABEL -\t[1 0 0 1 0 0]\n",
      "\n"
     ]
    }
   ],
   "source": [
    "# preprocessing\n",
    "def clean_abstract(text):\n",
    "    text = text.split()\n",
    "    text = [x.strip() for x in text]\n",
    "    text = [x.replace('\\n', ' ').replace('\\t', ' ') for x in text]\n",
    "    text = ' '.join(text)\n",
    "    text = re.sub('([.,!?()])', r' \\1 ', text)\n",
    "    return text\n",
    "    \n",
    "\n",
    "def get_texts(df):\n",
    "    texts = df['ABSTRACT'].apply(clean_abstract)\n",
    "    texts = texts.values.tolist()\n",
    "    return texts\n",
    "\n",
    "\n",
    "def get_labels(df):\n",
    "    labels = df.iloc[:, 3:].values\n",
    "    return labels\n",
    "\n",
    "texts = get_texts(train_df)\n",
    "labels = get_labels(train_df)\n",
    "\n",
    "for text, label in zip(texts[:5], labels[:5]):\n",
    "    print(f'TEXT -\\t{text}')\n",
    "    print(f'LABEL -\\t{label}')\n",
    "    print()"
   ]
  },
  {
   "cell_type": "markdown",
   "execution_count": null,
   "metadata": {
    "papermill": {
     "duration": 0.009712,
     "end_time": "2020-08-24T07:44:02.474022",
     "exception": false,
     "start_time": "2020-08-24T07:44:02.464310",
     "status": "completed"
    },
    "tags": []
   },
   "source": [
    "## Exploratory Data Analysis"
   ]
  },
  {
   "cell_type": "code",
   "execution_count": 6,
   "metadata": {
    "execution": {
     "iopub.execute_input": "2020-08-24T07:44:02.500391Z",
     "iopub.status.busy": "2020-08-24T07:44:02.499504Z",
     "iopub.status.idle": "2020-08-24T07:44:02.684251Z",
     "shell.execute_reply": "2020-08-24T07:44:02.683649Z"
    },
    "papermill": {
     "duration": 0.200707,
     "end_time": "2020-08-24T07:44:02.684376",
     "exception": false,
     "start_time": "2020-08-24T07:44:02.483669",
     "status": "completed"
    },
    "tags": []
   },
   "outputs": [
    {
     "data": {
      "image/png": "[encoded data removed]",
      "text/plain": [
       "<Figure size 432x288 with 1 Axes>"
      ]
     },
     "metadata": {
      "needs_background": "light"
     },
     "output_type": "display_data"
    }
   ],
   "source": [
    "# no. of samples for each class\n",
    "categories = train_df.columns.to_list()[3:]\n",
    "plt.figure(figsize=(6, 4))\n",
    "\n",
    "ax = sns.barplot(categories, train_df.iloc[:, 3:].sum().values)\n",
    "plt.ylabel('Number of papers')\n",
    "plt.xlabel('Paper type ')\n",
    "plt.xticks(rotation=90)\n",
    "plt.show()"
   ]
  },
  {
   "cell_type": "code",
   "execution_count": 7,
   "metadata": {
    "execution": {
     "iopub.execute_input": "2020-08-24T07:44:02.714418Z",
     "iopub.status.busy": "2020-08-24T07:44:02.713559Z",
     "iopub.status.idle": "2020-08-24T07:44:02.835839Z",
     "shell.execute_reply": "2020-08-24T07:44:02.836385Z"
    },
    "papermill": {
     "duration": 0.141484,
     "end_time": "2020-08-24T07:44:02.836512",
     "exception": false,
     "start_time": "2020-08-24T07:44:02.695028",
     "status": "completed"
    },
    "tags": []
   },
   "outputs": [
    {
     "data": {
      "image/png": "[encoded data removed]",
      "text/plain": [
       "<Figure size 432x288 with 1 Axes>"
      ]
     },
     "metadata": {
      "needs_background": "light"
     },
     "output_type": "display_data"
    }
   ],
   "source": [
    "# no of samples having multiple labels\n",
    "row_sums = train_df.iloc[:, 3:].sum(axis=1)\n",
    "multilabel_counts = row_sums.value_counts()\n",
    "\n",
    "plt.figure(figsize=(6, 4))\n",
    "ax = sns.barplot(multilabel_counts.index, multilabel_counts.values)\n",
    "plt.ylabel('Number of papers')\n",
    "plt.xlabel('Number of labels')\n",
    "plt.show()"
   ]
  },
  {
   "cell_type": "code",
   "execution_count": 8,
   "metadata": {
    "execution": {
     "iopub.execute_input": "2020-08-24T07:44:02.887258Z",
     "iopub.status.busy": "2020-08-24T07:44:02.871701Z",
     "iopub.status.idle": "2020-08-24T07:44:45.783112Z",
     "shell.execute_reply": "2020-08-24T07:44:45.783599Z"
    },
    "id": "TQ3KAWVQmDhU",
    "papermill": {
     "duration": 42.936102,
     "end_time": "2020-08-24T07:44:45.783737",
     "exception": false,
     "start_time": "2020-08-24T07:44:02.847635",
     "status": "completed"
    },
    "tags": []
   },
   "outputs": [
    {
     "data": {
      "text/plain": [
       "<BarContainer object of 20972 artists>"
      ]
     },
     "execution_count": 8,
     "metadata": {},
     "output_type": "execute_result"
    },
    {
     "data": {
      "image/png": "[encoded data removed]",
      "text/plain": [
       "<Figure size 432x288 with 1 Axes>"
      ]
     },
     "metadata": {
      "needs_background": "light"
     },
     "output_type": "display_data"
    }
   ],
   "source": [
    "# lengths\n",
    "y = [len(t.split()) for t in texts]\n",
    "x = range(0, len(y))\n",
    "plt.bar(x, y)"
   ]
  },
  {
   "cell_type": "markdown",
   "execution_count": null,
   "metadata": {
    "papermill": {
     "duration": 0.010915,
     "end_time": "2020-08-24T07:44:45.805263",
     "exception": false,
     "start_time": "2020-08-24T07:44:45.794348",
     "status": "completed"
    },
    "tags": []
   },
   "source": [
    "From the plot above we can infer that, **320** seems like a good choice for **MAX_LENGTH**."
   ]
  },
  {
   "cell_type": "markdown",
   "execution_count": null,
   "metadata": {
    "id": "fYncs41zT-gB",
    "papermill": {
     "duration": 0.010273,
     "end_time": "2020-08-24T07:44:45.826606",
     "exception": false,
     "start_time": "2020-08-24T07:44:45.816333",
     "status": "completed"
    },
    "tags": []
   },
   "source": [
    "# Config"
   ]
  },
  {
   "cell_type": "markdown",
   "execution_count": null,
   "metadata": {
    "papermill": {
     "duration": 0.01052,
     "end_time": "2020-08-24T07:44:45.848080",
     "exception": false,
     "start_time": "2020-08-24T07:44:45.837560",
     "status": "completed"
    },
    "tags": []
   },
   "source": [
    "Here we define a Config class, which contains all the fixed parameters & hyperparameters required for **Dataset** creation as well as **Model** training."
   ]
  },
  {
   "cell_type": "code",
   "execution_count": 9,
   "metadata": {
    "execution": {
     "iopub.execute_input": "2020-08-24T07:44:45.879112Z",
     "iopub.status.busy": "2020-08-24T07:44:45.878258Z",
     "iopub.status.idle": "2020-08-24T07:44:55.798824Z",
     "shell.execute_reply": "2020-08-24T07:44:55.797711Z"
    },
    "id": "F5MG2LCST-Co",
    "papermill": {
     "duration": 9.940036,
     "end_time": "2020-08-24T07:44:55.798979",
     "exception": false,
     "start_time": "2020-08-24T07:44:45.858943",
     "status": "completed"
    },
    "tags": []
   },
   "outputs": [
    {
     "data": {
      "application/vnd.jupyter.widget-view+json": {
       "model_id": "3c61c11e53c442fd9d535c2e513ce270",
       "version_major": 2,
       "version_minor": 0
      },
      "text/plain": [
       "HBox(children=(FloatProgress(value=0.0, description='Downloading', max=385.0, style=ProgressStyle(description_…"
      ]
     },
     "metadata": {},
     "output_type": "display_data"
    },
    {
     "name": "stdout",
     "output_type": "stream",
     "text": [
      "\n"
     ]
    },
    {
     "data": {
      "application/vnd.jupyter.widget-view+json": {
       "model_id": "588f23d7691b46f0bd43e3cc9b84c7b2",
       "version_major": 2,
       "version_minor": 0
      },
      "text/plain": [
       "HBox(children=(FloatProgress(value=0.0, description='Downloading', max=227845.0, style=ProgressStyle(descripti…"
      ]
     },
     "metadata": {},
     "output_type": "display_data"
    },
    {
     "name": "stdout",
     "output_type": "stream",
     "text": [
      "\n"
     ]
    }
   ],
   "source": [
    "class Config:\n",
    "    def __init__(self):\n",
    "        super(Config, self).__init__()\n",
    "\n",
    "        self.SEED = 42\n",
    "        self.MODEL_PATH = 'allenai/scibert_scivocab_uncased'\n",
    "        self.NUM_LABELS = 6\n",
    "\n",
    "        # data\n",
    "        self.TOKENIZER = AutoTokenizer.from_pretrained(self.MODEL_PATH)\n",
    "        self.MAX_LENGTH = 320\n",
    "        self.BATCH_SIZE = 16\n",
    "        self.VALIDATION_SPLIT = 0.25\n",
    "\n",
    "        # model\n",
    "        self.DEVICE = torch.device('cuda' if torch.cuda.is_available() else 'cpu')\n",
    "        self.FULL_FINETUNING = True\n",
    "        self.LR = 3e-5\n",
    "        self.OPTIMIZER = 'AdamW'\n",
    "        self.CRITERION = 'BCEWithLogitsLoss'\n",
    "        self.N_VALIDATE_DUR_TRAIN = 3\n",
    "        self.N_WARMUP = 0\n",
    "        self.SAVE_BEST_ONLY = True\n",
    "        self.EPOCHS = 1\n",
    "\n",
    "config = Config()"
   ]
  },
  {
   "cell_type": "markdown",
   "execution_count": null,
   "metadata": {
    "papermill": {
     "duration": 0.010814,
     "end_time": "2020-08-24T07:44:55.821608",
     "exception": false,
     "start_time": "2020-08-24T07:44:55.810794",
     "status": "completed"
    },
    "tags": []
   },
   "source": [
    "## Dataset & Dataloader"
   ]
  },
  {
   "cell_type": "markdown",
   "execution_count": null,
   "metadata": {
    "papermill": {
     "duration": 0.010854,
     "end_time": "2020-08-24T07:44:55.843348",
     "exception": false,
     "start_time": "2020-08-24T07:44:55.832494",
     "status": "completed"
    },
    "tags": []
   },
   "source": [
    "Now, we'll create a custom Dataset class inherited from the PyTorch Dataset class. We'll be using the **SciBERT tokenizer** that returns **input_ids** and **attention_mask**.<br>\n",
    "The custom Dataset class will return a dict containing - <br>\n",
    "\n",
    "- input_ids\n",
    "- attention_mask\n",
    "- labels\n",
    "<br>\n",
    "\n",
    "All three of these are inputs required by BERT models."
   ]
  },
  {
   "cell_type": "code",
   "execution_count": 10,
   "metadata": {
    "execution": {
     "iopub.execute_input": "2020-08-24T07:44:55.877802Z",
     "iopub.status.busy": "2020-08-24T07:44:55.877115Z",
     "iopub.status.idle": "2020-08-24T07:44:55.880130Z",
     "shell.execute_reply": "2020-08-24T07:44:55.880573Z"
    },
    "id": "62kL6XSQUon-",
    "papermill": {
     "duration": 0.026461,
     "end_time": "2020-08-24T07:44:55.880694",
     "exception": false,
     "start_time": "2020-08-24T07:44:55.854233",
     "status": "completed"
    },
    "tags": []
   },
   "outputs": [],
   "source": [
    "class TransformerDataset(Dataset):\n",
    "    def __init__(self, df, indices, set_type=None):\n",
    "        super(TransformerDataset, self).__init__()\n",
    "\n",
    "        df = df.iloc[indices]\n",
    "        self.texts = get_texts(df)\n",
    "        self.set_type = set_type\n",
    "        if self.set_type != 'test':\n",
    "            self.labels = get_labels(df)\n",
    "\n",
    "        self.tokenizer = config.TOKENIZER\n",
    "        self.max_length = config.MAX_LENGTH\n",
    "\n",
    "    def __len__(self):\n",
    "        return len(self.texts)\n",
    "    \n",
    "    def __getitem__(self, index):\n",
    "        tokenized = self.tokenizer.encode_plus(\n",
    "            self.texts[index], \n",
    "            max_length=self.max_length,\n",
    "            pad_to_max_length=True,\n",
    "            truncation=True,\n",
    "            return_attention_mask=True,\n",
    "            return_token_type_ids=False,\n",
    "            return_tensors='pt'\n",
    "        )\n",
    "        input_ids = tokenized['input_ids'].squeeze()\n",
    "        attention_mask = tokenized['attention_mask'].squeeze()\n",
    "\n",
    "        if self.set_type != 'test':\n",
    "            return {\n",
    "                'input_ids': input_ids.long(),\n",
    "                'attention_mask': attention_mask.long(),\n",
    "                'labels': torch.Tensor(self.labels[index]).float(),\n",
    "            }\n",
    "\n",
    "        return {\n",
    "            'input_ids': input_ids.long(),\n",
    "            'attention_mask': attention_mask.long(),\n",
    "        }"
   ]
  },
  {
   "cell_type": "markdown",
   "execution_count": null,
   "metadata": {
    "papermill": {
     "duration": 0.010764,
     "end_time": "2020-08-24T07:44:55.902726",
     "exception": false,
     "start_time": "2020-08-24T07:44:55.891962",
     "status": "completed"
    },
    "tags": []
   },
   "source": [
    "Our **TransformerDataset** Class takes as input the **dataframe**, **indices** & **set_type**. We calculate the train / val set indices beforehand, pass it to **TransformerDataset** and slice the dataframe using these indices."
   ]
  },
  {
   "cell_type": "code",
   "execution_count": 11,
   "metadata": {
    "execution": {
     "iopub.execute_input": "2020-08-24T07:44:55.932710Z",
     "iopub.status.busy": "2020-08-24T07:44:55.932137Z",
     "iopub.status.idle": "2020-08-24T07:44:55.936367Z",
     "shell.execute_reply": "2020-08-24T07:44:55.935898Z"
    },
    "id": "xkGLwcZ0f732",
    "papermill": {
     "duration": 0.022397,
     "end_time": "2020-08-24T07:44:55.936470",
     "exception": false,
     "start_time": "2020-08-24T07:44:55.914073",
     "status": "completed"
    },
    "tags": []
   },
   "outputs": [],
   "source": [
    "# train-val split\n",
    "\n",
    "np.random.seed(config.SEED)\n",
    "\n",
    "dataset_size = len(train_df)\n",
    "indices = list(range(dataset_size))\n",
    "split = int(np.floor(config.VALIDATION_SPLIT * dataset_size))\n",
    "np.random.shuffle(indices)\n",
    "\n",
    "train_indices, val_indices = indices[split:], indices[:split]"
   ]
  },
  {
   "cell_type": "markdown",
   "execution_count": null,
   "metadata": {
    "papermill": {
     "duration": 0.010951,
     "end_time": "2020-08-24T07:44:55.958350",
     "exception": false,
     "start_time": "2020-08-24T07:44:55.947399",
     "status": "completed"
    },
    "tags": []
   },
   "source": [
    "Here we'll initialize PyTorch DataLoader objects for the training & validation data.<br>\n",
    "These dataloaders allow us to iterate over them during training, validation or testing and return a batch of the Dataset class outputs."
   ]
  },
  {
   "cell_type": "code",
   "execution_count": 12,
   "metadata": {
    "execution": {
     "iopub.execute_input": "2020-08-24T07:44:55.990187Z",
     "iopub.status.busy": "2020-08-24T07:44:55.989306Z",
     "iopub.status.idle": "2020-08-24T07:44:58.774708Z",
     "shell.execute_reply": "2020-08-24T07:44:58.773738Z"
    },
    "id": "0mnuNOKmkc1R",
    "outputId": "21f3404b-297b-4a07-f370-599c29f3fe38",
    "papermill": {
     "duration": 2.805206,
     "end_time": "2020-08-24T07:44:58.774825",
     "exception": false,
     "start_time": "2020-08-24T07:44:55.969619",
     "status": "completed"
    },
    "tags": []
   },
   "outputs": [
    {
     "name": "stdout",
     "output_type": "stream",
     "text": [
      "input_ids shape: torch.Size([16, 320])\n",
      "attention_mask shape: torch.Size([16, 320])\n",
      "labels shape: torch.Size([16, 6])\n"
     ]
    }
   ],
   "source": [
    "train_data = TransformerDataset(train_df, train_indices)\n",
    "val_data = TransformerDataset(train_df, val_indices)\n",
    "\n",
    "train_dataloader = DataLoader(train_data, batch_size=config.BATCH_SIZE)\n",
    "val_dataloader = DataLoader(val_data, batch_size=config.BATCH_SIZE)\n",
    "\n",
    "b = next(iter(train_dataloader))\n",
    "for k, v in b.items():\n",
    "    print(f'{k} shape: {v.shape}')"
   ]
  },
  {
   "cell_type": "markdown",
   "execution_count": null,
   "metadata": {
    "id": "feB5OEdeoV91",
    "papermill": {
     "duration": 0.011116,
     "end_time": "2020-08-24T07:44:58.797515",
     "exception": false,
     "start_time": "2020-08-24T07:44:58.786399",
     "status": "completed"
    },
    "tags": []
   },
   "source": [
    "# Model"
   ]
  },
  {
   "cell_type": "markdown",
   "execution_count": null,
   "metadata": {
    "papermill": {
     "duration": 0.011092,
     "end_time": "2020-08-24T07:44:58.819897",
     "exception": false,
     "start_time": "2020-08-24T07:44:58.808805",
     "status": "completed"
    },
    "tags": []
   },
   "source": [
    "Coming to the most interesting part - the model architecture! We'll create a class named **Model**, inherited from **torch.nn.Module**.<br><br>\n",
    "\n",
    "### Flow\n",
    "- Get **768** dimensional features from the SciBERT model.\n",
    "- Pass them through a **dropout** layer.\n",
    "- Pass the dropout layer output through a Linear layer with **input_features=768** and **output_features=6**. (6 is the number of classes)"
   ]
  },
  {
   "cell_type": "code",
   "execution_count": 13,
   "metadata": {
    "execution": {
     "iopub.execute_input": "2020-08-24T07:44:58.851227Z",
     "iopub.status.busy": "2020-08-24T07:44:58.850473Z",
     "iopub.status.idle": "2020-08-24T07:44:58.854702Z",
     "shell.execute_reply": "2020-08-24T07:44:58.854191Z"
    },
    "id": "d1xG8CCdlgge",
    "papermill": {
     "duration": 0.02377,
     "end_time": "2020-08-24T07:44:58.854796",
     "exception": false,
     "start_time": "2020-08-24T07:44:58.831026",
     "status": "completed"
    },
    "tags": []
   },
   "outputs": [],
   "source": [
    "class Model(nn.Module):\n",
    "    def __init__(self):\n",
    "        super(Model, self).__init__()\n",
    "\n",
    "        self.transformer_model = AutoModel.from_pretrained(\n",
    "            config.MODEL_PATH\n",
    "        )\n",
    "        self.dropout = nn.Dropout(0.3)\n",
    "        self.output = nn.Linear(768, config.NUM_LABELS)\n",
    "\n",
    "    def forward(\n",
    "        self,\n",
    "        input_ids, \n",
    "        attention_mask=None, \n",
    "        token_type_ids=None\n",
    "        ):\n",
    "\n",
    "        _, o2 = self.transformer_model(\n",
    "            input_ids=input_ids,\n",
    "            attention_mask=attention_mask,\n",
    "            token_type_ids=token_type_ids,\n",
    "        )\n",
    "        x = self.dropout(o2)\n",
    "        x = self.output(x)\n",
    "        \n",
    "        return x"
   ]
  },
  {
   "cell_type": "code",
   "execution_count": 14,
   "metadata": {
    "execution": {
     "iopub.execute_input": "2020-08-24T07:44:58.881460Z",
     "iopub.status.busy": "2020-08-24T07:44:58.880834Z",
     "iopub.status.idle": "2020-08-24T07:44:58.886488Z",
     "shell.execute_reply": "2020-08-24T07:44:58.887015Z"
    },
    "id": "jiypz6jrG9bl",
    "papermill": {
     "duration": 0.021111,
     "end_time": "2020-08-24T07:44:58.887188",
     "exception": false,
     "start_time": "2020-08-24T07:44:58.866077",
     "status": "completed"
    },
    "tags": []
   },
   "outputs": [
    {
     "data": {
      "text/plain": [
       "device(type='cuda')"
      ]
     },
     "execution_count": 14,
     "metadata": {},
     "output_type": "execute_result"
    }
   ],
   "source": [
    "device = config.DEVICE\n",
    "device"
   ]
  },
  {
   "cell_type": "markdown",
   "execution_count": null,
   "metadata": {
    "id": "O5LkYPeTqpDP",
    "papermill": {
     "duration": 0.011163,
     "end_time": "2020-08-24T07:44:58.909920",
     "exception": false,
     "start_time": "2020-08-24T07:44:58.898757",
     "status": "completed"
    },
    "tags": []
   },
   "source": [
    "# Engine"
   ]
  },
  {
   "cell_type": "markdown",
   "execution_count": null,
   "metadata": {
    "papermill": {
     "duration": 0.011835,
     "end_time": "2020-08-24T07:44:58.933306",
     "exception": false,
     "start_time": "2020-08-24T07:44:58.921471",
     "status": "completed"
    },
    "tags": []
   },
   "source": [
    "Our engine consists of the training and validation step functions."
   ]
  },
  {
   "cell_type": "code",
   "execution_count": 15,
   "metadata": {
    "execution": {
     "iopub.execute_input": "2020-08-24T07:44:58.979918Z",
     "iopub.status.busy": "2020-08-24T07:44:58.974703Z",
     "iopub.status.idle": "2020-08-24T07:44:58.982133Z",
     "shell.execute_reply": "2020-08-24T07:44:58.982722Z"
    },
    "id": "ZJtj7C0pqMIC",
    "papermill": {
     "duration": 0.038131,
     "end_time": "2020-08-24T07:44:58.982837",
     "exception": false,
     "start_time": "2020-08-24T07:44:58.944706",
     "status": "completed"
    },
    "tags": []
   },
   "outputs": [],
   "source": [
    "def val(model, val_dataloader, criterion):\n",
    "    \n",
    "    val_loss = 0\n",
    "    true, pred = [], []\n",
    "    \n",
    "    # set model.eval() every time during evaluation\n",
    "    model.eval()\n",
    "    \n",
    "    for step, batch in enumerate(val_dataloader):\n",
    "        # unpack the batch contents and push them to the device (cuda or cpu).\n",
    "        b_input_ids = batch['input_ids'].to(device)\n",
    "        b_attention_mask = batch['attention_mask'].to(device)\n",
    "        b_labels = batch['labels'].to(device)\n",
    "\n",
    "        # using torch.no_grad() during validation/inference is faster -\n",
    "        # - since it does not update gradients.\n",
    "        with torch.no_grad():\n",
    "            # forward pass\n",
    "            logits = model(input_ids=b_input_ids, attention_mask=b_attention_mask)\n",
    "            \n",
    "            # calculate loss\n",
    "            loss = criterion(logits, b_labels)\n",
    "            val_loss += loss.item()\n",
    "\n",
    "            # since we're using BCEWithLogitsLoss, to get the predictions -\n",
    "            # - sigmoid has to be applied on the logits first\n",
    "            logits = torch.sigmoid(logits)\n",
    "            logits = np.round(logits.cpu().numpy())\n",
    "            labels = b_labels.cpu().numpy()\n",
    "            \n",
    "            # the tensors are detached from the gpu and put back on -\n",
    "            # - the cpu, and then converted to numpy in order to -\n",
    "            # - use sklearn's metrics.\n",
    "\n",
    "            pred.extend(logits)\n",
    "            true.extend(labels)\n",
    "\n",
    "    avg_val_loss = val_loss / len(val_dataloader)\n",
    "    print('Val loss:', avg_val_loss)\n",
    "    print('Val accuracy:', accuracy_score(true, pred))\n",
    "\n",
    "    val_micro_f1_score = f1_score(true, pred, average='micro')\n",
    "    print('Val micro f1 score:', val_micro_f1_score)\n",
    "    return val_micro_f1_score\n",
    "\n",
    "\n",
    "def train(model, train_dataloader, val_dataloader, criterion, optimizer, scheduler, epoch):\n",
    "    \n",
    "    # we validate config.N_VALIDATE_DUR_TRAIN times during the training loop\n",
    "    nv = config.N_VALIDATE_DUR_TRAIN\n",
    "    temp = len(train_dataloader) // nv\n",
    "    temp = temp - (temp % 100)\n",
    "    validate_at_steps = [temp * x for x in range(1, nv + 1)]\n",
    "    \n",
    "    train_loss = 0\n",
    "    for step, batch in enumerate(tqdm(train_dataloader, \n",
    "                                      desc='Epoch ' + str(epoch))):\n",
    "        # set model.eval() every time during training\n",
    "        model.train()\n",
    "        \n",
    "        # unpack the batch contents and push them to the device (cuda or cpu).\n",
    "        b_input_ids = batch['input_ids'].to(device)\n",
    "        b_attention_mask = batch['attention_mask'].to(device)\n",
    "        b_labels = batch['labels'].to(device)\n",
    "\n",
    "        # clear accumulated gradients\n",
    "        optimizer.zero_grad()\n",
    "\n",
    "        # forward pass\n",
    "        logits = model(input_ids=b_input_ids, attention_mask=b_attention_mask)\n",
    "        \n",
    "        # calculate loss\n",
    "        loss = criterion(logits, b_labels)\n",
    "        train_loss += loss.item()\n",
    "\n",
    "        # backward pass\n",
    "        loss.backward()\n",
    "\n",
    "        # update weights\n",
    "        optimizer.step()\n",
    "        \n",
    "        # update scheduler\n",
    "        scheduler.step()\n",
    "\n",
    "        if step in validate_at_steps:\n",
    "            print(f'-- Step: {step}')\n",
    "            _ = val(model, val_dataloader, criterion)\n",
    "    \n",
    "    avg_train_loss = train_loss / len(train_dataloader)\n",
    "    print('Training loss:', avg_train_loss)"
   ]
  },
  {
   "cell_type": "markdown",
   "execution_count": null,
   "metadata": {
    "id": "ApdIReKk7OQJ",
    "papermill": {
     "duration": 0.011274,
     "end_time": "2020-08-24T07:44:59.005486",
     "exception": false,
     "start_time": "2020-08-24T07:44:58.994212",
     "status": "completed"
    },
    "tags": []
   },
   "source": [
    "# Run"
   ]
  },
  {
   "cell_type": "markdown",
   "execution_count": null,
   "metadata": {
    "papermill": {
     "duration": 0.011344,
     "end_time": "2020-08-24T07:44:59.028364",
     "exception": false,
     "start_time": "2020-08-24T07:44:59.017020",
     "status": "completed"
    },
    "tags": []
   },
   "source": [
    "### Loss function used<br>\n",
    "- **BCEWithLogitsLoss** - Most commonly used loss function for Multi Label Classification tasks. Note that, PyTorch's BCEWithLogitsLoss is numerically stable than BCELoss.\n",
    "<br>\n",
    "\n",
    "### Optimizer used <br>\n",
    "- **AdamW** - Commonly used optimizer. Performs better than Adam.\n",
    "<br>\n",
    "\n",
    "### Scheduler used <br>\n",
    "- **get_linear_scheduler_with_warmup** from the **transformers** library.\n",
    "<br>"
   ]
  },
  {
   "cell_type": "code",
   "execution_count": 16,
   "metadata": {
    "execution": {
     "iopub.execute_input": "2020-08-24T07:44:59.066396Z",
     "iopub.status.busy": "2020-08-24T07:44:59.065582Z",
     "iopub.status.idle": "2020-08-24T07:44:59.067938Z",
     "shell.execute_reply": "2020-08-24T07:44:59.068499Z"
    },
    "id": "93Qs1xH27FRe",
    "papermill": {
     "duration": 0.028432,
     "end_time": "2020-08-24T07:44:59.068613",
     "exception": false,
     "start_time": "2020-08-24T07:44:59.040181",
     "status": "completed"
    },
    "tags": []
   },
   "outputs": [],
   "source": [
    "def run():\n",
    "    # setting a seed ensures reproducible results.\n",
    "    # seed may affect the performance too.\n",
    "    torch.manual_seed(config.SEED)\n",
    "\n",
    "    criterion = nn.BCEWithLogitsLoss()\n",
    "    \n",
    "    # define the parameters to be optmized -\n",
    "    # - and add regularization\n",
    "    if config.FULL_FINETUNING:\n",
    "        param_optimizer = list(model.named_parameters())\n",
    "        no_decay = [\"bias\", \"LayerNorm.bias\", \"LayerNorm.weight\"]\n",
    "        optimizer_parameters = [\n",
    "            {\n",
    "                \"params\": [\n",
    "                    p for n, p in param_optimizer if not any(nd in n for nd in no_decay)\n",
    "                ],\n",
    "                \"weight_decay\": 0.001,\n",
    "            },\n",
    "            {\n",
    "                \"params\": [\n",
    "                    p for n, p in param_optimizer if any(nd in n for nd in no_decay)\n",
    "                ],\n",
    "                \"weight_decay\": 0.0,\n",
    "            },\n",
    "        ]\n",
    "        optimizer = optim.AdamW(optimizer_parameters, lr=config.LR)\n",
    "\n",
    "    num_training_steps = len(train_dataloader) * config.EPOCHS\n",
    "    scheduler = get_linear_schedule_with_warmup(\n",
    "        optimizer,\n",
    "        num_warmup_steps=0,\n",
    "        num_training_steps=num_training_steps\n",
    "    )\n",
    "\n",
    "    max_val_micro_f1_score = float('-inf')\n",
    "    for epoch in range(config.EPOCHS):\n",
    "        train(model, train_dataloader, val_dataloader, criterion, optimizer, scheduler, epoch)\n",
    "        val_micro_f1_score = val(model, val_dataloader, criterion)\n",
    "\n",
    "        if config.SAVE_BEST_ONLY:\n",
    "            if val_micro_f1_score > max_val_micro_f1_score:\n",
    "                best_model = copy.deepcopy(model)\n",
    "                best_val_micro_f1_score = val_micro_f1_score\n",
    "\n",
    "                model_name = 'scibertfft_best_model'\n",
    "                torch.save(best_model.state_dict(), model_name + '.pt')\n",
    "\n",
    "                print(f'--- Best Model. Val loss: {max_val_micro_f1_score} -> {val_micro_f1_score}')\n",
    "                max_val_micro_f1_score = val_micro_f1_score\n",
    "\n",
    "    return best_model, best_val_micro_f1_score"
   ]
  },
  {
   "cell_type": "code",
   "execution_count": 17,
   "metadata": {
    "execution": {
     "iopub.execute_input": "2020-08-24T07:44:59.096985Z",
     "iopub.status.busy": "2020-08-24T07:44:59.096103Z",
     "iopub.status.idle": "2020-08-24T07:45:29.434952Z",
     "shell.execute_reply": "2020-08-24T07:45:29.433796Z"
    },
    "id": "C5BwV_228Cok",
    "outputId": "da336ea0-9009-4cbb-d23f-c92e444e327b",
    "papermill": {
     "duration": 30.35439,
     "end_time": "2020-08-24T07:45:29.435083",
     "exception": false,
     "start_time": "2020-08-24T07:44:59.080693",
     "status": "completed"
    },
    "tags": []
   },
   "outputs": [
    {
     "data": {
      "application/vnd.jupyter.widget-view+json": {
       "model_id": "4f4160ed33da4b3fa1f4f01687941d39",
       "version_major": 2,
       "version_minor": 0
      },
      "text/plain": [
       "HBox(children=(FloatProgress(value=0.0, description='Downloading', max=442221694.0, style=ProgressStyle(descri…"
      ]
     },
     "metadata": {},
     "output_type": "display_data"
    },
    {
     "name": "stdout",
     "output_type": "stream",
     "text": [
      "\n"
     ]
    }
   ],
   "source": [
    "model = Model()\n",
    "model.to(device);"
   ]
  },
  {
   "cell_type": "code",
   "execution_count": 18,
   "metadata": {
    "execution": {
     "iopub.execute_input": "2020-08-24T07:45:29.467158Z",
     "iopub.status.busy": "2020-08-24T07:45:29.466209Z",
     "iopub.status.idle": "2020-08-24T08:01:28.254515Z",
     "shell.execute_reply": "2020-08-24T08:01:28.253996Z"
    },
    "id": "YMwlc6aG7e4I",
    "outputId": "bdd17bf0-b090-4fbb-a875-9071bc00ef5f",
    "papermill": {
     "duration": 958.806393,
     "end_time": "2020-08-24T08:01:28.254629",
     "exception": false,
     "start_time": "2020-08-24T07:45:29.448236",
     "status": "completed"
    },
    "tags": []
   },
   "outputs": [
    {
     "data": {
      "application/vnd.jupyter.widget-view+json": {
       "model_id": "7ea9155674ee48c59bab2c55acea73dd",
       "version_major": 2,
       "version_minor": 0
      },
      "text/plain": [
       "HBox(children=(FloatProgress(value=0.0, description='Epoch 0', max=984.0, style=ProgressStyle(description_widt…"
      ]
     },
     "metadata": {},
     "output_type": "display_data"
    },
    {
     "name": "stdout",
     "output_type": "stream",
     "text": [
      "-- Step: 300\n",
      "Val loss: 0.17867014300441597\n",
      "Val accuracy: 0.683005912645432\n",
      "Val micro f1 score: 0.8238435561140345\n",
      "-- Step: 600\n",
      "Val loss: 0.1623222197792152\n",
      "Val accuracy: 0.7024604234217051\n",
      "Val micro f1 score: 0.8404222291213909\n",
      "-- Step: 900\n",
      "Val loss: 0.15762542930954113\n",
      "Val accuracy: 0.7041769979019645\n",
      "Val micro f1 score: 0.8458250648755915\n",
      "\n",
      "Training loss: 0.18578507021311821\n",
      "Val loss: 0.1544243798409475\n",
      "Val accuracy: 0.7156208277703605\n",
      "Val micro f1 score: 0.8508940219476633\n",
      "--- Best Model. Val loss: -inf -> 0.8508940219476633\n"
     ]
    }
   ],
   "source": [
    "best_model, best_val_micro_f1_score = run()"
   ]
  },
  {
   "cell_type": "markdown",
   "execution_count": null,
   "metadata": {
    "id": "4nfT_foB9-yr",
    "papermill": {
     "duration": 0.012442,
     "end_time": "2020-08-24T08:01:28.280625",
     "exception": false,
     "start_time": "2020-08-24T08:01:28.268183",
     "status": "completed"
    },
    "tags": []
   },
   "source": [
    "# Submission"
   ]
  },
  {
   "cell_type": "markdown",
   "execution_count": null,
   "metadata": {
    "papermill": {
     "duration": 0.01221,
     "end_time": "2020-08-24T08:01:28.305781",
     "exception": false,
     "start_time": "2020-08-24T08:01:28.293571",
     "status": "completed"
    },
    "tags": []
   },
   "source": [
    "Load the test dataset, and initialize and DataLoader object for it."
   ]
  },
  {
   "cell_type": "code",
   "execution_count": 19,
   "metadata": {
    "execution": {
     "iopub.execute_input": "2020-08-24T08:01:28.340238Z",
     "iopub.status.busy": "2020-08-24T08:01:28.339638Z",
     "iopub.status.idle": "2020-08-24T08:01:29.534103Z",
     "shell.execute_reply": "2020-08-24T08:01:29.532465Z"
    },
    "papermill": {
     "duration": 1.215726,
     "end_time": "2020-08-24T08:01:29.534226",
     "exception": false,
     "start_time": "2020-08-24T08:01:28.318500",
     "status": "completed"
    },
    "tags": []
   },
   "outputs": [],
   "source": [
    "test_df = pd.read_csv(project_dir + 'test.csv')\n",
    "dataset_size = len(test_df)\n",
    "test_indices = list(range(dataset_size))\n",
    "\n",
    "test_data = TransformerDataset(test_df, test_indices, set_type='test')\n",
    "test_dataloader = DataLoader(test_data, batch_size=config.BATCH_SIZE)"
   ]
  },
  {
   "cell_type": "code",
   "execution_count": 20,
   "metadata": {
    "execution": {
     "iopub.execute_input": "2020-08-24T08:01:29.574569Z",
     "iopub.status.busy": "2020-08-24T08:01:29.569844Z",
     "iopub.status.idle": "2020-08-24T08:03:57.795904Z",
     "shell.execute_reply": "2020-08-24T08:03:57.794884Z"
    },
    "id": "JI-MUk0i-FHH",
    "papermill": {
     "duration": 148.248505,
     "end_time": "2020-08-24T08:03:57.796043",
     "exception": false,
     "start_time": "2020-08-24T08:01:29.547538",
     "status": "completed"
    },
    "tags": []
   },
   "outputs": [],
   "source": [
    "def predict(model):\n",
    "    val_loss = 0\n",
    "    test_pred = []\n",
    "    model.eval()\n",
    "    for step, batch in enumerate(test_dataloader):\n",
    "        b_input_ids = batch['input_ids'].to(device)\n",
    "        b_attention_mask = batch['attention_mask'].to(device)\n",
    "\n",
    "        with torch.no_grad():\n",
    "            logits = model(input_ids=b_input_ids, attention_mask=b_attention_mask)\n",
    "            logits = torch.sigmoid(logits)\n",
    "            logits = np.round(logits.cpu().numpy())\n",
    "            test_pred.extend(logits)\n",
    "\n",
    "    test_pred = np.array(test_pred)\n",
    "    return test_pred\n",
    "\n",
    "test_pred = predict(best_model)"
   ]
  },
  {
   "cell_type": "code",
   "execution_count": 21,
   "metadata": {
    "execution": {
     "iopub.execute_input": "2020-08-24T08:03:57.831590Z",
     "iopub.status.busy": "2020-08-24T08:03:57.831013Z",
     "iopub.status.idle": "2020-08-24T08:03:57.854248Z",
     "shell.execute_reply": "2020-08-24T08:03:57.854685Z"
    },
    "id": "nK_7216XA2Ah",
    "papermill": {
     "duration": 0.045319,
     "end_time": "2020-08-24T08:03:57.854806",
     "exception": false,
     "start_time": "2020-08-24T08:03:57.809487",
     "status": "completed"
    },
    "tags": []
   },
   "outputs": [
    {
     "data": {
      "text/html": [
       "<div>\n",
       "<style scoped>\n",
       "    .dataframe tbody tr th:only-of-type {\n",
       "        vertical-align: middle;\n",
       "    }\n",
       "\n",
       "    .dataframe tbody tr th {\n",
       "        vertical-align: top;\n",
       "    }\n",
       "\n",
       "    .dataframe thead th {\n",
       "        text-align: right;\n",
       "    }\n",
       "</style>\n",
       "<table border=\"1\" class=\"dataframe\">\n",
       "  <thead>\n",
       "    <tr style=\"text-align: right;\">\n",
       "      <th></th>\n",
       "      <th>ID</th>\n",
       "      <th>Computer Science</th>\n",
       "      <th>Physics</th>\n",
       "      <th>Mathematics</th>\n",
       "      <th>Statistics</th>\n",
       "      <th>Quantitative Biology</th>\n",
       "      <th>Quantitative Finance</th>\n",
       "    </tr>\n",
       "  </thead>\n",
       "  <tbody>\n",
       "    <tr>\n",
       "      <th>0</th>\n",
       "      <td>20973</td>\n",
       "      <td>1</td>\n",
       "      <td>0</td>\n",
       "      <td>0</td>\n",
       "      <td>1</td>\n",
       "      <td>0</td>\n",
       "      <td>0</td>\n",
       "    </tr>\n",
       "    <tr>\n",
       "      <th>1</th>\n",
       "      <td>20974</td>\n",
       "      <td>0</td>\n",
       "      <td>1</td>\n",
       "      <td>0</td>\n",
       "      <td>0</td>\n",
       "      <td>0</td>\n",
       "      <td>0</td>\n",
       "    </tr>\n",
       "    <tr>\n",
       "      <th>2</th>\n",
       "      <td>20975</td>\n",
       "      <td>1</td>\n",
       "      <td>0</td>\n",
       "      <td>0</td>\n",
       "      <td>0</td>\n",
       "      <td>0</td>\n",
       "      <td>0</td>\n",
       "    </tr>\n",
       "    <tr>\n",
       "      <th>3</th>\n",
       "      <td>20976</td>\n",
       "      <td>0</td>\n",
       "      <td>1</td>\n",
       "      <td>0</td>\n",
       "      <td>0</td>\n",
       "      <td>0</td>\n",
       "      <td>0</td>\n",
       "    </tr>\n",
       "    <tr>\n",
       "      <th>4</th>\n",
       "      <td>20977</td>\n",
       "      <td>1</td>\n",
       "      <td>0</td>\n",
       "      <td>0</td>\n",
       "      <td>0</td>\n",
       "      <td>0</td>\n",
       "      <td>0</td>\n",
       "    </tr>\n",
       "    <tr>\n",
       "      <th>...</th>\n",
       "      <td>...</td>\n",
       "      <td>...</td>\n",
       "      <td>...</td>\n",
       "      <td>...</td>\n",
       "      <td>...</td>\n",
       "      <td>...</td>\n",
       "      <td>...</td>\n",
       "    </tr>\n",
       "    <tr>\n",
       "      <th>8984</th>\n",
       "      <td>29957</td>\n",
       "      <td>1</td>\n",
       "      <td>0</td>\n",
       "      <td>0</td>\n",
       "      <td>0</td>\n",
       "      <td>0</td>\n",
       "      <td>0</td>\n",
       "    </tr>\n",
       "    <tr>\n",
       "      <th>8985</th>\n",
       "      <td>29958</td>\n",
       "      <td>0</td>\n",
       "      <td>0</td>\n",
       "      <td>1</td>\n",
       "      <td>0</td>\n",
       "      <td>0</td>\n",
       "      <td>0</td>\n",
       "    </tr>\n",
       "    <tr>\n",
       "      <th>8986</th>\n",
       "      <td>29959</td>\n",
       "      <td>1</td>\n",
       "      <td>0</td>\n",
       "      <td>0</td>\n",
       "      <td>0</td>\n",
       "      <td>0</td>\n",
       "      <td>0</td>\n",
       "    </tr>\n",
       "    <tr>\n",
       "      <th>8987</th>\n",
       "      <td>29960</td>\n",
       "      <td>0</td>\n",
       "      <td>0</td>\n",
       "      <td>0</td>\n",
       "      <td>1</td>\n",
       "      <td>0</td>\n",
       "      <td>0</td>\n",
       "    </tr>\n",
       "    <tr>\n",
       "      <th>8988</th>\n",
       "      <td>29961</td>\n",
       "      <td>1</td>\n",
       "      <td>0</td>\n",
       "      <td>1</td>\n",
       "      <td>0</td>\n",
       "      <td>0</td>\n",
       "      <td>0</td>\n",
       "    </tr>\n",
       "  </tbody>\n",
       "</table>\n",
       "<p>8989 rows × 7 columns</p>\n",
       "</div>"
      ],
      "text/plain": [
       "         ID  Computer Science  Physics  Mathematics  Statistics  \\\n",
       "0     20973                 1        0            0           1   \n",
       "1     20974                 0        1            0           0   \n",
       "2     20975                 1        0            0           0   \n",
       "3     20976                 0        1            0           0   \n",
       "4     20977                 1        0            0           0   \n",
       "...     ...               ...      ...          ...         ...   \n",
       "8984  29957                 1        0            0           0   \n",
       "8985  29958                 0        0            1           0   \n",
       "8986  29959                 1        0            0           0   \n",
       "8987  29960                 0        0            0           1   \n",
       "8988  29961                 1        0            1           0   \n",
       "\n",
       "      Quantitative Biology  Quantitative Finance  \n",
       "0                        0                     0  \n",
       "1                        0                     0  \n",
       "2                        0                     0  \n",
       "3                        0                     0  \n",
       "4                        0                     0  \n",
       "...                    ...                   ...  \n",
       "8984                     0                     0  \n",
       "8985                     0                     0  \n",
       "8986                     0                     0  \n",
       "8987                     0                     0  \n",
       "8988                     0                     0  \n",
       "\n",
       "[8989 rows x 7 columns]"
      ]
     },
     "execution_count": 21,
     "metadata": {},
     "output_type": "execute_result"
    }
   ],
   "source": [
    "sample_submission = pd.read_csv(project_dir + 'sample_submission.csv')\n",
    "ids = sample_submission['ID'].values.reshape(-1, 1)\n",
    "\n",
    "merged = np.concatenate((ids, test_pred), axis=1)\n",
    "submission = pd.DataFrame(merged, columns=sample_submission.columns).astype(int)\n",
    "\n",
    "submission"
   ]
  },
  {
   "cell_type": "code",
   "execution_count": 22,
   "metadata": {
    "execution": {
     "iopub.execute_input": "2020-08-24T08:03:57.885061Z",
     "iopub.status.busy": "2020-08-24T08:03:57.884477Z",
     "iopub.status.idle": "2020-08-24T08:03:57.965473Z",
     "shell.execute_reply": "2020-08-24T08:03:57.964540Z"
    },
    "id": "bS_suOKxERTd",
    "papermill": {
     "duration": 0.097945,
     "end_time": "2020-08-24T08:03:57.965578",
     "exception": false,
     "start_time": "2020-08-24T08:03:57.867633",
     "status": "completed"
    },
    "tags": []
   },
   "outputs": [],
   "source": [
    "submission_fname = f'submission_scibertfft_microf1-{round(best_val_micro_f1_score, 4)}.csv'\n",
    "submission.to_csv(submission_fname, index=False)"
   ]
  }
 ],
 "metadata": {
  "kernelspec": {
   "display_name": "Python 3",
   "language": "python",
   "name": "python3"
  },
  "language_info": {
   "codemirror_mode": {
    "name": "ipython",
    "version": 3
   },
   "file_extension": ".py",
   "mimetype": "text/x-python",
   "name": "python",
   "nbconvert_exporter": "python",
   "pygments_lexer": "ipython3",
   "version": "3.7.6"
  },
  "papermill": {
   "duration": 1213.319884,
   "end_time": "2020-08-24T08:03:59.007842",
   "environment_variables": {},
   "exception": null,
   "input_path": "__notebook__.ipynb",
   "output_path": "__notebook__.ipynb",
   "parameters": {},
   "start_time": "2020-08-24T07:43:45.687958",
   "version": "2.1.0"
  },
  "widgets": {
   "application/vnd.jupyter.widget-state+json": {
    "state": {
     "0014225175bd4db29c0308a17b1e23f0": {
      "model_module": "@jupyter-widgets/base",
      "model_module_version": "1.2.0",
      "model_name": "LayoutModel",
      "state": {
       "_model_module": "@jupyter-widgets/base",
       "_model_module_version": "1.2.0",
       "_model_name": "LayoutModel",
       "_view_count": null,
       "_view_module": "@jupyter-widgets/base",
       "_view_module_version": "1.2.0",
       "_view_name": "LayoutView",
       "align_content": null,
       "align_items": null,
       "align_self": null,
       "border": null,
       "bottom": null,
       "display": null,
       "flex": null,
       "flex_flow": null,
       "grid_area": null,
       "grid_auto_columns": null,
       "grid_auto_flow": null,
       "grid_auto_rows": null,
       "grid_column": null,
       "grid_gap": null,
       "grid_row": null,
       "grid_template_areas": null,
       "grid_template_columns": null,
       "grid_template_rows": null,
       "height": null,
       "justify_content": null,
       "justify_items": null,
       "left": null,
       "margin": null,
       "max_height": null,
       "max_width": null,
       "min_height": null,
       "min_width": null,
       "object_fit": null,
       "object_position": null,
       "order": null,
       "overflow": null,
       "overflow_x": null,
       "overflow_y": null,
       "padding": null,
       "right": null,
       "top": null,
       "visibility": null,
       "width": null
      }
     },
     "0514d0d919cc4f019d4a9758b2d369bf": {
      "model_module": "@jupyter-widgets/base",
      "model_module_version": "1.2.0",
      "model_name": "LayoutModel",
      "state": {
       "_model_module": "@jupyter-widgets/base",
       "_model_module_version": "1.2.0",
       "_model_name": "LayoutModel",
       "_view_count": null,
       "_view_module": "@jupyter-widgets/base",
       "_view_module_version": "1.2.0",
       "_view_name": "LayoutView",
       "align_content": null,
       "align_items": null,
       "align_self": null,
       "border": null,
       "bottom": null,
       "display": null,
       "flex": null,
       "flex_flow": null,
       "grid_area": null,
       "grid_auto_columns": null,
       "grid_auto_flow": null,
       "grid_auto_rows": null,
       "grid_column": null,
       "grid_gap": null,
       "grid_row": null,
       "grid_template_areas": null,
       "grid_template_columns": null,
       "grid_template_rows": null,
       "height": null,
       "justify_content": null,
       "justify_items": null,
       "left": null,
       "margin": null,
       "max_height": null,
       "max_width": null,
       "min_height": null,
       "min_width": null,
       "object_fit": null,
       "object_position": null,
       "order": null,
       "overflow": null,
       "overflow_x": null,
       "overflow_y": null,
       "padding": null,
       "right": null,
       "top": null,
       "visibility": null,
       "width": null
      }
     },
     "0b574e3724e840d1a545a9cfa977ec92": {
      "model_module": "@jupyter-widgets/controls",
      "model_module_version": "1.5.0",
      "model_name": "FloatProgressModel",
      "state": {
       "_dom_classes": [],
       "_model_module": "@jupyter-widgets/controls",
       "_model_module_version": "1.5.0",
       "_model_name": "FloatProgressModel",
       "_view_count": null,
       "_view_module": "@jupyter-widgets/controls",
       "_view_module_version": "1.5.0",
       "_view_name": "ProgressView",
       "bar_style": "success",
       "description": "Downloading: 100%",
       "description_tooltip": null,
       "layout": "IPY_MODEL_105d744ea373478dabb5d537c1297d0b",
       "max": 227845.0,
       "min": 0.0,
       "orientation": "horizontal",
       "style": "IPY_MODEL_26e981030e7543c99eacfd590459bd9c",
       "value": 227845.0
      }
     },
     "0c11b7aafaef4407888011cafc45e317": {
      "model_module": "@jupyter-widgets/base",
      "model_module_version": "1.2.0",
      "model_name": "LayoutModel",
      "state": {
       "_model_module": "@jupyter-widgets/base",
       "_model_module_version": "1.2.0",
       "_model_name": "LayoutModel",
       "_view_count": null,
       "_view_module": "@jupyter-widgets/base",
       "_view_module_version": "1.2.0",
       "_view_name": "LayoutView",
       "align_content": null,
       "align_items": null,
       "align_self": null,
       "border": null,
       "bottom": null,
       "display": null,
       "flex": null,
       "flex_flow": null,
       "grid_area": null,
       "grid_auto_columns": null,
       "grid_auto_flow": null,
       "grid_auto_rows": null,
       "grid_column": null,
       "grid_gap": null,
       "grid_row": null,
       "grid_template_areas": null,
       "grid_template_columns": null,
       "grid_template_rows": null,
       "height": null,
       "justify_content": null,
       "justify_items": null,
       "left": null,
       "margin": null,
       "max_height": null,
       "max_width": null,
       "min_height": null,
       "min_width": null,
       "object_fit": null,
       "object_position": null,
       "order": null,
       "overflow": null,
       "overflow_x": null,
       "overflow_y": null,
       "padding": null,
       "right": null,
       "top": null,
       "visibility": null,
       "width": null
      }
     },
     "105d744ea373478dabb5d537c1297d0b": {
      "model_module": "@jupyter-widgets/base",
      "model_module_version": "1.2.0",
      "model_name": "LayoutModel",
      "state": {
       "_model_module": "@jupyter-widgets/base",
       "_model_module_version": "1.2.0",
       "_model_name": "LayoutModel",
       "_view_count": null,
       "_view_module": "@jupyter-widgets/base",
       "_view_module_version": "1.2.0",
       "_view_name": "LayoutView",
       "align_content": null,
       "align_items": null,
       "align_self": null,
       "border": null,
       "bottom": null,
       "display": null,
       "flex": null,
       "flex_flow": null,
       "grid_area": null,
       "grid_auto_columns": null,
       "grid_auto_flow": null,
       "grid_auto_rows": null,
       "grid_column": null,
       "grid_gap": null,
       "grid_row": null,
       "grid_template_areas": null,
       "grid_template_columns": null,
       "grid_template_rows": null,
       "height": null,
       "justify_content": null,
       "justify_items": null,
       "left": null,
       "margin": null,
       "max_height": null,
       "max_width": null,
       "min_height": null,
       "min_width": null,
       "object_fit": null,
       "object_position": null,
       "order": null,
       "overflow": null,
       "overflow_x": null,
       "overflow_y": null,
       "padding": null,
       "right": null,
       "top": null,
       "visibility": null,
       "width": null
      }
     },
     "10b0d4ada60b4f1ea4449e3ed5442221": {
      "model_module": "@jupyter-widgets/controls",
      "model_module_version": "1.5.0",
      "model_name": "FloatProgressModel",
      "state": {
       "_dom_classes": [],
       "_model_module": "@jupyter-widgets/controls",
       "_model_module_version": "1.5.0",
       "_model_name": "FloatProgressModel",
       "_view_count": null,
       "_view_module": "@jupyter-widgets/controls",
       "_view_module_version": "1.5.0",
       "_view_name": "ProgressView",
       "bar_style": "success",
       "description": "Downloading: 100%",
       "description_tooltip": null,
       "layout": "IPY_MODEL_2372c0d5bbc64d6fb1e97a5c78e2ed81",
       "max": 442221694.0,
       "min": 0.0,
       "orientation": "horizontal",
       "style": "IPY_MODEL_8ec0c1b116944a5099c94415f90e46f5",
       "value": 442221694.0
      }
     },
     "1732ba7b8d474649944a4f06e63675e2": {
      "model_module": "@jupyter-widgets/controls",
      "model_module_version": "1.5.0",
      "model_name": "DescriptionStyleModel",
      "state": {
       "_model_module": "@jupyter-widgets/controls",
       "_model_module_version": "1.5.0",
       "_model_name": "DescriptionStyleModel",
       "_view_count": null,
       "_view_module": "@jupyter-widgets/base",
       "_view_module_version": "1.2.0",
       "_view_name": "StyleView",
       "description_width": ""
      }
     },
     "2372c0d5bbc64d6fb1e97a5c78e2ed81": {
      "model_module": "@jupyter-widgets/base",
      "model_module_version": "1.2.0",
      "model_name": "LayoutModel",
      "state": {
       "_model_module": "@jupyter-widgets/base",
       "_model_module_version": "1.2.0",
       "_model_name": "LayoutModel",
       "_view_count": null,
       "_view_module": "@jupyter-widgets/base",
       "_view_module_version": "1.2.0",
       "_view_name": "LayoutView",
       "align_content": null,
       "align_items": null,
       "align_self": null,
       "border": null,
       "bottom": null,
       "display": null,
       "flex": null,
       "flex_flow": null,
       "grid_area": null,
       "grid_auto_columns": null,
       "grid_auto_flow": null,
       "grid_auto_rows": null,
       "grid_column": null,
       "grid_gap": null,
       "grid_row": null,
       "grid_template_areas": null,
       "grid_template_columns": null,
       "grid_template_rows": null,
       "height": null,
       "justify_content": null,
       "justify_items": null,
       "left": null,
       "margin": null,
       "max_height": null,
       "max_width": null,
       "min_height": null,
       "min_width": null,
       "object_fit": null,
       "object_position": null,
       "order": null,
       "overflow": null,
       "overflow_x": null,
       "overflow_y": null,
       "padding": null,
       "right": null,
       "top": null,
       "visibility": null,
       "width": null
      }
     },
     "26e981030e7543c99eacfd590459bd9c": {
      "model_module": "@jupyter-widgets/controls",
      "model_module_version": "1.5.0",
      "model_name": "ProgressStyleModel",
      "state": {
       "_model_module": "@jupyter-widgets/controls",
       "_model_module_version": "1.5.0",
       "_model_name": "ProgressStyleModel",
       "_view_count": null,
       "_view_module": "@jupyter-widgets/base",
       "_view_module_version": "1.2.0",
       "_view_name": "StyleView",
       "bar_color": null,
       "description_width": "initial"
      }
     },
     "29c902438e4d49919c92ba3a99071909": {
      "model_module": "@jupyter-widgets/base",
      "model_module_version": "1.2.0",
      "model_name": "LayoutModel",
      "state": {
       "_model_module": "@jupyter-widgets/base",
       "_model_module_version": "1.2.0",
       "_model_name": "LayoutModel",
       "_view_count": null,
       "_view_module": "@jupyter-widgets/base",
       "_view_module_version": "1.2.0",
       "_view_name": "LayoutView",
       "align_content": null,
       "align_items": null,
       "align_self": null,
       "border": null,
       "bottom": null,
       "display": null,
       "flex": null,
       "flex_flow": null,
       "grid_area": null,
       "grid_auto_columns": null,
       "grid_auto_flow": null,
       "grid_auto_rows": null,
       "grid_column": null,
       "grid_gap": null,
       "grid_row": null,
       "grid_template_areas": null,
       "grid_template_columns": null,
       "grid_template_rows": null,
       "height": null,
       "justify_content": null,
       "justify_items": null,
       "left": null,
       "margin": null,
       "max_height": null,
       "max_width": null,
       "min_height": null,
       "min_width": null,
       "object_fit": null,
       "object_position": null,
       "order": null,
       "overflow": null,
       "overflow_x": null,
       "overflow_y": null,
       "padding": null,
       "right": null,
       "top": null,
       "visibility": null,
       "width": null
      }
     },
     "2b2fd72c80664d6dacb0615216c54004": {
      "model_module": "@jupyter-widgets/controls",
      "model_module_version": "1.5.0",
      "model_name": "HTMLModel",
      "state": {
       "_dom_classes": [],
       "_model_module": "@jupyter-widgets/controls",
       "_model_module_version": "1.5.0",
       "_model_name": "HTMLModel",
       "_view_count": null,
       "_view_module": "@jupyter-widgets/controls",
       "_view_module_version": "1.5.0",
       "_view_name": "HTMLView",
       "description": "",
       "description_tooltip": null,
       "layout": "IPY_MODEL_0014225175bd4db29c0308a17b1e23f0",
       "placeholder": "​",
       "style": "IPY_MODEL_1732ba7b8d474649944a4f06e63675e2",
       "value": " 984/984 [14:32&lt;00:00,  1.13it/s]"
      }
     },
     "3c61c11e53c442fd9d535c2e513ce270": {
      "model_module": "@jupyter-widgets/controls",
      "model_module_version": "1.5.0",
      "model_name": "HBoxModel",
      "state": {
       "_dom_classes": [],
       "_model_module": "@jupyter-widgets/controls",
       "_model_module_version": "1.5.0",
       "_model_name": "HBoxModel",
       "_view_count": null,
       "_view_module": "@jupyter-widgets/controls",
       "_view_module_version": "1.5.0",
       "_view_name": "HBoxView",
       "box_style": "",
       "children": [
        "IPY_MODEL_614c01646a864bb09021aa41ccd1f227",
        "IPY_MODEL_cd04ec83ed5742fa920f9a58bb4e3618"
       ],
       "layout": "IPY_MODEL_c94ae4309a55484a9ea92897b3b335a7"
      }
     },
     "4f4160ed33da4b3fa1f4f01687941d39": {
      "model_module": "@jupyter-widgets/controls",
      "model_module_version": "1.5.0",
      "model_name": "HBoxModel",
      "state": {
       "_dom_classes": [],
       "_model_module": "@jupyter-widgets/controls",
       "_model_module_version": "1.5.0",
       "_model_name": "HBoxModel",
       "_view_count": null,
       "_view_module": "@jupyter-widgets/controls",
       "_view_module_version": "1.5.0",
       "_view_name": "HBoxView",
       "box_style": "",
       "children": [
        "IPY_MODEL_10b0d4ada60b4f1ea4449e3ed5442221",
        "IPY_MODEL_99326e00d5e44c9386a4a5667d8ca138"
       ],
       "layout": "IPY_MODEL_ea03755ea4e147fb9edb58b58bf05f89"
      }
     },
     "55c4aa68be804b949ff8d22c7dd685df": {
      "model_module": "@jupyter-widgets/controls",
      "model_module_version": "1.5.0",
      "model_name": "DescriptionStyleModel",
      "state": {
       "_model_module": "@jupyter-widgets/controls",
       "_model_module_version": "1.5.0",
       "_model_name": "DescriptionStyleModel",
       "_view_count": null,
       "_view_module": "@jupyter-widgets/base",
       "_view_module_version": "1.2.0",
       "_view_name": "StyleView",
       "description_width": ""
      }
     },
     "588f23d7691b46f0bd43e3cc9b84c7b2": {
      "model_module": "@jupyter-widgets/controls",
      "model_module_version": "1.5.0",
      "model_name": "HBoxModel",
      "state": {
       "_dom_classes": [],
       "_model_module": "@jupyter-widgets/controls",
       "_model_module_version": "1.5.0",
       "_model_name": "HBoxModel",
       "_view_count": null,
       "_view_module": "@jupyter-widgets/controls",
       "_view_module_version": "1.5.0",
       "_view_name": "HBoxView",
       "box_style": "",
       "children": [
        "IPY_MODEL_0b574e3724e840d1a545a9cfa977ec92",
        "IPY_MODEL_d8bf586cfefc4179b37d06f514f8a95e"
       ],
       "layout": "IPY_MODEL_0514d0d919cc4f019d4a9758b2d369bf"
      }
     },
     "614c01646a864bb09021aa41ccd1f227": {
      "model_module": "@jupyter-widgets/controls",
      "model_module_version": "1.5.0",
      "model_name": "FloatProgressModel",
      "state": {
       "_dom_classes": [],
       "_model_module": "@jupyter-widgets/controls",
       "_model_module_version": "1.5.0",
       "_model_name": "FloatProgressModel",
       "_view_count": null,
       "_view_module": "@jupyter-widgets/controls",
       "_view_module_version": "1.5.0",
       "_view_name": "ProgressView",
       "bar_style": "success",
       "description": "Downloading: 100%",
       "description_tooltip": null,
       "layout": "IPY_MODEL_8434936340254eda86d0063c6031eead",
       "max": 385.0,
       "min": 0.0,
       "orientation": "horizontal",
       "style": "IPY_MODEL_d710587c1cee4bf69556b629a39590a3",
       "value": 385.0
      }
     },
     "64d5ae6864dd4289aad02ae7ba88789c": {
      "model_module": "@jupyter-widgets/base",
      "model_module_version": "1.2.0",
      "model_name": "LayoutModel",
      "state": {
       "_model_module": "@jupyter-widgets/base",
       "_model_module_version": "1.2.0",
       "_model_name": "LayoutModel",
       "_view_count": null,
       "_view_module": "@jupyter-widgets/base",
       "_view_module_version": "1.2.0",
       "_view_name": "LayoutView",
       "align_content": null,
       "align_items": null,
       "align_self": null,
       "border": null,
       "bottom": null,
       "display": null,
       "flex": null,
       "flex_flow": null,
       "grid_area": null,
       "grid_auto_columns": null,
       "grid_auto_flow": null,
       "grid_auto_rows": null,
       "grid_column": null,
       "grid_gap": null,
       "grid_row": null,
       "grid_template_areas": null,
       "grid_template_columns": null,
       "grid_template_rows": null,
       "height": null,
       "justify_content": null,
       "justify_items": null,
       "left": null,
       "margin": null,
       "max_height": null,
       "max_width": null,
       "min_height": null,
       "min_width": null,
       "object_fit": null,
       "object_position": null,
       "order": null,
       "overflow": null,
       "overflow_x": null,
       "overflow_y": null,
       "padding": null,
       "right": null,
       "top": null,
       "visibility": null,
       "width": null
      }
     },
     "651944e651474c948270797858c57e9a": {
      "model_module": "@jupyter-widgets/controls",
      "model_module_version": "1.5.0",
      "model_name": "FloatProgressModel",
      "state": {
       "_dom_classes": [],
       "_model_module": "@jupyter-widgets/controls",
       "_model_module_version": "1.5.0",
       "_model_name": "FloatProgressModel",
       "_view_count": null,
       "_view_module": "@jupyter-widgets/controls",
       "_view_module_version": "1.5.0",
       "_view_name": "ProgressView",
       "bar_style": "success",
       "description": "Epoch 0: 100%",
       "description_tooltip": null,
       "layout": "IPY_MODEL_6f4f6950cf4a4296a2c22b9c3fa76c92",
       "max": 984.0,
       "min": 0.0,
       "orientation": "horizontal",
       "style": "IPY_MODEL_bf14404d44a845899077c1c31c0b8a8d",
       "value": 984.0
      }
     },
     "684bdb8b77ec49abac572f1474dd4ee0": {
      "model_module": "@jupyter-widgets/controls",
      "model_module_version": "1.5.0",
      "model_name": "DescriptionStyleModel",
      "state": {
       "_model_module": "@jupyter-widgets/controls",
       "_model_module_version": "1.5.0",
       "_model_name": "DescriptionStyleModel",
       "_view_count": null,
       "_view_module": "@jupyter-widgets/base",
       "_view_module_version": "1.2.0",
       "_view_name": "StyleView",
       "description_width": ""
      }
     },
     "6f4f6950cf4a4296a2c22b9c3fa76c92": {
      "model_module": "@jupyter-widgets/base",
      "model_module_version": "1.2.0",
      "model_name": "LayoutModel",
      "state": {
       "_model_module": "@jupyter-widgets/base",
       "_model_module_version": "1.2.0",
       "_model_name": "LayoutModel",
       "_view_count": null,
       "_view_module": "@jupyter-widgets/base",
       "_view_module_version": "1.2.0",
       "_view_name": "LayoutView",
       "align_content": null,
       "align_items": null,
       "align_self": null,
       "border": null,
       "bottom": null,
       "display": null,
       "flex": null,
       "flex_flow": null,
       "grid_area": null,
       "grid_auto_columns": null,
       "grid_auto_flow": null,
       "grid_auto_rows": null,
       "grid_column": null,
       "grid_gap": null,
       "grid_row": null,
       "grid_template_areas": null,
       "grid_template_columns": null,
       "grid_template_rows": null,
       "height": null,
       "justify_content": null,
       "justify_items": null,
       "left": null,
       "margin": null,
       "max_height": null,
       "max_width": null,
       "min_height": null,
       "min_width": null,
       "object_fit": null,
       "object_position": null,
       "order": null,
       "overflow": null,
       "overflow_x": null,
       "overflow_y": null,
       "padding": null,
       "right": null,
       "top": null,
       "visibility": null,
       "width": null
      }
     },
     "7b35be0d7a654c96b74a0e6dc9bc0b19": {
      "model_module": "@jupyter-widgets/base",
      "model_module_version": "1.2.0",
      "model_name": "LayoutModel",
      "state": {
       "_model_module": "@jupyter-widgets/base",
       "_model_module_version": "1.2.0",
       "_model_name": "LayoutModel",
       "_view_count": null,
       "_view_module": "@jupyter-widgets/base",
       "_view_module_version": "1.2.0",
       "_view_name": "LayoutView",
       "align_content": null,
       "align_items": null,
       "align_self": null,
       "border": null,
       "bottom": null,
       "display": null,
       "flex": null,
       "flex_flow": null,
       "grid_area": null,
       "grid_auto_columns": null,
       "grid_auto_flow": null,
       "grid_auto_rows": null,
       "grid_column": null,
       "grid_gap": null,
       "grid_row": null,
       "grid_template_areas": null,
       "grid_template_columns": null,
       "grid_template_rows": null,
       "height": null,
       "justify_content": null,
       "justify_items": null,
       "left": null,
       "margin": null,
       "max_height": null,
       "max_width": null,
       "min_height": null,
       "min_width": null,
       "object_fit": null,
       "object_position": null,
       "order": null,
       "overflow": null,
       "overflow_x": null,
       "overflow_y": null,
       "padding": null,
       "right": null,
       "top": null,
       "visibility": null,
       "width": null
      }
     },
     "7ea9155674ee48c59bab2c55acea73dd": {
      "model_module": "@jupyter-widgets/controls",
      "model_module_version": "1.5.0",
      "model_name": "HBoxModel",
      "state": {
       "_dom_classes": [],
       "_model_module": "@jupyter-widgets/controls",
       "_model_module_version": "1.5.0",
       "_model_name": "HBoxModel",
       "_view_count": null,
       "_view_module": "@jupyter-widgets/controls",
       "_view_module_version": "1.5.0",
       "_view_name": "HBoxView",
       "box_style": "",
       "children": [
        "IPY_MODEL_651944e651474c948270797858c57e9a",
        "IPY_MODEL_2b2fd72c80664d6dacb0615216c54004"
       ],
       "layout": "IPY_MODEL_29c902438e4d49919c92ba3a99071909"
      }
     },
     "8434936340254eda86d0063c6031eead": {
      "model_module": "@jupyter-widgets/base",
      "model_module_version": "1.2.0",
      "model_name": "LayoutModel",
      "state": {
       "_model_module": "@jupyter-widgets/base",
       "_model_module_version": "1.2.0",
       "_model_name": "LayoutModel",
       "_view_count": null,
       "_view_module": "@jupyter-widgets/base",
       "_view_module_version": "1.2.0",
       "_view_name": "LayoutView",
       "align_content": null,
       "align_items": null,
       "align_self": null,
       "border": null,
       "bottom": null,
       "display": null,
       "flex": null,
       "flex_flow": null,
       "grid_area": null,
       "grid_auto_columns": null,
       "grid_auto_flow": null,
       "grid_auto_rows": null,
       "grid_column": null,
       "grid_gap": null,
       "grid_row": null,
       "grid_template_areas": null,
       "grid_template_columns": null,
       "grid_template_rows": null,
       "height": null,
       "justify_content": null,
       "justify_items": null,
       "left": null,
       "margin": null,
       "max_height": null,
       "max_width": null,
       "min_height": null,
       "min_width": null,
       "object_fit": null,
       "object_position": null,
       "order": null,
       "overflow": null,
       "overflow_x": null,
       "overflow_y": null,
       "padding": null,
       "right": null,
       "top": null,
       "visibility": null,
       "width": null
      }
     },
     "8ec0c1b116944a5099c94415f90e46f5": {
      "model_module": "@jupyter-widgets/controls",
      "model_module_version": "1.5.0",
      "model_name": "ProgressStyleModel",
      "state": {
       "_model_module": "@jupyter-widgets/controls",
       "_model_module_version": "1.5.0",
       "_model_name": "ProgressStyleModel",
       "_view_count": null,
       "_view_module": "@jupyter-widgets/base",
       "_view_module_version": "1.2.0",
       "_view_name": "StyleView",
       "bar_color": null,
       "description_width": "initial"
      }
     },
     "99326e00d5e44c9386a4a5667d8ca138": {
      "model_module": "@jupyter-widgets/controls",
      "model_module_version": "1.5.0",
      "model_name": "HTMLModel",
      "state": {
       "_dom_classes": [],
       "_model_module": "@jupyter-widgets/controls",
       "_model_module_version": "1.5.0",
       "_model_name": "HTMLModel",
       "_view_count": null,
       "_view_module": "@jupyter-widgets/controls",
       "_view_module_version": "1.5.0",
       "_view_name": "HTMLView",
       "description": "",
       "description_tooltip": null,
       "layout": "IPY_MODEL_7b35be0d7a654c96b74a0e6dc9bc0b19",
       "placeholder": "​",
       "style": "IPY_MODEL_ad59163554c74950a7e2528211f2086c",
       "value": " 442M/442M [00:18&lt;00:00, 23.6MB/s]"
      }
     },
     "ad59163554c74950a7e2528211f2086c": {
      "model_module": "@jupyter-widgets/controls",
      "model_module_version": "1.5.0",
      "model_name": "DescriptionStyleModel",
      "state": {
       "_model_module": "@jupyter-widgets/controls",
       "_model_module_version": "1.5.0",
       "_model_name": "DescriptionStyleModel",
       "_view_count": null,
       "_view_module": "@jupyter-widgets/base",
       "_view_module_version": "1.2.0",
       "_view_name": "StyleView",
       "description_width": ""
      }
     },
     "bf14404d44a845899077c1c31c0b8a8d": {
      "model_module": "@jupyter-widgets/controls",
      "model_module_version": "1.5.0",
      "model_name": "ProgressStyleModel",
      "state": {
       "_model_module": "@jupyter-widgets/controls",
       "_model_module_version": "1.5.0",
       "_model_name": "ProgressStyleModel",
       "_view_count": null,
       "_view_module": "@jupyter-widgets/base",
       "_view_module_version": "1.2.0",
       "_view_name": "StyleView",
       "bar_color": null,
       "description_width": "initial"
      }
     },
     "c94ae4309a55484a9ea92897b3b335a7": {
      "model_module": "@jupyter-widgets/base",
      "model_module_version": "1.2.0",
      "model_name": "LayoutModel",
      "state": {
       "_model_module": "@jupyter-widgets/base",
       "_model_module_version": "1.2.0",
       "_model_name": "LayoutModel",
       "_view_count": null,
       "_view_module": "@jupyter-widgets/base",
       "_view_module_version": "1.2.0",
       "_view_name": "LayoutView",
       "align_content": null,
       "align_items": null,
       "align_self": null,
       "border": null,
       "bottom": null,
       "display": null,
       "flex": null,
       "flex_flow": null,
       "grid_area": null,
       "grid_auto_columns": null,
       "grid_auto_flow": null,
       "grid_auto_rows": null,
       "grid_column": null,
       "grid_gap": null,
       "grid_row": null,
       "grid_template_areas": null,
       "grid_template_columns": null,
       "grid_template_rows": null,
       "height": null,
       "justify_content": null,
       "justify_items": null,
       "left": null,
       "margin": null,
       "max_height": null,
       "max_width": null,
       "min_height": null,
       "min_width": null,
       "object_fit": null,
       "object_position": null,
       "order": null,
       "overflow": null,
       "overflow_x": null,
       "overflow_y": null,
       "padding": null,
       "right": null,
       "top": null,
       "visibility": null,
       "width": null
      }
     },
     "cd04ec83ed5742fa920f9a58bb4e3618": {
      "model_module": "@jupyter-widgets/controls",
      "model_module_version": "1.5.0",
      "model_name": "HTMLModel",
      "state": {
       "_dom_classes": [],
       "_model_module": "@jupyter-widgets/controls",
       "_model_module_version": "1.5.0",
       "_model_name": "HTMLModel",
       "_view_count": null,
       "_view_module": "@jupyter-widgets/controls",
       "_view_module_version": "1.5.0",
       "_view_name": "HTMLView",
       "description": "",
       "description_tooltip": null,
       "layout": "IPY_MODEL_64d5ae6864dd4289aad02ae7ba88789c",
       "placeholder": "​",
       "style": "IPY_MODEL_684bdb8b77ec49abac572f1474dd4ee0",
       "value": " 385/385 [00:01&lt;00:00, 214B/s]"
      }
     },
     "d710587c1cee4bf69556b629a39590a3": {
      "model_module": "@jupyter-widgets/controls",
      "model_module_version": "1.5.0",
      "model_name": "ProgressStyleModel",
      "state": {
       "_model_module": "@jupyter-widgets/controls",
       "_model_module_version": "1.5.0",
       "_model_name": "ProgressStyleModel",
       "_view_count": null,
       "_view_module": "@jupyter-widgets/base",
       "_view_module_version": "1.2.0",
       "_view_name": "StyleView",
       "bar_color": null,
       "description_width": "initial"
      }
     },
     "d8bf586cfefc4179b37d06f514f8a95e": {
      "model_module": "@jupyter-widgets/controls",
      "model_module_version": "1.5.0",
      "model_name": "HTMLModel",
      "state": {
       "_dom_classes": [],
       "_model_module": "@jupyter-widgets/controls",
       "_model_module_version": "1.5.0",
       "_model_name": "HTMLModel",
       "_view_count": null,
       "_view_module": "@jupyter-widgets/controls",
       "_view_module_version": "1.5.0",
       "_view_name": "HTMLView",
       "description": "",
       "description_tooltip": null,
       "layout": "IPY_MODEL_0c11b7aafaef4407888011cafc45e317",
       "placeholder": "​",
       "style": "IPY_MODEL_55c4aa68be804b949ff8d22c7dd685df",
       "value": " 228k/228k [00:04&lt;00:00, 50.9kB/s]"
      }
     },
     "ea03755ea4e147fb9edb58b58bf05f89": {
      "model_module": "@jupyter-widgets/base",
      "model_module_version": "1.2.0",
      "model_name": "LayoutModel",
      "state": {
       "_model_module": "@jupyter-widgets/base",
       "_model_module_version": "1.2.0",
       "_model_name": "LayoutModel",
       "_view_count": null,
       "_view_module": "@jupyter-widgets/base",
       "_view_module_version": "1.2.0",
       "_view_name": "LayoutView",
       "align_content": null,
       "align_items": null,
       "align_self": null,
       "border": null,
       "bottom": null,
       "display": null,
       "flex": null,
       "flex_flow": null,
       "grid_area": null,
       "grid_auto_columns": null,
       "grid_auto_flow": null,
       "grid_auto_rows": null,
       "grid_column": null,
       "grid_gap": null,
       "grid_row": null,
       "grid_template_areas": null,
       "grid_template_columns": null,
       "grid_template_rows": null,
       "height": null,
       "justify_content": null,
       "justify_items": null,
       "left": null,
       "margin": null,
       "max_height": null,
       "max_width": null,
       "min_height": null,
       "min_width": null,
       "object_fit": null,
       "object_position": null,
       "order": null,
       "overflow": null,
       "overflow_x": null,
       "overflow_y": null,
       "padding": null,
       "right": null,
       "top": null,
       "visibility": null,
       "width": null
      }
     }
    },
    "version_major": 2,
    "version_minor": 0
   }
  }
 },
 "nbformat": 4,
 "nbformat_minor": 4
}
