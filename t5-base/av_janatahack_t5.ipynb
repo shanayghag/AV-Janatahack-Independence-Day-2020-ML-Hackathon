{
 "cells": [
  {
   "cell_type": "markdown",
   "execution_count": null,
   "metadata": {
    "id": "buleZD1j2kLm",
    "papermill": {
     "duration": 0.011607,
     "end_time": "2020-08-24T15:41:36.504070",
     "exception": false,
     "start_time": "2020-08-24T15:41:36.492463",
     "status": "completed"
    },
    "tags": []
   },
   "source": [
    "### [T5](https://github.com/google-research/text-to-text-transfer-transformer) \n",
    "- **Text-To-Text Transfer Transformer**\n",
    "- A unified framework that converts every language problem into a text-to-text format.\n",
    "- Achieves state-of-the-art results on many benchmarks covering summarization, question answering, text classification, and more.\n",
    "\n",
    "### Multi Class vs Multi Label Classification\n",
    "- **Multi Class** - There are multiple categories but each instance is assigned only one, therefore such problems are known as multi-class classification problem.\n",
    "- **Multi Label** - There are multiple categories and each instance can be assigned with multiple categories, so these types of problems are known as multi-label classification problem, where we have a set of target labels."
   ]
  },
  {
   "cell_type": "markdown",
   "execution_count": null,
   "metadata": {
    "id": "vr-nvX_HT4_K",
    "papermill": {
     "duration": 0.009929,
     "end_time": "2020-08-24T15:41:36.524183",
     "exception": false,
     "start_time": "2020-08-24T15:41:36.514254",
     "status": "completed"
    },
    "tags": []
   },
   "source": [
    "# Imports"
   ]
  },
  {
   "cell_type": "markdown",
   "execution_count": null,
   "metadata": {
    "id": "GqOpA5x73pYs",
    "papermill": {
     "duration": 0.009413,
     "end_time": "2020-08-24T15:41:36.545006",
     "exception": false,
     "start_time": "2020-08-24T15:41:36.535593",
     "status": "completed"
    },
    "tags": []
   },
   "source": [
    "The entire code is written using **PyTorch**.<br>\n",
    "We'll be using the **transformers** library by [huggingface](https://github.com/huggingface/transformers) as they provide wrappers for multiple Transformer models."
   ]
  },
  {
   "cell_type": "code",
   "execution_count": 1,
   "metadata": {
    "execution": {
     "iopub.execute_input": "2020-08-24T15:41:36.569097Z",
     "iopub.status.busy": "2020-08-24T15:41:36.568251Z",
     "iopub.status.idle": "2020-08-24T15:41:36.571375Z",
     "shell.execute_reply": "2020-08-24T15:41:36.570852Z"
    },
    "id": "9J7Ws11-9PqG",
    "outputId": "08f0756a-d074-467b-88b5-88deeab0f80e",
    "papermill": {
     "duration": 0.016695,
     "end_time": "2020-08-24T15:41:36.571483",
     "exception": false,
     "start_time": "2020-08-24T15:41:36.554788",
     "status": "completed"
    },
    "tags": []
   },
   "outputs": [],
   "source": [
    "# ! pip3 install transformers"
   ]
  },
  {
   "cell_type": "code",
   "execution_count": 2,
   "metadata": {
    "execution": {
     "iopub.execute_input": "2020-08-24T15:41:36.598312Z",
     "iopub.status.busy": "2020-08-24T15:41:36.597650Z",
     "iopub.status.idle": "2020-08-24T15:41:46.127418Z",
     "shell.execute_reply": "2020-08-24T15:41:46.126794Z"
    },
    "id": "07GPLpCt_AjQ",
    "papermill": {
     "duration": 9.546548,
     "end_time": "2020-08-24T15:41:46.127575",
     "exception": false,
     "start_time": "2020-08-24T15:41:36.581027",
     "status": "completed"
    },
    "tags": []
   },
   "outputs": [
    {
     "name": "stderr",
     "output_type": "stream",
     "text": [
      "\u001b[34m\u001b[1mwandb\u001b[0m: \u001b[33mWARNING\u001b[0m W&B installed but not logged in.  Run `wandb login` or set the WANDB_API_KEY env variable.\n"
     ]
    }
   ],
   "source": [
    "import pandas as pd\n",
    "import numpy as np\n",
    "import pickle\n",
    "import matplotlib.pyplot as plt\n",
    "import seaborn as sns\n",
    "import re\n",
    "import copy\n",
    "from tqdm.notebook import tqdm\n",
    "import gc\n",
    "\n",
    "import torch\n",
    "import torch.nn as nn\n",
    "import torch.nn.functional as F\n",
    "from torch import optim\n",
    "from torch.utils.data import Dataset, DataLoader\n",
    "\n",
    "from sklearn.metrics import (\n",
    "    accuracy_score, \n",
    "    f1_score, \n",
    "    classification_report\n",
    ")\n",
    "\n",
    "from transformers import (\n",
    "    T5Tokenizer, \n",
    "    T5Model,\n",
    "    T5ForConditionalGeneration,\n",
    "    get_linear_schedule_with_warmup\n",
    ")\n",
    "\n",
    "project_dir = '../input/avjanatahackresearcharticlesmlc/av_janatahack_data/'"
   ]
  },
  {
   "cell_type": "markdown",
   "execution_count": null,
   "metadata": {
    "id": "Xq9DeZKw35EJ",
    "papermill": {
     "duration": 0.009638,
     "end_time": "2020-08-24T15:41:46.147456",
     "exception": false,
     "start_time": "2020-08-24T15:41:46.137818",
     "status": "completed"
    },
    "tags": []
   },
   "source": [
    "Check the GPU configurations"
   ]
  },
  {
   "cell_type": "code",
   "execution_count": 3,
   "metadata": {
    "execution": {
     "iopub.execute_input": "2020-08-24T15:41:46.172826Z",
     "iopub.status.busy": "2020-08-24T15:41:46.172105Z",
     "iopub.status.idle": "2020-08-24T15:41:47.404713Z",
     "shell.execute_reply": "2020-08-24T15:41:47.404136Z"
    },
    "id": "-6_y9T71cQm2",
    "outputId": "99fa8aa6-724d-4ab7-eee8-bb6c9e78ebf2",
    "papermill": {
     "duration": 1.247384,
     "end_time": "2020-08-24T15:41:47.404845",
     "exception": false,
     "start_time": "2020-08-24T15:41:46.157461",
     "status": "completed"
    },
    "tags": []
   },
   "outputs": [
    {
     "name": "stdout",
     "output_type": "stream",
     "text": [
      "Mon Aug 24 15:41:47 2020       \r\n",
      "+-----------------------------------------------------------------------------+\r\n",
      "| NVIDIA-SMI 418.67       Driver Version: 418.67       CUDA Version: 10.1     |\r\n",
      "|-------------------------------+----------------------+----------------------+\r\n",
      "| GPU  Name        Persistence-M| Bus-Id        Disp.A | Volatile Uncorr. ECC |\r\n",
      "| Fan  Temp  Perf  Pwr:Usage/Cap|         Memory-Usage | GPU-Util  Compute M. |\r\n",
      "|===============================+======================+======================|\r\n",
      "|   0  Tesla P100-PCIE...  Off  | 00000000:00:04.0 Off |                    0 |\r\n",
      "| N/A   36C    P0    26W / 250W |      0MiB / 16280MiB |      0%      Default |\r\n",
      "+-------------------------------+----------------------+----------------------+\r\n",
      "                                                                               \r\n",
      "+-----------------------------------------------------------------------------+\r\n",
      "| Processes:                                                       GPU Memory |\r\n",
      "|  GPU       PID   Type   Process name                             Usage      |\r\n",
      "|=============================================================================|\r\n",
      "|  No running processes found                                                 |\r\n",
      "+-----------------------------------------------------------------------------+\r\n"
     ]
    }
   ],
   "source": [
    "! nvidia-smi"
   ]
  },
  {
   "cell_type": "markdown",
   "execution_count": null,
   "metadata": {
    "id": "1U4JGRlCV6rU",
    "papermill": {
     "duration": 0.013313,
     "end_time": "2020-08-24T15:41:47.428958",
     "exception": false,
     "start_time": "2020-08-24T15:41:47.415645",
     "status": "completed"
    },
    "tags": []
   },
   "source": [
    "# Data Preprocessing"
   ]
  },
  {
   "cell_type": "markdown",
   "execution_count": null,
   "metadata": {
    "id": "ypmZbRxV4TFb",
    "papermill": {
     "duration": 0.014202,
     "end_time": "2020-08-24T15:41:47.457569",
     "exception": false,
     "start_time": "2020-08-24T15:41:47.443367",
     "status": "completed"
    },
    "tags": []
   },
   "source": [
    "We're using just the abstract text, but concatenating the title text along with it performed better on the leaderboard. \n",
    "<br><br>\n",
    "\n",
    "#### Abstracts\n",
    "- Stripping extra whitespaces around the text.\n",
    "- Replacing escape characters with whitespace.\n",
    "- Padding all punctuations with whitespaces on both sides.\n",
    "\n",
    "#### Labels\n",
    "- Convert the one hot encoded labels to textual format (since T5 only deals with textual data).<br>\n",
    "e.g. OHE Labels - [1, 0, 1, 0, 1]<br>T5 Labels - 'computer_science, mathematics, quantitative_finance'\n",
    "\n",
    "#### Additional Tips\n",
    "- Replacing Latex equations with a special token.\n",
    "- Data Augmentation. \n",
    "\n"
   ]
  },
  {
   "cell_type": "code",
   "execution_count": 4,
   "metadata": {
    "execution": {
     "iopub.execute_input": "2020-08-24T15:41:47.497792Z",
     "iopub.status.busy": "2020-08-24T15:41:47.497162Z",
     "iopub.status.idle": "2020-08-24T15:41:47.815883Z",
     "shell.execute_reply": "2020-08-24T15:41:47.814583Z"
    },
    "id": "MD7iAF-f1646",
    "outputId": "edad850d-6f19-4882-8f44-d37e1b9a9e6f",
    "papermill": {
     "duration": 0.34568,
     "end_time": "2020-08-24T15:41:47.815995",
     "exception": false,
     "start_time": "2020-08-24T15:41:47.470315",
     "status": "completed"
    },
    "tags": []
   },
   "outputs": [
    {
     "data": {
      "text/html": [
       "<div>\n",
       "<style scoped>\n",
       "    .dataframe tbody tr th:only-of-type {\n",
       "        vertical-align: middle;\n",
       "    }\n",
       "\n",
       "    .dataframe tbody tr th {\n",
       "        vertical-align: top;\n",
       "    }\n",
       "\n",
       "    .dataframe thead th {\n",
       "        text-align: right;\n",
       "    }\n",
       "</style>\n",
       "<table border=\"1\" class=\"dataframe\">\n",
       "  <thead>\n",
       "    <tr style=\"text-align: right;\">\n",
       "      <th></th>\n",
       "      <th>ID</th>\n",
       "      <th>TITLE</th>\n",
       "      <th>ABSTRACT</th>\n",
       "      <th>Computer Science</th>\n",
       "      <th>Physics</th>\n",
       "      <th>Mathematics</th>\n",
       "      <th>Statistics</th>\n",
       "      <th>Quantitative Biology</th>\n",
       "      <th>Quantitative Finance</th>\n",
       "    </tr>\n",
       "  </thead>\n",
       "  <tbody>\n",
       "    <tr>\n",
       "      <th>0</th>\n",
       "      <td>1</td>\n",
       "      <td>Reconstructing Subject-Specific Effect Maps</td>\n",
       "      <td>Predictive models allow subject-specific inf...</td>\n",
       "      <td>1</td>\n",
       "      <td>0</td>\n",
       "      <td>0</td>\n",
       "      <td>0</td>\n",
       "      <td>0</td>\n",
       "      <td>0</td>\n",
       "    </tr>\n",
       "    <tr>\n",
       "      <th>1</th>\n",
       "      <td>2</td>\n",
       "      <td>Rotation Invariance Neural Network</td>\n",
       "      <td>Rotation invariance and translation invarian...</td>\n",
       "      <td>1</td>\n",
       "      <td>0</td>\n",
       "      <td>0</td>\n",
       "      <td>0</td>\n",
       "      <td>0</td>\n",
       "      <td>0</td>\n",
       "    </tr>\n",
       "    <tr>\n",
       "      <th>2</th>\n",
       "      <td>3</td>\n",
       "      <td>Spherical polyharmonics and Poisson kernels fo...</td>\n",
       "      <td>We introduce and develop the notion of spher...</td>\n",
       "      <td>0</td>\n",
       "      <td>0</td>\n",
       "      <td>1</td>\n",
       "      <td>0</td>\n",
       "      <td>0</td>\n",
       "      <td>0</td>\n",
       "    </tr>\n",
       "    <tr>\n",
       "      <th>3</th>\n",
       "      <td>4</td>\n",
       "      <td>A finite element approximation for the stochas...</td>\n",
       "      <td>The stochastic Landau--Lifshitz--Gilbert (LL...</td>\n",
       "      <td>0</td>\n",
       "      <td>0</td>\n",
       "      <td>1</td>\n",
       "      <td>0</td>\n",
       "      <td>0</td>\n",
       "      <td>0</td>\n",
       "    </tr>\n",
       "    <tr>\n",
       "      <th>4</th>\n",
       "      <td>5</td>\n",
       "      <td>Comparative study of Discrete Wavelet Transfor...</td>\n",
       "      <td>Fourier-transform infra-red (FTIR) spectra o...</td>\n",
       "      <td>1</td>\n",
       "      <td>0</td>\n",
       "      <td>0</td>\n",
       "      <td>1</td>\n",
       "      <td>0</td>\n",
       "      <td>0</td>\n",
       "    </tr>\n",
       "  </tbody>\n",
       "</table>\n",
       "</div>"
      ],
      "text/plain": [
       "   ID                                              TITLE  \\\n",
       "0   1        Reconstructing Subject-Specific Effect Maps   \n",
       "1   2                 Rotation Invariance Neural Network   \n",
       "2   3  Spherical polyharmonics and Poisson kernels fo...   \n",
       "3   4  A finite element approximation for the stochas...   \n",
       "4   5  Comparative study of Discrete Wavelet Transfor...   \n",
       "\n",
       "                                            ABSTRACT  Computer Science  \\\n",
       "0    Predictive models allow subject-specific inf...                 1   \n",
       "1    Rotation invariance and translation invarian...                 1   \n",
       "2    We introduce and develop the notion of spher...                 0   \n",
       "3    The stochastic Landau--Lifshitz--Gilbert (LL...                 0   \n",
       "4    Fourier-transform infra-red (FTIR) spectra o...                 1   \n",
       "\n",
       "   Physics  Mathematics  Statistics  Quantitative Biology  \\\n",
       "0        0            0           0                     0   \n",
       "1        0            0           0                     0   \n",
       "2        0            1           0                     0   \n",
       "3        0            1           0                     0   \n",
       "4        0            0           1                     0   \n",
       "\n",
       "   Quantitative Finance  \n",
       "0                     0  \n",
       "1                     0  \n",
       "2                     0  \n",
       "3                     0  \n",
       "4                     0  "
      ]
     },
     "execution_count": 4,
     "metadata": {},
     "output_type": "execute_result"
    }
   ],
   "source": [
    "train_df = pd.read_csv(project_dir + 'train.csv')\n",
    "train_df.head()"
   ]
  },
  {
   "cell_type": "code",
   "execution_count": 5,
   "metadata": {
    "execution": {
     "iopub.execute_input": "2020-08-24T15:41:47.878409Z",
     "iopub.status.busy": "2020-08-24T15:41:47.861924Z",
     "iopub.status.idle": "2020-08-24T15:41:50.428388Z",
     "shell.execute_reply": "2020-08-24T15:41:50.427637Z"
    },
    "id": "6fTMIgN3XrPc",
    "outputId": "c1f4e636-ca17-4f63-adbd-2bfa72c299df",
    "papermill": {
     "duration": 2.601991,
     "end_time": "2020-08-24T15:41:50.428563",
     "exception": false,
     "start_time": "2020-08-24T15:41:47.826572",
     "status": "completed"
    },
    "tags": []
   },
   "outputs": [
    {
     "name": "stdout",
     "output_type": "stream",
     "text": [
      "TEXT -\tmultilabel classification: Predictive models allow subject-specific inference when analyzing disease related alterations in neuroimaging data .  Given a subject's data ,  inference can be made at two levels: global ,  i . e .  identifiying condition presence for the subject ,  and local ,  i . e .  detecting condition effect on each individual measurement extracted from the subject's data .  While global inference is widely used ,  local inference ,  which can be used to form subject-specific effect maps ,  is rarely used because existing models often yield noisy detections composed of dispersed isolated islands .  In this article ,  we propose a reconstruction method ,  named RSM ,  to improve subject-specific detections of predictive modeling approaches and in particular ,  binary classifiers .  RSM specifically aims to reduce noise due to sampling error associated with using a finite sample of examples to train classifiers .  The proposed method is a wrapper-type algorithm that can be used with different binary classifiers in a diagnostic manner ,  i . e .  without information on condition presence .  Reconstruction is posed as a Maximum-A-Posteriori problem with a prior model whose parameters are estimated from training data in a classifier-specific fashion .  Experimental evaluation is performed on synthetically generated data and data from the Alzheimer's Disease Neuroimaging Initiative  ( ADNI )  database .  Results on synthetic data demonstrate that using RSM yields higher detection accuracy compared to using models directly or with bootstrap averaging .  Analyses on the ADNI dataset show that RSM can also improve correlation between subject-specific detections in cortical thickness data and non-imaging markers of Alzheimer's Disease  ( AD )  ,  such as the Mini Mental State Examination Score and Cerebrospinal Fluid amyloid-$\\beta$ levels .  Further reliability studies on the longitudinal ADNI dataset show improvement on detection reliability when RSM is used . \n",
      "LABEL -\tcomputer science </s>\n",
      "\n",
      "TEXT -\tmultilabel classification: Rotation invariance and translation invariance have great values in image recognition tasks .  In this paper ,  we bring a new architecture in convolutional neural network  ( CNN )  named cyclic convolutional layer to achieve rotation invariance in 2-D symbol recognition .  We can also get the position and orientation of the 2-D symbol by the network to achieve detection purpose for multiple non-overlap target .  Last but not least ,  this architecture can achieve one-shot learning in some cases using those invariance . \n",
      "LABEL -\tcomputer science </s>\n",
      "\n",
      "TEXT -\tmultilabel classification: We introduce and develop the notion of spherical polyharmonics ,  which are a natural generalisation of spherical harmonics .  In particular we study the theory of zonal polyharmonics ,  which allows us ,  analogously to zonal harmonics ,  to construct Poisson kernels for polyharmonic functions on the union of rotated balls .  We find the representation of Poisson kernels and zonal polyharmonics in terms of the Gegenbauer polynomials .  We show the connection between the classical Poisson kernel for harmonic functions on the ball ,  Poisson kernels for polyharmonic functions on the union of rotated balls ,  and the Cauchy-Hua kernel for holomorphic functions on the Lie ball . \n",
      "LABEL -\tmathematics </s>\n",
      "\n",
      "TEXT -\tmultilabel classification: The stochastic Landau--Lifshitz--Gilbert  ( LLG )  equation coupled with the Maxwell equations  ( the so called stochastic MLLG system )  describes the creation of domain walls and vortices  ( fundamental objects for the novel nanostructured magnetic memories )  .  We first reformulate the stochastic LLG equation into an equation with time-differentiable solutions .  We then propose a convergent $\\theta$-linear scheme to approximate the solutions of the reformulated system .  As a consequence ,  we prove convergence of the approximate solutions ,  with no or minor conditions on time and space steps  ( depending on the value of $\\theta$ )  .  Hence ,  we prove the existence of weak martingale solutions of the stochastic MLLG system .  Numerical results are presented to show applicability of the method . \n",
      "LABEL -\tmathematics </s>\n",
      "\n",
      "TEXT -\tmultilabel classification: Fourier-transform infra-red  ( FTIR )  spectra of samples from 7 plant species were used to explore the influence of preprocessing and feature extraction on efficiency of machine learning algorithms .  Wavelet Tensor Train  ( WTT )  and Discrete Wavelet Transforms  ( DWT )  were compared as feature extraction techniques for FTIR data of medicinal plants .  Various combinations of signal processing steps showed different behavior when applied to classification and clustering tasks .  Best results for WTT and DWT found through grid search were similar ,  significantly improving quality of clustering as well as classification accuracy for tuned logistic regression in comparison to original spectra .  Unlike DWT ,  WTT has only one parameter to be tuned  ( rank )  ,  making it a more versatile and easier to use as a data processing tool in various signal processing applications . \n",
      "LABEL -\tcomputer science , statistics </s>\n",
      "\n"
     ]
    }
   ],
   "source": [
    "# preprocessing\n",
    "def clean_abstract(text):\n",
    "    text = text.split()\n",
    "    text = [x.strip() for x in text]\n",
    "    text = [x.replace('\\n', ' ').replace('\\t', ' ') for x in text]\n",
    "    text = ' '.join(text)\n",
    "    text = re.sub('([.,!?()])', r' \\1 ', text)\n",
    "    return text\n",
    "    \n",
    "\n",
    "def get_texts(df):\n",
    "    texts = 'multilabel classification: ' + df['ABSTRACT'].apply(clean_abstract)\n",
    "    texts = texts.values.tolist()\n",
    "    return texts\n",
    "\n",
    "\n",
    "def get_labels(df):\n",
    "    labels_li = [' '.join(x.lower().split()) for x in df.columns.to_list()[3:]]\n",
    "    labels_matrix = np.array([labels_li] * len(df))\n",
    "\n",
    "    mask = df.iloc[:, 3:].values.astype(bool)\n",
    "    labels = []\n",
    "    for l, m in zip(labels_matrix, mask):\n",
    "        x = l[m]\n",
    "        if len(x) > 0:\n",
    "            labels.append(' , '.join(x.tolist()) + ' </s>')\n",
    "        else:\n",
    "            labels.append('none </s>')\n",
    "    return labels\n",
    "\n",
    "texts = get_texts(train_df)\n",
    "labels = get_labels(train_df)\n",
    "\n",
    "for text, label in zip(texts[:5], labels[:5]):\n",
    "    print(f'TEXT -\\t{text}')\n",
    "    print(f'LABEL -\\t{label}')\n",
    "    print()"
   ]
  },
  {
   "cell_type": "markdown",
   "execution_count": null,
   "metadata": {
    "id": "aT9k73IR-cXi",
    "papermill": {
     "duration": 0.015171,
     "end_time": "2020-08-24T15:41:50.465593",
     "exception": false,
     "start_time": "2020-08-24T15:41:50.450422",
     "status": "completed"
    },
    "tags": []
   },
   "source": [
    "# Exploratory Data Analysis"
   ]
  },
  {
   "cell_type": "code",
   "execution_count": 6,
   "metadata": {
    "execution": {
     "iopub.execute_input": "2020-08-24T15:41:50.507701Z",
     "iopub.status.busy": "2020-08-24T15:41:50.506728Z",
     "iopub.status.idle": "2020-08-24T15:41:50.696544Z",
     "shell.execute_reply": "2020-08-24T15:41:50.697011Z"
    },
    "id": "tzhhM_xO_vbC",
    "outputId": "07a3fb85-fed9-42b0-e856-cf8178fd0ce3",
    "papermill": {
     "duration": 0.216436,
     "end_time": "2020-08-24T15:41:50.697159",
     "exception": false,
     "start_time": "2020-08-24T15:41:50.480723",
     "status": "completed"
    },
    "tags": []
   },
   "outputs": [
    {
     "data": {
      "image/png": "[encoded data removed]",
      "text/plain": [
       "<Figure size 432x288 with 1 Axes>"
      ]
     },
     "metadata": {
      "needs_background": "light"
     },
     "output_type": "display_data"
    }
   ],
   "source": [
    "# no. of samples for each class\n",
    "categories = train_df.columns.to_list()[3:]\n",
    "plt.figure(figsize=(6, 4))\n",
    "\n",
    "ax = sns.barplot(categories, train_df.iloc[:, 3:].sum().values)\n",
    "plt.ylabel('Number of papers')\n",
    "plt.xlabel('Paper type ')\n",
    "plt.xticks(rotation=90)\n",
    "plt.show()"
   ]
  },
  {
   "cell_type": "code",
   "execution_count": 7,
   "metadata": {
    "execution": {
     "iopub.execute_input": "2020-08-24T15:41:50.727887Z",
     "iopub.status.busy": "2020-08-24T15:41:50.727013Z",
     "iopub.status.idle": "2020-08-24T15:41:50.850811Z",
     "shell.execute_reply": "2020-08-24T15:41:50.851309Z"
    },
    "id": "JCEeX6N7_vd_",
    "outputId": "cc5448ec-e014-4611-cc27-4a9b1b51d7fc",
    "papermill": {
     "duration": 0.142886,
     "end_time": "2020-08-24T15:41:50.851480",
     "exception": false,
     "start_time": "2020-08-24T15:41:50.708594",
     "status": "completed"
    },
    "tags": []
   },
   "outputs": [
    {
     "data": {
      "image/png": "[encoded data removed]",
      "text/plain": [
       "<Figure size 432x288 with 1 Axes>"
      ]
     },
     "metadata": {
      "needs_background": "light"
     },
     "output_type": "display_data"
    }
   ],
   "source": [
    "# no of samples having multiple labels\n",
    "row_sums = train_df.iloc[:, 3:].sum(axis=1)\n",
    "multilabel_counts = row_sums.value_counts()\n",
    "\n",
    "plt.figure(figsize=(6, 4))\n",
    "ax = sns.barplot(multilabel_counts.index, multilabel_counts.values)\n",
    "plt.ylabel('Number of papers')\n",
    "plt.xlabel('Number of labels')\n",
    "plt.show()"
   ]
  },
  {
   "cell_type": "code",
   "execution_count": 8,
   "metadata": {
    "execution": {
     "iopub.execute_input": "2020-08-24T15:41:50.898169Z",
     "iopub.status.busy": "2020-08-24T15:41:50.887934Z",
     "iopub.status.idle": "2020-08-24T15:42:32.997516Z",
     "shell.execute_reply": "2020-08-24T15:42:32.997988Z"
    },
    "id": "8TUCM-pH_vkj",
    "outputId": "92beaf94-0a60-4b62-f7ee-eb4a1beaf9b2",
    "papermill": {
     "duration": 42.134788,
     "end_time": "2020-08-24T15:42:32.998120",
     "exception": false,
     "start_time": "2020-08-24T15:41:50.863332",
     "status": "completed"
    },
    "tags": []
   },
   "outputs": [
    {
     "data": {
      "text/plain": [
       "<BarContainer object of 20972 artists>"
      ]
     },
     "execution_count": 8,
     "metadata": {},
     "output_type": "execute_result"
    },
    {
     "data": {
      "image/png": "[encoded data removed]",
      "text/plain": [
       "<Figure size 432x288 with 1 Axes>"
      ]
     },
     "metadata": {
      "needs_background": "light"
     },
     "output_type": "display_data"
    }
   ],
   "source": [
    "# text lengths\n",
    "y = [len(t.split()) for t in texts]\n",
    "x = range(0, len(y))\n",
    "plt.bar(x, y)"
   ]
  },
  {
   "cell_type": "code",
   "execution_count": 9,
   "metadata": {
    "execution": {
     "iopub.execute_input": "2020-08-24T15:42:33.039274Z",
     "iopub.status.busy": "2020-08-24T15:42:33.032889Z",
     "iopub.status.idle": "2020-08-24T15:43:18.067203Z",
     "shell.execute_reply": "2020-08-24T15:43:18.067683Z"
    },
    "id": "TQ3KAWVQmDhU",
    "outputId": "6e8decc8-b621-4ae1-ef50-c70974bf2671",
    "papermill": {
     "duration": 45.058553,
     "end_time": "2020-08-24T15:43:18.067842",
     "exception": false,
     "start_time": "2020-08-24T15:42:33.009289",
     "status": "completed"
    },
    "tags": []
   },
   "outputs": [
    {
     "data": {
      "text/plain": [
       "<BarContainer object of 20972 artists>"
      ]
     },
     "execution_count": 9,
     "metadata": {},
     "output_type": "execute_result"
    },
    {
     "data": {
      "image/png": "[encoded data removed]",
      "text/plain": [
       "<Figure size 432x288 with 1 Axes>"
      ]
     },
     "metadata": {
      "needs_background": "light"
     },
     "output_type": "display_data"
    }
   ],
   "source": [
    "# label lengths\n",
    "y = [len(l.split()) for l in labels]\n",
    "x = range(0, len(y))\n",
    "plt.bar(x, y)"
   ]
  },
  {
   "cell_type": "markdown",
   "execution_count": null,
   "metadata": {
    "id": "5dp75He4ASYG",
    "papermill": {
     "duration": 0.011412,
     "end_time": "2020-08-24T15:43:18.090956",
     "exception": false,
     "start_time": "2020-08-24T15:43:18.079544",
     "status": "completed"
    },
    "tags": []
   },
   "source": [
    "From the plot above we can infer that, **320** seems like a good choice for **src MAX_LENGTH** and appx. **15** for **tgt MAX_LENGTH**.<br><br>\n",
    "**Convention**\n",
    "- src - texts<br>\n",
    "- tgt - labels"
   ]
  },
  {
   "cell_type": "markdown",
   "execution_count": null,
   "metadata": {
    "id": "ZZI7LZDlAdLX",
    "papermill": {
     "duration": 0.011759,
     "end_time": "2020-08-24T15:43:18.114910",
     "exception": false,
     "start_time": "2020-08-24T15:43:18.103151",
     "status": "completed"
    },
    "tags": []
   },
   "source": [
    "# Config"
   ]
  },
  {
   "cell_type": "markdown",
   "execution_count": null,
   "metadata": {
    "id": "QSGO0JwZBmyq",
    "papermill": {
     "duration": 0.011526,
     "end_time": "2020-08-24T15:43:18.137837",
     "exception": false,
     "start_time": "2020-08-24T15:43:18.126311",
     "status": "completed"
    },
    "tags": []
   },
   "source": [
    "Here we define a Config class, which contains all the fixed parameters & hyperparameters required for **Dataset** creation as well as **Model** training."
   ]
  },
  {
   "cell_type": "code",
   "execution_count": 10,
   "metadata": {
    "execution": {
     "iopub.execute_input": "2020-08-24T15:43:18.170604Z",
     "iopub.status.busy": "2020-08-24T15:43:18.169713Z",
     "iopub.status.idle": "2020-08-24T15:43:18.900238Z",
     "shell.execute_reply": "2020-08-24T15:43:18.901301Z"
    },
    "id": "F5MG2LCST-Co",
    "papermill": {
     "duration": 0.752355,
     "end_time": "2020-08-24T15:43:18.901482",
     "exception": false,
     "start_time": "2020-08-24T15:43:18.149127",
     "status": "completed"
    },
    "tags": []
   },
   "outputs": [
    {
     "data": {
      "application/vnd.jupyter.widget-view+json": {
       "model_id": "db56908e6b1b40889fa9a0fe337e4e67",
       "version_major": 2,
       "version_minor": 0
      },
      "text/plain": [
       "HBox(children=(FloatProgress(value=0.0, description='Downloading', max=791656.0, style=ProgressStyle(descripti…"
      ]
     },
     "metadata": {},
     "output_type": "display_data"
    },
    {
     "name": "stdout",
     "output_type": "stream",
     "text": [
      "\n"
     ]
    }
   ],
   "source": [
    "class Config:\n",
    "    def __init__(self):\n",
    "        super(Config, self).__init__()\n",
    "\n",
    "        self.SEED = 42\n",
    "        self.MODEL_PATH = 't5-base'\n",
    "\n",
    "        # data\n",
    "        self.TOKENIZER = T5Tokenizer.from_pretrained(self.MODEL_PATH)\n",
    "        self.SRC_MAX_LENGTH = 320\n",
    "        self.TGT_MAX_LENGTH = 20\n",
    "        self.BATCH_SIZE = 16\n",
    "        self.VALIDATION_SPLIT = 0.25\n",
    "\n",
    "        # model\n",
    "        self.DEVICE = torch.device('cuda' if torch.cuda.is_available() else 'cpu')\n",
    "        self.FULL_FINETUNING = True\n",
    "        self.LR = 3e-5\n",
    "        self.OPTIMIZER = 'AdamW'\n",
    "        self.CRITERION = 'BCEWithLogitsLoss'\n",
    "        self.SAVE_BEST_ONLY = True\n",
    "        self.N_VALIDATE_DUR_TRAIN = 3\n",
    "        self.EPOCHS = 1\n",
    "\n",
    "config = Config()"
   ]
  },
  {
   "cell_type": "markdown",
   "execution_count": null,
   "metadata": {
    "id": "e1AhmXnXByg5",
    "papermill": {
     "duration": 0.01177,
     "end_time": "2020-08-24T15:43:18.926370",
     "exception": false,
     "start_time": "2020-08-24T15:43:18.914600",
     "status": "completed"
    },
    "tags": []
   },
   "source": [
    "# Dataset & Dataloader"
   ]
  },
  {
   "cell_type": "markdown",
   "execution_count": null,
   "metadata": {
    "id": "cwrzxPV8B1Es",
    "papermill": {
     "duration": 0.011505,
     "end_time": "2020-08-24T15:43:18.949878",
     "exception": false,
     "start_time": "2020-08-24T15:43:18.938373",
     "status": "completed"
    },
    "tags": []
   },
   "source": [
    "Now, we'll create a custom Dataset class inherited from the PyTorch Dataset class. We'll be using the **T5 tokenizer** that returns **input_ids** and **attention_mask**.<br><br>\n",
    "The custom Dataset class will return a dict containing - <br>\n",
    "\n",
    "- src_input_ids\n",
    "- src_attention_mask\n",
    "- tgt_input_ids'\n",
    "-tgt_attention_mask"
   ]
  },
  {
   "cell_type": "code",
   "execution_count": 11,
   "metadata": {
    "execution": {
     "iopub.execute_input": "2020-08-24T15:43:18.991107Z",
     "iopub.status.busy": "2020-08-24T15:43:18.990179Z",
     "iopub.status.idle": "2020-08-24T15:43:18.992978Z",
     "shell.execute_reply": "2020-08-24T15:43:18.993457Z"
    },
    "id": "62kL6XSQUon-",
    "papermill": {
     "duration": 0.031613,
     "end_time": "2020-08-24T15:43:18.993605",
     "exception": false,
     "start_time": "2020-08-24T15:43:18.961992",
     "status": "completed"
    },
    "tags": []
   },
   "outputs": [],
   "source": [
    "class T5Dataset(Dataset):\n",
    "    def __init__(self, df, indices, set_type=None):\n",
    "        super(T5Dataset, self).__init__()\n",
    "\n",
    "        df = df.iloc[indices]\n",
    "        self.texts = get_texts(df)\n",
    "        self.set_type = set_type\n",
    "        if self.set_type != 'test':\n",
    "            self.labels = get_labels(df)\n",
    "\n",
    "        self.tokenizer = config.TOKENIZER\n",
    "        self.src_max_length = config.SRC_MAX_LENGTH\n",
    "        self.tgt_max_length = config.TGT_MAX_LENGTH\n",
    "\n",
    "    def __len__(self):\n",
    "        return len(self.texts)\n",
    "    \n",
    "    def __getitem__(self, index):\n",
    "        src_tokenized = self.tokenizer.encode_plus(\n",
    "            self.texts[index], \n",
    "            max_length=self.src_max_length,\n",
    "            pad_to_max_length=True,\n",
    "            truncation=True,\n",
    "            return_attention_mask=True,\n",
    "            return_token_type_ids=False,\n",
    "            return_tensors='pt'\n",
    "        )\n",
    "        src_input_ids = src_tokenized['input_ids'].squeeze()\n",
    "        src_attention_mask = src_tokenized['attention_mask'].squeeze()\n",
    "\n",
    "        if self.set_type != 'test':\n",
    "            tgt_tokenized = self.tokenizer.encode_plus(\n",
    "                self.labels[index], \n",
    "                max_length=self.tgt_max_length,\n",
    "                pad_to_max_length=True,\n",
    "                truncation=True,\n",
    "                return_attention_mask=True,\n",
    "                return_token_type_ids=False,\n",
    "                return_tensors='pt'\n",
    "            )\n",
    "            tgt_input_ids = tgt_tokenized['input_ids'].squeeze()\n",
    "            tgt_attention_mask = tgt_tokenized['attention_mask'].squeeze()\n",
    "\n",
    "            return {\n",
    "                'src_input_ids': src_input_ids.long(),\n",
    "                'src_attention_mask': src_attention_mask.long(),\n",
    "                'tgt_input_ids': tgt_input_ids.long(),\n",
    "                'tgt_attention_mask': tgt_attention_mask.long()\n",
    "            }\n",
    "\n",
    "        return {\n",
    "            'src_input_ids': src_input_ids.long(),\n",
    "            'src_attention_mask': src_attention_mask.long()\n",
    "        }"
   ]
  },
  {
   "cell_type": "markdown",
   "execution_count": null,
   "metadata": {
    "id": "xxKmWbIICgWv",
    "papermill": {
     "duration": 0.012314,
     "end_time": "2020-08-24T15:43:19.019390",
     "exception": false,
     "start_time": "2020-08-24T15:43:19.007076",
     "status": "completed"
    },
    "tags": []
   },
   "source": [
    "Our **T5Dataset** Class takes as input the **dataframe**, **indices** & **set_type**. We calculate the train / val set indices beforehand, pass it to **T5Dataset** and slice the dataframe using these indices."
   ]
  },
  {
   "cell_type": "code",
   "execution_count": 12,
   "metadata": {
    "execution": {
     "iopub.execute_input": "2020-08-24T15:43:19.052866Z",
     "iopub.status.busy": "2020-08-24T15:43:19.051942Z",
     "iopub.status.idle": "2020-08-24T15:43:19.055057Z",
     "shell.execute_reply": "2020-08-24T15:43:19.054584Z"
    },
    "id": "xkGLwcZ0f732",
    "papermill": {
     "duration": 0.023736,
     "end_time": "2020-08-24T15:43:19.055159",
     "exception": false,
     "start_time": "2020-08-24T15:43:19.031423",
     "status": "completed"
    },
    "tags": []
   },
   "outputs": [],
   "source": [
    "# train-val split\n",
    "\n",
    "np.random.seed(config.SEED)\n",
    "\n",
    "dataset_size = len(train_df)\n",
    "indices = list(range(dataset_size))\n",
    "split = int(np.floor(config.VALIDATION_SPLIT * dataset_size))\n",
    "np.random.shuffle(indices)\n",
    "\n",
    "train_indices, val_indices = indices[split:], indices[:split]"
   ]
  },
  {
   "cell_type": "markdown",
   "execution_count": null,
   "metadata": {
    "id": "OslH-HOECxRO",
    "papermill": {
     "duration": 0.011958,
     "end_time": "2020-08-24T15:43:19.079324",
     "exception": false,
     "start_time": "2020-08-24T15:43:19.067366",
     "status": "completed"
    },
    "tags": []
   },
   "source": [
    "Here we'll initialize PyTorch DataLoader objects for the training & validation data.<br>\n",
    "These dataloaders allow us to iterate over them during training, validation or testing and return a batch of the Dataset class outputs."
   ]
  },
  {
   "cell_type": "code",
   "execution_count": 13,
   "metadata": {
    "execution": {
     "iopub.execute_input": "2020-08-24T15:43:19.117729Z",
     "iopub.status.busy": "2020-08-24T15:43:19.116811Z",
     "iopub.status.idle": "2020-08-24T15:43:22.015979Z",
     "shell.execute_reply": "2020-08-24T15:43:22.016644Z"
    },
    "id": "0mnuNOKmkc1R",
    "outputId": "071101f3-6fa5-45f6-abe9-b053bb9663ea",
    "papermill": {
     "duration": 2.924957,
     "end_time": "2020-08-24T15:43:22.016822",
     "exception": false,
     "start_time": "2020-08-24T15:43:19.091865",
     "status": "completed"
    },
    "tags": []
   },
   "outputs": [
    {
     "name": "stdout",
     "output_type": "stream",
     "text": [
      "src_input_ids shape: torch.Size([16, 320])\n",
      "src_attention_mask shape: torch.Size([16, 320])\n",
      "tgt_input_ids shape: torch.Size([16, 20])\n",
      "tgt_attention_mask shape: torch.Size([16, 20])\n"
     ]
    }
   ],
   "source": [
    "train_data = T5Dataset(train_df, train_indices)\n",
    "val_data = T5Dataset(train_df, val_indices)\n",
    "\n",
    "train_dataloader = DataLoader(train_data, batch_size=config.BATCH_SIZE)\n",
    "val_dataloader = DataLoader(val_data, batch_size=config.BATCH_SIZE)\n",
    "\n",
    "b = next(iter(train_dataloader))\n",
    "for k, v in b.items():\n",
    "    print(f'{k} shape: {v.shape}')"
   ]
  },
  {
   "cell_type": "markdown",
   "execution_count": null,
   "metadata": {
    "id": "feB5OEdeoV91",
    "papermill": {
     "duration": 0.012095,
     "end_time": "2020-08-24T15:43:22.041534",
     "exception": false,
     "start_time": "2020-08-24T15:43:22.029439",
     "status": "completed"
    },
    "tags": []
   },
   "source": [
    "# Model"
   ]
  },
  {
   "cell_type": "markdown",
   "execution_count": null,
   "metadata": {
    "id": "HjqZhSB8C0Qk",
    "papermill": {
     "duration": 0.012234,
     "end_time": "2020-08-24T15:43:22.066836",
     "exception": false,
     "start_time": "2020-08-24T15:43:22.054602",
     "status": "completed"
    },
    "tags": []
   },
   "source": [
    "Coming to the most interesting part - the model architecture! We'll create a class named **Model**, inherited from **torch.nn.Module**.<br><br>\n",
    "\n",
    "### Flow\n",
    "- We initialize our pretrained T5 model with a Conditional Generation Head.\n",
    "- Pass in the src & tgt, input_ids & attention_mask.\n",
    "- The model returns the decoder generated output ids (predicted labels in textual format), which we need to decode further using the tokenizer."
   ]
  },
  {
   "cell_type": "code",
   "execution_count": 14,
   "metadata": {
    "execution": {
     "iopub.execute_input": "2020-08-24T15:43:22.099703Z",
     "iopub.status.busy": "2020-08-24T15:43:22.099019Z",
     "iopub.status.idle": "2020-08-24T15:43:22.103726Z",
     "shell.execute_reply": "2020-08-24T15:43:22.103026Z"
    },
    "id": "d1xG8CCdlgge",
    "papermill": {
     "duration": 0.024445,
     "end_time": "2020-08-24T15:43:22.103858",
     "exception": false,
     "start_time": "2020-08-24T15:43:22.079413",
     "status": "completed"
    },
    "tags": []
   },
   "outputs": [],
   "source": [
    "class T5Model(nn.Module):\n",
    "    def __init__(self):\n",
    "        super(T5Model, self).__init__()\n",
    "\n",
    "        self.t5_model = T5ForConditionalGeneration.from_pretrained(config.MODEL_PATH)\n",
    "\n",
    "    def forward(\n",
    "        self,\n",
    "        input_ids, \n",
    "        attention_mask=None, \n",
    "        decoder_input_ids=None, \n",
    "        decoder_attention_mask=None, \n",
    "        lm_labels=None\n",
    "        ):\n",
    "\n",
    "        return self.t5_model(\n",
    "            input_ids,\n",
    "            attention_mask=attention_mask,\n",
    "            decoder_input_ids=decoder_input_ids,\n",
    "            decoder_attention_mask=decoder_attention_mask,\n",
    "            lm_labels=lm_labels,\n",
    "        )"
   ]
  },
  {
   "cell_type": "code",
   "execution_count": 15,
   "metadata": {
    "execution": {
     "iopub.execute_input": "2020-08-24T15:43:22.134341Z",
     "iopub.status.busy": "2020-08-24T15:43:22.133540Z",
     "iopub.status.idle": "2020-08-24T15:43:22.137438Z",
     "shell.execute_reply": "2020-08-24T15:43:22.136965Z"
    },
    "id": "jiypz6jrG9bl",
    "outputId": "a6013f08-0fea-4eab-86f3-51b80ab16760",
    "papermill": {
     "duration": 0.020336,
     "end_time": "2020-08-24T15:43:22.137556",
     "exception": false,
     "start_time": "2020-08-24T15:43:22.117220",
     "status": "completed"
    },
    "tags": []
   },
   "outputs": [
    {
     "data": {
      "text/plain": [
       "device(type='cuda')"
      ]
     },
     "execution_count": 15,
     "metadata": {},
     "output_type": "execute_result"
    }
   ],
   "source": [
    "device = config.DEVICE\n",
    "device"
   ]
  },
  {
   "cell_type": "markdown",
   "execution_count": null,
   "metadata": {
    "id": "O5LkYPeTqpDP",
    "papermill": {
     "duration": 0.012194,
     "end_time": "2020-08-24T15:43:22.162105",
     "exception": false,
     "start_time": "2020-08-24T15:43:22.149911",
     "status": "completed"
    },
    "tags": []
   },
   "source": [
    "# Engine"
   ]
  },
  {
   "cell_type": "markdown",
   "execution_count": null,
   "metadata": {
    "id": "bKZQM2E2DnjO",
    "papermill": {
     "duration": 0.011932,
     "end_time": "2020-08-24T15:43:22.186645",
     "exception": false,
     "start_time": "2020-08-24T15:43:22.174713",
     "status": "completed"
    },
    "tags": []
   },
   "source": [
    "Our engine consists of the training and validation step functions."
   ]
  },
  {
   "cell_type": "code",
   "execution_count": 16,
   "metadata": {
    "execution": {
     "iopub.execute_input": "2020-08-24T15:43:22.222949Z",
     "iopub.status.busy": "2020-08-24T15:43:22.222005Z",
     "iopub.status.idle": "2020-08-24T15:43:22.224310Z",
     "shell.execute_reply": "2020-08-24T15:43:22.224775Z"
    },
    "id": "xi7ZrcylE18g",
    "papermill": {
     "duration": 0.025499,
     "end_time": "2020-08-24T15:43:22.224914",
     "exception": false,
     "start_time": "2020-08-24T15:43:22.199415",
     "status": "completed"
    },
    "tags": []
   },
   "outputs": [],
   "source": [
    "# the get_ohe function converts the decoder generated labels from textual -\n",
    "# - format to a one hot encoded form, in order to calculate the micro f1 score\n",
    "\n",
    "def get_ohe(x):\n",
    "    labels_li = ['_'.join(x.lower().split()) for x in train_df.columns.to_list()[3:]]\n",
    "    labels_li_indices = dict()\n",
    "    for idx, label in enumerate(labels_li):\n",
    "        labels_li_indices[label] = idx\n",
    "        \n",
    "    y = [labels.split(', ') for labels in x]\n",
    "    ohe = []\n",
    "    for labels in y:\n",
    "        temp = [0] * 6\n",
    "        for label in labels:\n",
    "            idx = labels_li_indices.get(label, -1)\n",
    "            if idx != -1:\n",
    "                temp[idx] = 1\n",
    "        ohe.append(temp)\n",
    "    ohe = np.array(ohe)\n",
    "    return ohe"
   ]
  },
  {
   "cell_type": "code",
   "execution_count": 17,
   "metadata": {
    "execution": {
     "iopub.execute_input": "2020-08-24T15:43:22.278439Z",
     "iopub.status.busy": "2020-08-24T15:43:22.269589Z",
     "iopub.status.idle": "2020-08-24T15:43:22.281238Z",
     "shell.execute_reply": "2020-08-24T15:43:22.280755Z"
    },
    "id": "HG9J7OFEDsSB",
    "papermill": {
     "duration": 0.043422,
     "end_time": "2020-08-24T15:43:22.281346",
     "exception": false,
     "start_time": "2020-08-24T15:43:22.237924",
     "status": "completed"
    },
    "tags": []
   },
   "outputs": [],
   "source": [
    "def val(model, val_dataloader, criterion):\n",
    "    \n",
    "    val_loss = 0\n",
    "    true, pred = [], []\n",
    "    \n",
    "    # set model.eval() every time during evaluation\n",
    "    model.eval()\n",
    "    \n",
    "    for step, batch in enumerate(val_dataloader):\n",
    "        # unpack the batch contents and push them to the device (cuda or cpu).\n",
    "        b_src_input_ids = batch['src_input_ids'].to(device)\n",
    "        b_src_attention_mask = batch['src_attention_mask'].to(device)\n",
    "    \n",
    "        b_tgt_input_ids = batch['tgt_input_ids']\n",
    "        lm_labels = b_tgt_input_ids.to(device)\n",
    "        lm_labels[lm_labels[:, :] == config.TOKENIZER.pad_token_id] = -100\n",
    "\n",
    "        b_tgt_attention_mask = batch['tgt_attention_mask'].to(device)\n",
    "\n",
    "        # using torch.no_grad() during validation/inference is faster -\n",
    "        # - since it does not update gradients.\n",
    "        with torch.no_grad():\n",
    "            # forward pass\n",
    "            outputs = model(\n",
    "                input_ids=b_src_input_ids, \n",
    "                attention_mask=b_src_attention_mask,\n",
    "                lm_labels=lm_labels,\n",
    "                decoder_attention_mask=b_tgt_attention_mask)\n",
    "            loss = outputs[0]\n",
    "\n",
    "            val_loss += loss.item()\n",
    "\n",
    "            # get true \n",
    "            for true_id in b_tgt_input_ids:\n",
    "                true_decoded = config.TOKENIZER.decode(true_id)\n",
    "                true.append(true_decoded)\n",
    "\n",
    "            # get pred (decoder generated textual label ids)\n",
    "            pred_ids = model.t5_model.generate(\n",
    "                input_ids=b_src_input_ids, \n",
    "                attention_mask=b_src_attention_mask\n",
    "            )\n",
    "            pred_ids = pred_ids.cpu().numpy()\n",
    "            for pred_id in pred_ids:\n",
    "                pred_decoded = config.TOKENIZER.decode(pred_id)\n",
    "                pred.append(pred_decoded)\n",
    "\n",
    "    true_ohe = get_ohe(true)\n",
    "    pred_ohe = get_ohe(pred)\n",
    "\n",
    "    avg_val_loss = val_loss / len(val_dataloader)\n",
    "    print('Val loss:', avg_val_loss)\n",
    "    print('Val accuracy:', accuracy_score(true_ohe, pred_ohe))\n",
    "\n",
    "    val_micro_f1_score = f1_score(true_ohe, pred_ohe, average='micro')\n",
    "    print('Val micro f1 score:', val_micro_f1_score)\n",
    "    return val_micro_f1_score\n",
    "\n",
    "\n",
    "def train(\n",
    "    model,  \n",
    "    train_dataloader, \n",
    "    val_dataloader, \n",
    "    criterion, \n",
    "    optimizer, \n",
    "    scheduler, \n",
    "    epoch\n",
    "    ):\n",
    "    \n",
    "    # we validate config.N_VALIDATE_DUR_TRAIN times during the training loop\n",
    "    nv = config.N_VALIDATE_DUR_TRAIN\n",
    "    temp = len(train_dataloader) // nv\n",
    "    temp = temp - (temp % 100)\n",
    "    validate_at_steps = [temp * x for x in range(1, nv + 1)]\n",
    "    \n",
    "    train_loss = 0\n",
    "    for step, batch in enumerate(tqdm(train_dataloader, \n",
    "                                      desc='Epoch ' + str(epoch))):\n",
    "        # set model.eval() every time during training\n",
    "        model.train()\n",
    "        \n",
    "        # unpack the batch contents and push them to the device (cuda or cpu).\n",
    "        b_src_input_ids = batch['src_input_ids'].to(device)\n",
    "        b_src_attention_mask = batch['src_attention_mask'].to(device)\n",
    "    \n",
    "        lm_labels = batch['tgt_input_ids'].to(device)\n",
    "        lm_labels[lm_labels[:, :] == config.TOKENIZER.pad_token_id] = -100\n",
    "\n",
    "        b_tgt_attention_mask = batch['tgt_attention_mask'].to(device)\n",
    "\n",
    "        # clear accumulated gradients\n",
    "        optimizer.zero_grad()\n",
    "\n",
    "        # forward pass\n",
    "        outputs = model(input_ids=b_src_input_ids, \n",
    "                        attention_mask=b_src_attention_mask,\n",
    "                        lm_labels=lm_labels,\n",
    "                        decoder_attention_mask=b_tgt_attention_mask)\n",
    "        loss = outputs[0]\n",
    "        train_loss += loss.item()\n",
    "\n",
    "        # backward pass\n",
    "        loss.backward()\n",
    "\n",
    "        # update weights\n",
    "        optimizer.step()\n",
    "        \n",
    "        # update scheduler\n",
    "        scheduler.step()\n",
    "\n",
    "        if step in validate_at_steps:\n",
    "            print(f'-- Step: {step}')\n",
    "            _ = val(model, val_dataloader, criterion)\n",
    "    \n",
    "    avg_train_loss = train_loss / len(train_dataloader)\n",
    "    print('Training loss:', avg_train_loss)"
   ]
  },
  {
   "cell_type": "markdown",
   "execution_count": null,
   "metadata": {
    "id": "ApdIReKk7OQJ",
    "papermill": {
     "duration": 0.012178,
     "end_time": "2020-08-24T15:43:22.306357",
     "exception": false,
     "start_time": "2020-08-24T15:43:22.294179",
     "status": "completed"
    },
    "tags": []
   },
   "source": [
    "# Run"
   ]
  },
  {
   "cell_type": "markdown",
   "execution_count": null,
   "metadata": {
    "id": "gvz40JjQFx-5",
    "papermill": {
     "duration": 0.012014,
     "end_time": "2020-08-24T15:43:22.331158",
     "exception": false,
     "start_time": "2020-08-24T15:43:22.319144",
     "status": "completed"
    },
    "tags": []
   },
   "source": [
    "### Loss function used<br>\n",
    "- **BCEWithLogitsLoss** - Most commonly used loss function for Multi Label Classification tasks. Note that, PyTorch's BCEWithLogitsLoss is numerically stable than BCELoss.\n",
    "<br>\n",
    "\n",
    "### Optimizer used <br>\n",
    "- **AdamW** - Commonly used optimizer. Performs better than Adam.\n",
    "<br>\n",
    "\n",
    "### Scheduler used <br>\n",
    "- **get_linear_scheduler_with_warmup** from the **transformers** library.\n",
    "<br>"
   ]
  },
  {
   "cell_type": "code",
   "execution_count": 18,
   "metadata": {
    "execution": {
     "iopub.execute_input": "2020-08-24T15:43:22.370410Z",
     "iopub.status.busy": "2020-08-24T15:43:22.369651Z",
     "iopub.status.idle": "2020-08-24T15:43:22.373042Z",
     "shell.execute_reply": "2020-08-24T15:43:22.372379Z"
    },
    "id": "93Qs1xH27FRe",
    "papermill": {
     "duration": 0.029275,
     "end_time": "2020-08-24T15:43:22.373145",
     "exception": false,
     "start_time": "2020-08-24T15:43:22.343870",
     "status": "completed"
    },
    "tags": []
   },
   "outputs": [],
   "source": [
    "def run():\n",
    "    # setting a seed ensures reproducible results.\n",
    "    # seed may affect the performance too.\n",
    "    torch.manual_seed(config.SEED)\n",
    "\n",
    "    criterion = nn.BCEWithLogitsLoss()\n",
    "    \n",
    "    # define the parameters to be optmized -\n",
    "    # - and add regularization\n",
    "    if config.FULL_FINETUNING:\n",
    "        param_optimizer = list(model.named_parameters())\n",
    "        no_decay = [\"bias\", \"LayerNorm.bias\", \"LayerNorm.weight\"]\n",
    "        optimizer_parameters = [\n",
    "            {\n",
    "                \"params\": [\n",
    "                    p for n, p in param_optimizer if not any(nd in n for nd in no_decay)\n",
    "                ],\n",
    "                \"weight_decay\": 0.001,\n",
    "            },\n",
    "            {\n",
    "                \"params\": [\n",
    "                    p for n, p in param_optimizer if any(nd in n for nd in no_decay)\n",
    "                ],\n",
    "                \"weight_decay\": 0.0,\n",
    "            },\n",
    "        ]\n",
    "        optimizer = optim.AdamW(optimizer_parameters, lr=config.LR)\n",
    "\n",
    "    num_training_steps = len(train_dataloader) * config.EPOCHS\n",
    "    scheduler = get_linear_schedule_with_warmup(\n",
    "        optimizer,\n",
    "        num_warmup_steps=0,\n",
    "        num_training_steps=num_training_steps\n",
    "    )\n",
    "\n",
    "    max_val_micro_f1_score = float('-inf')\n",
    "    for epoch in range(config.EPOCHS):\n",
    "        train(model, train_dataloader, val_dataloader, criterion, optimizer, scheduler, epoch)\n",
    "        val_micro_f1_score = val(model, val_dataloader, criterion)\n",
    "\n",
    "        if config.SAVE_BEST_ONLY:\n",
    "            if val_micro_f1_score > max_val_micro_f1_score:\n",
    "                best_model = copy.deepcopy(model)\n",
    "                best_val_micro_f1_score = val_micro_f1_score\n",
    "\n",
    "                model_name = 't5_best_model'\n",
    "                torch.save(best_model.state_dict(), model_name + '.pt')\n",
    "\n",
    "                print(f'--- Best Model. Val loss: {max_val_micro_f1_score} -> {val_micro_f1_score}')\n",
    "                max_val_micro_f1_score = val_micro_f1_score\n",
    "\n",
    "    return best_model, best_val_micro_f1_score"
   ]
  },
  {
   "cell_type": "code",
   "execution_count": 19,
   "metadata": {
    "execution": {
     "iopub.execute_input": "2020-08-24T15:43:22.404236Z",
     "iopub.status.busy": "2020-08-24T15:43:22.403398Z",
     "iopub.status.idle": "2020-08-24T15:44:02.858445Z",
     "shell.execute_reply": "2020-08-24T15:44:02.859004Z"
    },
    "id": "eW59UrCbF_rz",
    "outputId": "e3e1faf3-b854-4c8b-c6be-9c98cb15aab5",
    "papermill": {
     "duration": 40.473579,
     "end_time": "2020-08-24T15:44:02.859205",
     "exception": false,
     "start_time": "2020-08-24T15:43:22.385626",
     "status": "completed"
    },
    "tags": []
   },
   "outputs": [
    {
     "data": {
      "application/vnd.jupyter.widget-view+json": {
       "model_id": "463ccb0fb6244c27910cc6d6fb04647e",
       "version_major": 2,
       "version_minor": 0
      },
      "text/plain": [
       "HBox(children=(FloatProgress(value=0.0, description='Downloading', max=1199.0, style=ProgressStyle(description…"
      ]
     },
     "metadata": {},
     "output_type": "display_data"
    },
    {
     "name": "stdout",
     "output_type": "stream",
     "text": [
      "\n"
     ]
    },
    {
     "data": {
      "application/vnd.jupyter.widget-view+json": {
       "model_id": "29baa01697b94ac9a362d299036233dc",
       "version_major": 2,
       "version_minor": 0
      },
      "text/plain": [
       "HBox(children=(FloatProgress(value=0.0, description='Downloading', max=891691430.0, style=ProgressStyle(descri…"
      ]
     },
     "metadata": {},
     "output_type": "display_data"
    },
    {
     "name": "stdout",
     "output_type": "stream",
     "text": [
      "\n"
     ]
    }
   ],
   "source": [
    "model = T5Model()\n",
    "model.to(device);"
   ]
  },
  {
   "cell_type": "code",
   "execution_count": 20,
   "metadata": {
    "execution": {
     "iopub.execute_input": "2020-08-24T15:44:02.894686Z",
     "iopub.status.busy": "2020-08-24T15:44:02.893793Z",
     "iopub.status.idle": "2020-08-24T16:07:26.076797Z",
     "shell.execute_reply": "2020-08-24T16:07:26.077561Z"
    },
    "id": "YMwlc6aG7e4I",
    "outputId": "02568d07-c5ae-402e-d6d0-8f6494597e07",
    "papermill": {
     "duration": 1403.204813,
     "end_time": "2020-08-24T16:07:26.077766",
     "exception": false,
     "start_time": "2020-08-24T15:44:02.872953",
     "status": "completed"
    },
    "tags": []
   },
   "outputs": [
    {
     "data": {
      "application/vnd.jupyter.widget-view+json": {
       "model_id": "50f2f490885b4dffb78397cea328aaa7",
       "version_major": 2,
       "version_minor": 0
      },
      "text/plain": [
       "HBox(children=(FloatProgress(value=0.0, description='Epoch 0', max=984.0, style=ProgressStyle(description_widt…"
      ]
     },
     "metadata": {},
     "output_type": "display_data"
    },
    {
     "name": "stdout",
     "output_type": "stream",
     "text": [
      "-- Step: 300\n",
      "Val loss: 0.42502599532102664\n",
      "Val accuracy: 0.6225443448407401\n",
      "Val micro f1 score: 0.6689551009199506\n",
      "-- Step: 600\n",
      "Val loss: 0.37236614341325147\n",
      "Val accuracy: 0.6769025367156208\n",
      "Val micro f1 score: 0.7422145328719723\n",
      "-- Step: 900\n",
      "Val loss: 0.3605981839639021\n",
      "Val accuracy: 0.681098607667366\n",
      "Val micro f1 score: 0.7358416872803021\n",
      "\n",
      "Training loss: 0.6346240297898771\n",
      "Val loss: 0.3590776126195745\n",
      "Val accuracy: 0.6818615296585924\n",
      "Val micro f1 score: 0.7381907596738708\n",
      "--- Best Model. Val loss: -inf -> 0.7381907596738708\n"
     ]
    }
   ],
   "source": [
    "best_model, best_val_micro_f1_score = run()"
   ]
  },
  {
   "cell_type": "markdown",
   "execution_count": null,
   "metadata": {
    "id": "4nfT_foB9-yr",
    "papermill": {
     "duration": 0.014363,
     "end_time": "2020-08-24T16:07:26.106805",
     "exception": false,
     "start_time": "2020-08-24T16:07:26.092442",
     "status": "completed"
    },
    "tags": []
   },
   "source": [
    "# Submission"
   ]
  },
  {
   "cell_type": "markdown",
   "execution_count": null,
   "metadata": {
    "id": "7f4kLd1OGes-",
    "papermill": {
     "duration": 0.013799,
     "end_time": "2020-08-24T16:07:26.134913",
     "exception": false,
     "start_time": "2020-08-24T16:07:26.121114",
     "status": "completed"
    },
    "tags": []
   },
   "source": [
    "Load the test dataset, and initialize a DataLoader object for it."
   ]
  },
  {
   "cell_type": "code",
   "execution_count": 21,
   "metadata": {
    "execution": {
     "iopub.execute_input": "2020-08-24T16:07:26.177752Z",
     "iopub.status.busy": "2020-08-24T16:07:26.177083Z",
     "iopub.status.idle": "2020-08-24T16:07:27.472039Z",
     "shell.execute_reply": "2020-08-24T16:07:27.471009Z"
    },
    "id": "b6kixnQZGh0h",
    "papermill": {
     "duration": 1.32305,
     "end_time": "2020-08-24T16:07:27.472174",
     "exception": false,
     "start_time": "2020-08-24T16:07:26.149124",
     "status": "completed"
    },
    "tags": []
   },
   "outputs": [],
   "source": [
    "test_df = pd.read_csv(project_dir + 'test.csv')\n",
    "dataset_size = len(test_df)\n",
    "test_indices = list(range(dataset_size))\n",
    "\n",
    "test_data = T5Dataset(test_df, test_indices, set_type='test')\n",
    "test_dataloader = DataLoader(test_data, batch_size=config.BATCH_SIZE)"
   ]
  },
  {
   "cell_type": "code",
   "execution_count": 22,
   "metadata": {
    "execution": {
     "iopub.execute_input": "2020-08-24T16:07:27.514787Z",
     "iopub.status.busy": "2020-08-24T16:07:27.513917Z",
     "iopub.status.idle": "2020-08-24T16:10:29.759631Z",
     "shell.execute_reply": "2020-08-24T16:10:29.759027Z"
    },
    "id": "JI-MUk0i-FHH",
    "papermill": {
     "duration": 182.272771,
     "end_time": "2020-08-24T16:10:29.759758",
     "exception": false,
     "start_time": "2020-08-24T16:07:27.486987",
     "status": "completed"
    },
    "tags": []
   },
   "outputs": [
    {
     "data": {
      "application/vnd.jupyter.widget-view+json": {
       "model_id": "38b09f1e909c4c878bc46463545e13da",
       "version_major": 2,
       "version_minor": 0
      },
      "text/plain": [
       "HBox(children=(FloatProgress(value=0.0, max=562.0), HTML(value='')))"
      ]
     },
     "metadata": {},
     "output_type": "display_data"
    },
    {
     "name": "stdout",
     "output_type": "stream",
     "text": [
      "\n"
     ]
    }
   ],
   "source": [
    "def predict(model):\n",
    "    val_loss = 0\n",
    "    pred = []\n",
    "    model.eval()\n",
    "    for step, batch in tqdm(enumerate(test_dataloader), total=len(test_dataloader)):\n",
    "        b_src_input_ids = batch['src_input_ids'].to(device)\n",
    "        b_src_attention_mask = batch['src_attention_mask'].to(device)\n",
    "\n",
    "        with torch.no_grad():\n",
    "            # get pred\n",
    "            pred_ids = model.t5_model.generate(\n",
    "                input_ids=b_src_input_ids, \n",
    "                attention_mask=b_src_attention_mask\n",
    "            )\n",
    "            pred_ids = pred_ids.cpu().numpy()\n",
    "            for pred_id in pred_ids:\n",
    "                pred_decoded = config.TOKENIZER.decode(pred_id)\n",
    "                pred.append(pred_decoded)\n",
    "\n",
    "    pred_ohe = get_ohe(pred)\n",
    "    return pred_ohe\n",
    "\n",
    "pred_ohe = predict(best_model)"
   ]
  },
  {
   "cell_type": "code",
   "execution_count": 23,
   "metadata": {
    "execution": {
     "iopub.execute_input": "2020-08-24T16:10:29.807653Z",
     "iopub.status.busy": "2020-08-24T16:10:29.806666Z",
     "iopub.status.idle": "2020-08-24T16:10:30.264983Z",
     "shell.execute_reply": "2020-08-24T16:10:30.265702Z"
    },
    "id": "nK_7216XA2Ah",
    "papermill": {
     "duration": 0.489533,
     "end_time": "2020-08-24T16:10:30.265867",
     "exception": false,
     "start_time": "2020-08-24T16:10:29.776334",
     "status": "completed"
    },
    "tags": []
   },
   "outputs": [
    {
     "ename": "FileNotFoundError",
     "evalue": "[Errno 2] No such file or directory: 'sample_submission.csv'",
     "output_type": "error",
     "traceback": [
      "\u001b[0;31m---------------------------------------------------------------------------\u001b[0m",
      "\u001b[0;31mFileNotFoundError\u001b[0m                         Traceback (most recent call last)",
      "\u001b[0;32m<ipython-input-23-7c05fbe4afb9>\u001b[0m in \u001b[0;36m<module>\u001b[0;34m\u001b[0m\n\u001b[0;32m----> 1\u001b[0;31m \u001b[0msample_submission\u001b[0m \u001b[0;34m=\u001b[0m \u001b[0mpd\u001b[0m\u001b[0;34m.\u001b[0m\u001b[0mread_csv\u001b[0m\u001b[0;34m(\u001b[0m\u001b[0;34m'sample_submission.csv'\u001b[0m\u001b[0;34m)\u001b[0m\u001b[0;34m\u001b[0m\u001b[0;34m\u001b[0m\u001b[0m\n\u001b[0m\u001b[1;32m      2\u001b[0m \u001b[0mids\u001b[0m \u001b[0;34m=\u001b[0m \u001b[0msample_submission\u001b[0m\u001b[0;34m[\u001b[0m\u001b[0;34m'ID'\u001b[0m\u001b[0;34m]\u001b[0m\u001b[0;34m.\u001b[0m\u001b[0mvalues\u001b[0m\u001b[0;34m.\u001b[0m\u001b[0mreshape\u001b[0m\u001b[0;34m(\u001b[0m\u001b[0;34m-\u001b[0m\u001b[0;36m1\u001b[0m\u001b[0;34m,\u001b[0m \u001b[0;36m1\u001b[0m\u001b[0;34m)\u001b[0m\u001b[0;34m\u001b[0m\u001b[0;34m\u001b[0m\u001b[0m\n\u001b[1;32m      3\u001b[0m \u001b[0;34m\u001b[0m\u001b[0m\n\u001b[1;32m      4\u001b[0m \u001b[0mmerged\u001b[0m \u001b[0;34m=\u001b[0m \u001b[0mnp\u001b[0m\u001b[0;34m.\u001b[0m\u001b[0mconcatenate\u001b[0m\u001b[0;34m(\u001b[0m\u001b[0;34m(\u001b[0m\u001b[0mids\u001b[0m\u001b[0;34m,\u001b[0m \u001b[0mpred_ohe\u001b[0m\u001b[0;34m)\u001b[0m\u001b[0;34m,\u001b[0m \u001b[0maxis\u001b[0m\u001b[0;34m=\u001b[0m\u001b[0;36m1\u001b[0m\u001b[0;34m)\u001b[0m\u001b[0;34m\u001b[0m\u001b[0;34m\u001b[0m\u001b[0m\n\u001b[1;32m      5\u001b[0m \u001b[0msubmission\u001b[0m \u001b[0;34m=\u001b[0m \u001b[0mpd\u001b[0m\u001b[0;34m.\u001b[0m\u001b[0mDataFrame\u001b[0m\u001b[0;34m(\u001b[0m\u001b[0mmerged\u001b[0m\u001b[0;34m,\u001b[0m \u001b[0mcolumns\u001b[0m\u001b[0;34m=\u001b[0m\u001b[0msample_submission\u001b[0m\u001b[0;34m.\u001b[0m\u001b[0mcolumns\u001b[0m\u001b[0;34m)\u001b[0m\u001b[0;34m.\u001b[0m\u001b[0mastype\u001b[0m\u001b[0;34m(\u001b[0m\u001b[0mint\u001b[0m\u001b[0;34m)\u001b[0m\u001b[0;34m\u001b[0m\u001b[0;34m\u001b[0m\u001b[0m\n",
      "\u001b[0;32m/opt/conda/lib/python3.7/site-packages/pandas/io/parsers.py\u001b[0m in \u001b[0;36mread_csv\u001b[0;34m(filepath_or_buffer, sep, delimiter, header, names, index_col, usecols, squeeze, prefix, mangle_dupe_cols, dtype, engine, converters, true_values, false_values, skipinitialspace, skiprows, skipfooter, nrows, na_values, keep_default_na, na_filter, verbose, skip_blank_lines, parse_dates, infer_datetime_format, keep_date_col, date_parser, dayfirst, cache_dates, iterator, chunksize, compression, thousands, decimal, lineterminator, quotechar, quoting, doublequote, escapechar, comment, encoding, dialect, error_bad_lines, warn_bad_lines, delim_whitespace, low_memory, memory_map, float_precision)\u001b[0m\n\u001b[1;32m    684\u001b[0m     )\n\u001b[1;32m    685\u001b[0m \u001b[0;34m\u001b[0m\u001b[0m\n\u001b[0;32m--> 686\u001b[0;31m     \u001b[0;32mreturn\u001b[0m \u001b[0m_read\u001b[0m\u001b[0;34m(\u001b[0m\u001b[0mfilepath_or_buffer\u001b[0m\u001b[0;34m,\u001b[0m \u001b[0mkwds\u001b[0m\u001b[0;34m)\u001b[0m\u001b[0;34m\u001b[0m\u001b[0;34m\u001b[0m\u001b[0m\n\u001b[0m\u001b[1;32m    687\u001b[0m \u001b[0;34m\u001b[0m\u001b[0m\n\u001b[1;32m    688\u001b[0m \u001b[0;34m\u001b[0m\u001b[0m\n",
      "\u001b[0;32m/opt/conda/lib/python3.7/site-packages/pandas/io/parsers.py\u001b[0m in \u001b[0;36m_read\u001b[0;34m(filepath_or_buffer, kwds)\u001b[0m\n\u001b[1;32m    450\u001b[0m \u001b[0;34m\u001b[0m\u001b[0m\n\u001b[1;32m    451\u001b[0m     \u001b[0;31m# Create the parser.\u001b[0m\u001b[0;34m\u001b[0m\u001b[0;34m\u001b[0m\u001b[0;34m\u001b[0m\u001b[0m\n\u001b[0;32m--> 452\u001b[0;31m     \u001b[0mparser\u001b[0m \u001b[0;34m=\u001b[0m \u001b[0mTextFileReader\u001b[0m\u001b[0;34m(\u001b[0m\u001b[0mfp_or_buf\u001b[0m\u001b[0;34m,\u001b[0m \u001b[0;34m**\u001b[0m\u001b[0mkwds\u001b[0m\u001b[0;34m)\u001b[0m\u001b[0;34m\u001b[0m\u001b[0;34m\u001b[0m\u001b[0m\n\u001b[0m\u001b[1;32m    453\u001b[0m \u001b[0;34m\u001b[0m\u001b[0m\n\u001b[1;32m    454\u001b[0m     \u001b[0;32mif\u001b[0m \u001b[0mchunksize\u001b[0m \u001b[0;32mor\u001b[0m \u001b[0miterator\u001b[0m\u001b[0;34m:\u001b[0m\u001b[0;34m\u001b[0m\u001b[0;34m\u001b[0m\u001b[0m\n",
      "\u001b[0;32m/opt/conda/lib/python3.7/site-packages/pandas/io/parsers.py\u001b[0m in \u001b[0;36m__init__\u001b[0;34m(self, f, engine, **kwds)\u001b[0m\n\u001b[1;32m    934\u001b[0m             \u001b[0mself\u001b[0m\u001b[0;34m.\u001b[0m\u001b[0moptions\u001b[0m\u001b[0;34m[\u001b[0m\u001b[0;34m\"has_index_names\"\u001b[0m\u001b[0;34m]\u001b[0m \u001b[0;34m=\u001b[0m \u001b[0mkwds\u001b[0m\u001b[0;34m[\u001b[0m\u001b[0;34m\"has_index_names\"\u001b[0m\u001b[0;34m]\u001b[0m\u001b[0;34m\u001b[0m\u001b[0;34m\u001b[0m\u001b[0m\n\u001b[1;32m    935\u001b[0m \u001b[0;34m\u001b[0m\u001b[0m\n\u001b[0;32m--> 936\u001b[0;31m         \u001b[0mself\u001b[0m\u001b[0;34m.\u001b[0m\u001b[0m_make_engine\u001b[0m\u001b[0;34m(\u001b[0m\u001b[0mself\u001b[0m\u001b[0;34m.\u001b[0m\u001b[0mengine\u001b[0m\u001b[0;34m)\u001b[0m\u001b[0;34m\u001b[0m\u001b[0;34m\u001b[0m\u001b[0m\n\u001b[0m\u001b[1;32m    937\u001b[0m \u001b[0;34m\u001b[0m\u001b[0m\n\u001b[1;32m    938\u001b[0m     \u001b[0;32mdef\u001b[0m \u001b[0mclose\u001b[0m\u001b[0;34m(\u001b[0m\u001b[0mself\u001b[0m\u001b[0;34m)\u001b[0m\u001b[0;34m:\u001b[0m\u001b[0;34m\u001b[0m\u001b[0;34m\u001b[0m\u001b[0m\n",
      "\u001b[0;32m/opt/conda/lib/python3.7/site-packages/pandas/io/parsers.py\u001b[0m in \u001b[0;36m_make_engine\u001b[0;34m(self, engine)\u001b[0m\n\u001b[1;32m   1166\u001b[0m     \u001b[0;32mdef\u001b[0m \u001b[0m_make_engine\u001b[0m\u001b[0;34m(\u001b[0m\u001b[0mself\u001b[0m\u001b[0;34m,\u001b[0m \u001b[0mengine\u001b[0m\u001b[0;34m=\u001b[0m\u001b[0;34m\"c\"\u001b[0m\u001b[0;34m)\u001b[0m\u001b[0;34m:\u001b[0m\u001b[0;34m\u001b[0m\u001b[0;34m\u001b[0m\u001b[0m\n\u001b[1;32m   1167\u001b[0m         \u001b[0;32mif\u001b[0m \u001b[0mengine\u001b[0m \u001b[0;34m==\u001b[0m \u001b[0;34m\"c\"\u001b[0m\u001b[0;34m:\u001b[0m\u001b[0;34m\u001b[0m\u001b[0;34m\u001b[0m\u001b[0m\n\u001b[0;32m-> 1168\u001b[0;31m             \u001b[0mself\u001b[0m\u001b[0;34m.\u001b[0m\u001b[0m_engine\u001b[0m \u001b[0;34m=\u001b[0m \u001b[0mCParserWrapper\u001b[0m\u001b[0;34m(\u001b[0m\u001b[0mself\u001b[0m\u001b[0;34m.\u001b[0m\u001b[0mf\u001b[0m\u001b[0;34m,\u001b[0m \u001b[0;34m**\u001b[0m\u001b[0mself\u001b[0m\u001b[0;34m.\u001b[0m\u001b[0moptions\u001b[0m\u001b[0;34m)\u001b[0m\u001b[0;34m\u001b[0m\u001b[0;34m\u001b[0m\u001b[0m\n\u001b[0m\u001b[1;32m   1169\u001b[0m         \u001b[0;32melse\u001b[0m\u001b[0;34m:\u001b[0m\u001b[0;34m\u001b[0m\u001b[0;34m\u001b[0m\u001b[0m\n\u001b[1;32m   1170\u001b[0m             \u001b[0;32mif\u001b[0m \u001b[0mengine\u001b[0m \u001b[0;34m==\u001b[0m \u001b[0;34m\"python\"\u001b[0m\u001b[0;34m:\u001b[0m\u001b[0;34m\u001b[0m\u001b[0;34m\u001b[0m\u001b[0m\n",
      "\u001b[0;32m/opt/conda/lib/python3.7/site-packages/pandas/io/parsers.py\u001b[0m in \u001b[0;36m__init__\u001b[0;34m(self, src, **kwds)\u001b[0m\n\u001b[1;32m   1996\u001b[0m         \u001b[0mkwds\u001b[0m\u001b[0;34m[\u001b[0m\u001b[0;34m\"usecols\"\u001b[0m\u001b[0;34m]\u001b[0m \u001b[0;34m=\u001b[0m \u001b[0mself\u001b[0m\u001b[0;34m.\u001b[0m\u001b[0musecols\u001b[0m\u001b[0;34m\u001b[0m\u001b[0;34m\u001b[0m\u001b[0m\n\u001b[1;32m   1997\u001b[0m \u001b[0;34m\u001b[0m\u001b[0m\n\u001b[0;32m-> 1998\u001b[0;31m         \u001b[0mself\u001b[0m\u001b[0;34m.\u001b[0m\u001b[0m_reader\u001b[0m \u001b[0;34m=\u001b[0m \u001b[0mparsers\u001b[0m\u001b[0;34m.\u001b[0m\u001b[0mTextReader\u001b[0m\u001b[0;34m(\u001b[0m\u001b[0msrc\u001b[0m\u001b[0;34m,\u001b[0m \u001b[0;34m**\u001b[0m\u001b[0mkwds\u001b[0m\u001b[0;34m)\u001b[0m\u001b[0;34m\u001b[0m\u001b[0;34m\u001b[0m\u001b[0m\n\u001b[0m\u001b[1;32m   1999\u001b[0m         \u001b[0mself\u001b[0m\u001b[0;34m.\u001b[0m\u001b[0munnamed_cols\u001b[0m \u001b[0;34m=\u001b[0m \u001b[0mself\u001b[0m\u001b[0;34m.\u001b[0m\u001b[0m_reader\u001b[0m\u001b[0;34m.\u001b[0m\u001b[0munnamed_cols\u001b[0m\u001b[0;34m\u001b[0m\u001b[0;34m\u001b[0m\u001b[0m\n\u001b[1;32m   2000\u001b[0m \u001b[0;34m\u001b[0m\u001b[0m\n",
      "\u001b[0;32mpandas/_libs/parsers.pyx\u001b[0m in \u001b[0;36mpandas._libs.parsers.TextReader.__cinit__\u001b[0;34m()\u001b[0m\n",
      "\u001b[0;32mpandas/_libs/parsers.pyx\u001b[0m in \u001b[0;36mpandas._libs.parsers.TextReader._setup_parser_source\u001b[0;34m()\u001b[0m\n",
      "\u001b[0;31mFileNotFoundError\u001b[0m: [Errno 2] No such file or directory: 'sample_submission.csv'"
     ]
    }
   ],
   "source": [
    "sample_submission = pd.read_csv('sample_submission.csv')\n",
    "ids = sample_submission['ID'].values.reshape(-1, 1)\n",
    "\n",
    "merged = np.concatenate((ids, pred_ohe), axis=1)\n",
    "submission = pd.DataFrame(merged, columns=sample_submission.columns).astype(int)\n",
    "\n",
    "submission"
   ]
  },
  {
   "cell_type": "code",
   "execution_count": 24,
   "metadata": {
    "execution": {
     "iopub.execute_input": "2020-08-24T16:10:30.314618Z",
     "iopub.status.busy": "2020-08-24T16:10:30.304244Z",
     "iopub.status.idle": "2020-08-24T16:10:30.333608Z",
     "shell.execute_reply": "2020-08-24T16:10:30.332991Z"
    },
    "id": "bS_suOKxERTd",
    "papermill": {
     "duration": 0.051176,
     "end_time": "2020-08-24T16:10:30.333751",
     "exception": false,
     "start_time": "2020-08-24T16:10:30.282575",
     "status": "completed"
    },
    "tags": []
   },
   "outputs": [
    {
     "ename": "NameError",
     "evalue": "name 'submission' is not defined",
     "output_type": "error",
     "traceback": [
      "\u001b[0;31m---------------------------------------------------------------------------\u001b[0m",
      "\u001b[0;31mNameError\u001b[0m                                 Traceback (most recent call last)",
      "\u001b[0;32m<ipython-input-24-9fbd35fe1f7d>\u001b[0m in \u001b[0;36m<module>\u001b[0;34m\u001b[0m\n\u001b[1;32m      1\u001b[0m \u001b[0msubmission_fname\u001b[0m \u001b[0;34m=\u001b[0m \u001b[0;34mf't5_microf1-{round(best_val_micro_f1_score, 4)}.csv'\u001b[0m\u001b[0;34m\u001b[0m\u001b[0;34m\u001b[0m\u001b[0m\n\u001b[0;32m----> 2\u001b[0;31m \u001b[0msubmission\u001b[0m\u001b[0;34m.\u001b[0m\u001b[0mto_csv\u001b[0m\u001b[0;34m(\u001b[0m\u001b[0msubmissions_dir\u001b[0m \u001b[0;34m+\u001b[0m \u001b[0msubmission_fname\u001b[0m\u001b[0;34m,\u001b[0m \u001b[0mindex\u001b[0m\u001b[0;34m=\u001b[0m\u001b[0;32mFalse\u001b[0m\u001b[0;34m)\u001b[0m\u001b[0;34m\u001b[0m\u001b[0;34m\u001b[0m\u001b[0m\n\u001b[0m",
      "\u001b[0;31mNameError\u001b[0m: name 'submission' is not defined"
     ]
    }
   ],
   "source": [
    "submission_fname = f't5_microf1-{round(best_val_micro_f1_score, 4)}.csv'\n",
    "submission.to_csv(submissions_dir + submission_fname, index=False)"
   ]
  }
 ],
 "metadata": {
  "kernelspec": {
   "display_name": "Python 3",
   "language": "python",
   "name": "python3"
  },
  "language_info": {
   "codemirror_mode": {
    "name": "ipython",
    "version": 3
   },
   "file_extension": ".py",
   "mimetype": "text/x-python",
   "name": "python",
   "nbconvert_exporter": "python",
   "pygments_lexer": "ipython3",
   "version": "3.7.6"
  },
  "papermill": {
   "duration": 1739.49978,
   "end_time": "2020-08-24T16:10:31.548602",
   "environment_variables": {},
   "exception": null,
   "input_path": "__notebook__.ipynb",
   "output_path": "__notebook__.ipynb",
   "parameters": {},
   "start_time": "2020-08-24T15:41:32.048822",
   "version": "2.1.0"
  },
  "widgets": {
   "application/vnd.jupyter.widget-state+json": {
    "state": {
     "065c9bbd632a4b6a99f756daa8dcc2ba": {
      "model_module": "@jupyter-widgets/base",
      "model_module_version": "1.2.0",
      "model_name": "LayoutModel",
      "state": {
       "_model_module": "@jupyter-widgets/base",
       "_model_module_version": "1.2.0",
       "_model_name": "LayoutModel",
       "_view_count": null,
       "_view_module": "@jupyter-widgets/base",
       "_view_module_version": "1.2.0",
       "_view_name": "LayoutView",
       "align_content": null,
       "align_items": null,
       "align_self": null,
       "border": null,
       "bottom": null,
       "display": null,
       "flex": null,
       "flex_flow": null,
       "grid_area": null,
       "grid_auto_columns": null,
       "grid_auto_flow": null,
       "grid_auto_rows": null,
       "grid_column": null,
       "grid_gap": null,
       "grid_row": null,
       "grid_template_areas": null,
       "grid_template_columns": null,
       "grid_template_rows": null,
       "height": null,
       "justify_content": null,
       "justify_items": null,
       "left": null,
       "margin": null,
       "max_height": null,
       "max_width": null,
       "min_height": null,
       "min_width": null,
       "object_fit": null,
       "object_position": null,
       "order": null,
       "overflow": null,
       "overflow_x": null,
       "overflow_y": null,
       "padding": null,
       "right": null,
       "top": null,
       "visibility": null,
       "width": null
      }
     },
     "14f980f17891467dbcd4b5e0aaf5dadb": {
      "model_module": "@jupyter-widgets/controls",
      "model_module_version": "1.5.0",
      "model_name": "ProgressStyleModel",
      "state": {
       "_model_module": "@jupyter-widgets/controls",
       "_model_module_version": "1.5.0",
       "_model_name": "ProgressStyleModel",
       "_view_count": null,
       "_view_module": "@jupyter-widgets/base",
       "_view_module_version": "1.2.0",
       "_view_name": "StyleView",
       "bar_color": null,
       "description_width": "initial"
      }
     },
     "1536b0419f9a432bbd502110135db419": {
      "model_module": "@jupyter-widgets/controls",
      "model_module_version": "1.5.0",
      "model_name": "HTMLModel",
      "state": {
       "_dom_classes": [],
       "_model_module": "@jupyter-widgets/controls",
       "_model_module_version": "1.5.0",
       "_model_name": "HTMLModel",
       "_view_count": null,
       "_view_module": "@jupyter-widgets/controls",
       "_view_module_version": "1.5.0",
       "_view_name": "HTMLView",
       "description": "",
       "description_tooltip": null,
       "layout": "IPY_MODEL_906f88d855f3430b837758c3df7d9e69",
       "placeholder": "​",
       "style": "IPY_MODEL_5d59d1bfc9d34d5091bc26a298eaec16",
       "value": " 984/984 [20:27&lt;00:00,  1.25s/it]"
      }
     },
     "257d215489d9425eae3641d344f2a867": {
      "model_module": "@jupyter-widgets/controls",
      "model_module_version": "1.5.0",
      "model_name": "DescriptionStyleModel",
      "state": {
       "_model_module": "@jupyter-widgets/controls",
       "_model_module_version": "1.5.0",
       "_model_name": "DescriptionStyleModel",
       "_view_count": null,
       "_view_module": "@jupyter-widgets/base",
       "_view_module_version": "1.2.0",
       "_view_name": "StyleView",
       "description_width": ""
      }
     },
     "2961bd272e5b46e3bab044e64b993b9c": {
      "model_module": "@jupyter-widgets/base",
      "model_module_version": "1.2.0",
      "model_name": "LayoutModel",
      "state": {
       "_model_module": "@jupyter-widgets/base",
       "_model_module_version": "1.2.0",
       "_model_name": "LayoutModel",
       "_view_count": null,
       "_view_module": "@jupyter-widgets/base",
       "_view_module_version": "1.2.0",
       "_view_name": "LayoutView",
       "align_content": null,
       "align_items": null,
       "align_self": null,
       "border": null,
       "bottom": null,
       "display": null,
       "flex": null,
       "flex_flow": null,
       "grid_area": null,
       "grid_auto_columns": null,
       "grid_auto_flow": null,
       "grid_auto_rows": null,
       "grid_column": null,
       "grid_gap": null,
       "grid_row": null,
       "grid_template_areas": null,
       "grid_template_columns": null,
       "grid_template_rows": null,
       "height": null,
       "justify_content": null,
       "justify_items": null,
       "left": null,
       "margin": null,
       "max_height": null,
       "max_width": null,
       "min_height": null,
       "min_width": null,
       "object_fit": null,
       "object_position": null,
       "order": null,
       "overflow": null,
       "overflow_x": null,
       "overflow_y": null,
       "padding": null,
       "right": null,
       "top": null,
       "visibility": null,
       "width": null
      }
     },
     "29baa01697b94ac9a362d299036233dc": {
      "model_module": "@jupyter-widgets/controls",
      "model_module_version": "1.5.0",
      "model_name": "HBoxModel",
      "state": {
       "_dom_classes": [],
       "_model_module": "@jupyter-widgets/controls",
       "_model_module_version": "1.5.0",
       "_model_name": "HBoxModel",
       "_view_count": null,
       "_view_module": "@jupyter-widgets/controls",
       "_view_module_version": "1.5.0",
       "_view_name": "HBoxView",
       "box_style": "",
       "children": [
        "IPY_MODEL_6b647455d7b04af3b4811428dbe3df73",
        "IPY_MODEL_eb4605d5ca0247d2933a6ae217b5da56"
       ],
       "layout": "IPY_MODEL_c69b70950b914ed6af460468f0108cb2"
      }
     },
     "38b09f1e909c4c878bc46463545e13da": {
      "model_module": "@jupyter-widgets/controls",
      "model_module_version": "1.5.0",
      "model_name": "HBoxModel",
      "state": {
       "_dom_classes": [],
       "_model_module": "@jupyter-widgets/controls",
       "_model_module_version": "1.5.0",
       "_model_name": "HBoxModel",
       "_view_count": null,
       "_view_module": "@jupyter-widgets/controls",
       "_view_module_version": "1.5.0",
       "_view_name": "HBoxView",
       "box_style": "",
       "children": [
        "IPY_MODEL_4735349d12a24f6782bf3c56cb4e2fd7",
        "IPY_MODEL_799d87f051e44cf28c5ef4abbfbb90e2"
       ],
       "layout": "IPY_MODEL_915a33aafd07490ba3fde8e50741083b"
      }
     },
     "43dc72c930f64b35b8e2c5de0919e9bf": {
      "model_module": "@jupyter-widgets/base",
      "model_module_version": "1.2.0",
      "model_name": "LayoutModel",
      "state": {
       "_model_module": "@jupyter-widgets/base",
       "_model_module_version": "1.2.0",
       "_model_name": "LayoutModel",
       "_view_count": null,
       "_view_module": "@jupyter-widgets/base",
       "_view_module_version": "1.2.0",
       "_view_name": "LayoutView",
       "align_content": null,
       "align_items": null,
       "align_self": null,
       "border": null,
       "bottom": null,
       "display": null,
       "flex": null,
       "flex_flow": null,
       "grid_area": null,
       "grid_auto_columns": null,
       "grid_auto_flow": null,
       "grid_auto_rows": null,
       "grid_column": null,
       "grid_gap": null,
       "grid_row": null,
       "grid_template_areas": null,
       "grid_template_columns": null,
       "grid_template_rows": null,
       "height": null,
       "justify_content": null,
       "justify_items": null,
       "left": null,
       "margin": null,
       "max_height": null,
       "max_width": null,
       "min_height": null,
       "min_width": null,
       "object_fit": null,
       "object_position": null,
       "order": null,
       "overflow": null,
       "overflow_x": null,
       "overflow_y": null,
       "padding": null,
       "right": null,
       "top": null,
       "visibility": null,
       "width": null
      }
     },
     "463ccb0fb6244c27910cc6d6fb04647e": {
      "model_module": "@jupyter-widgets/controls",
      "model_module_version": "1.5.0",
      "model_name": "HBoxModel",
      "state": {
       "_dom_classes": [],
       "_model_module": "@jupyter-widgets/controls",
       "_model_module_version": "1.5.0",
       "_model_name": "HBoxModel",
       "_view_count": null,
       "_view_module": "@jupyter-widgets/controls",
       "_view_module_version": "1.5.0",
       "_view_name": "HBoxView",
       "box_style": "",
       "children": [
        "IPY_MODEL_f43c5975540b4b7d993d1f249bdc4551",
        "IPY_MODEL_fa72e2f7a8994a81929a4967f68ca4d0"
       ],
       "layout": "IPY_MODEL_5d8b253b62cd4f4c81839915eaaa1520"
      }
     },
     "4735349d12a24f6782bf3c56cb4e2fd7": {
      "model_module": "@jupyter-widgets/controls",
      "model_module_version": "1.5.0",
      "model_name": "FloatProgressModel",
      "state": {
       "_dom_classes": [],
       "_model_module": "@jupyter-widgets/controls",
       "_model_module_version": "1.5.0",
       "_model_name": "FloatProgressModel",
       "_view_count": null,
       "_view_module": "@jupyter-widgets/controls",
       "_view_module_version": "1.5.0",
       "_view_name": "ProgressView",
       "bar_style": "success",
       "description": "100%",
       "description_tooltip": null,
       "layout": "IPY_MODEL_2961bd272e5b46e3bab044e64b993b9c",
       "max": 562.0,
       "min": 0.0,
       "orientation": "horizontal",
       "style": "IPY_MODEL_ef2917b323d241d08cd299996fec81a2",
       "value": 562.0
      }
     },
     "4a015de21ccb41aa91ac2273ec125bf0": {
      "model_module": "@jupyter-widgets/base",
      "model_module_version": "1.2.0",
      "model_name": "LayoutModel",
      "state": {
       "_model_module": "@jupyter-widgets/base",
       "_model_module_version": "1.2.0",
       "_model_name": "LayoutModel",
       "_view_count": null,
       "_view_module": "@jupyter-widgets/base",
       "_view_module_version": "1.2.0",
       "_view_name": "LayoutView",
       "align_content": null,
       "align_items": null,
       "align_self": null,
       "border": null,
       "bottom": null,
       "display": null,
       "flex": null,
       "flex_flow": null,
       "grid_area": null,
       "grid_auto_columns": null,
       "grid_auto_flow": null,
       "grid_auto_rows": null,
       "grid_column": null,
       "grid_gap": null,
       "grid_row": null,
       "grid_template_areas": null,
       "grid_template_columns": null,
       "grid_template_rows": null,
       "height": null,
       "justify_content": null,
       "justify_items": null,
       "left": null,
       "margin": null,
       "max_height": null,
       "max_width": null,
       "min_height": null,
       "min_width": null,
       "object_fit": null,
       "object_position": null,
       "order": null,
       "overflow": null,
       "overflow_x": null,
       "overflow_y": null,
       "padding": null,
       "right": null,
       "top": null,
       "visibility": null,
       "width": null
      }
     },
     "4d1ecbe5e25d4592a2821e8e1364eec2": {
      "model_module": "@jupyter-widgets/base",
      "model_module_version": "1.2.0",
      "model_name": "LayoutModel",
      "state": {
       "_model_module": "@jupyter-widgets/base",
       "_model_module_version": "1.2.0",
       "_model_name": "LayoutModel",
       "_view_count": null,
       "_view_module": "@jupyter-widgets/base",
       "_view_module_version": "1.2.0",
       "_view_name": "LayoutView",
       "align_content": null,
       "align_items": null,
       "align_self": null,
       "border": null,
       "bottom": null,
       "display": null,
       "flex": null,
       "flex_flow": null,
       "grid_area": null,
       "grid_auto_columns": null,
       "grid_auto_flow": null,
       "grid_auto_rows": null,
       "grid_column": null,
       "grid_gap": null,
       "grid_row": null,
       "grid_template_areas": null,
       "grid_template_columns": null,
       "grid_template_rows": null,
       "height": null,
       "justify_content": null,
       "justify_items": null,
       "left": null,
       "margin": null,
       "max_height": null,
       "max_width": null,
       "min_height": null,
       "min_width": null,
       "object_fit": null,
       "object_position": null,
       "order": null,
       "overflow": null,
       "overflow_x": null,
       "overflow_y": null,
       "padding": null,
       "right": null,
       "top": null,
       "visibility": null,
       "width": null
      }
     },
     "4fdfc32a411a4217a633748069fbae2f": {
      "model_module": "@jupyter-widgets/controls",
      "model_module_version": "1.5.0",
      "model_name": "FloatProgressModel",
      "state": {
       "_dom_classes": [],
       "_model_module": "@jupyter-widgets/controls",
       "_model_module_version": "1.5.0",
       "_model_name": "FloatProgressModel",
       "_view_count": null,
       "_view_module": "@jupyter-widgets/controls",
       "_view_module_version": "1.5.0",
       "_view_name": "ProgressView",
       "bar_style": "success",
       "description": "Downloading: 100%",
       "description_tooltip": null,
       "layout": "IPY_MODEL_e6b73107815844b5aecb2fb0677b7d32",
       "max": 791656.0,
       "min": 0.0,
       "orientation": "horizontal",
       "style": "IPY_MODEL_e54a2d1cbf8145278e5076a48b89054f",
       "value": 791656.0
      }
     },
     "50f2f490885b4dffb78397cea328aaa7": {
      "model_module": "@jupyter-widgets/controls",
      "model_module_version": "1.5.0",
      "model_name": "HBoxModel",
      "state": {
       "_dom_classes": [],
       "_model_module": "@jupyter-widgets/controls",
       "_model_module_version": "1.5.0",
       "_model_name": "HBoxModel",
       "_view_count": null,
       "_view_module": "@jupyter-widgets/controls",
       "_view_module_version": "1.5.0",
       "_view_name": "HBoxView",
       "box_style": "",
       "children": [
        "IPY_MODEL_719a1a3f7b1546c1ba14c63450ff8a69",
        "IPY_MODEL_1536b0419f9a432bbd502110135db419"
       ],
       "layout": "IPY_MODEL_065c9bbd632a4b6a99f756daa8dcc2ba"
      }
     },
     "53e262fb59784d7c8d28c02bb8c5665b": {
      "model_module": "@jupyter-widgets/base",
      "model_module_version": "1.2.0",
      "model_name": "LayoutModel",
      "state": {
       "_model_module": "@jupyter-widgets/base",
       "_model_module_version": "1.2.0",
       "_model_name": "LayoutModel",
       "_view_count": null,
       "_view_module": "@jupyter-widgets/base",
       "_view_module_version": "1.2.0",
       "_view_name": "LayoutView",
       "align_content": null,
       "align_items": null,
       "align_self": null,
       "border": null,
       "bottom": null,
       "display": null,
       "flex": null,
       "flex_flow": null,
       "grid_area": null,
       "grid_auto_columns": null,
       "grid_auto_flow": null,
       "grid_auto_rows": null,
       "grid_column": null,
       "grid_gap": null,
       "grid_row": null,
       "grid_template_areas": null,
       "grid_template_columns": null,
       "grid_template_rows": null,
       "height": null,
       "justify_content": null,
       "justify_items": null,
       "left": null,
       "margin": null,
       "max_height": null,
       "max_width": null,
       "min_height": null,
       "min_width": null,
       "object_fit": null,
       "object_position": null,
       "order": null,
       "overflow": null,
       "overflow_x": null,
       "overflow_y": null,
       "padding": null,
       "right": null,
       "top": null,
       "visibility": null,
       "width": null
      }
     },
     "5d59d1bfc9d34d5091bc26a298eaec16": {
      "model_module": "@jupyter-widgets/controls",
      "model_module_version": "1.5.0",
      "model_name": "DescriptionStyleModel",
      "state": {
       "_model_module": "@jupyter-widgets/controls",
       "_model_module_version": "1.5.0",
       "_model_name": "DescriptionStyleModel",
       "_view_count": null,
       "_view_module": "@jupyter-widgets/base",
       "_view_module_version": "1.2.0",
       "_view_name": "StyleView",
       "description_width": ""
      }
     },
     "5d8b253b62cd4f4c81839915eaaa1520": {
      "model_module": "@jupyter-widgets/base",
      "model_module_version": "1.2.0",
      "model_name": "LayoutModel",
      "state": {
       "_model_module": "@jupyter-widgets/base",
       "_model_module_version": "1.2.0",
       "_model_name": "LayoutModel",
       "_view_count": null,
       "_view_module": "@jupyter-widgets/base",
       "_view_module_version": "1.2.0",
       "_view_name": "LayoutView",
       "align_content": null,
       "align_items": null,
       "align_self": null,
       "border": null,
       "bottom": null,
       "display": null,
       "flex": null,
       "flex_flow": null,
       "grid_area": null,
       "grid_auto_columns": null,
       "grid_auto_flow": null,
       "grid_auto_rows": null,
       "grid_column": null,
       "grid_gap": null,
       "grid_row": null,
       "grid_template_areas": null,
       "grid_template_columns": null,
       "grid_template_rows": null,
       "height": null,
       "justify_content": null,
       "justify_items": null,
       "left": null,
       "margin": null,
       "max_height": null,
       "max_width": null,
       "min_height": null,
       "min_width": null,
       "object_fit": null,
       "object_position": null,
       "order": null,
       "overflow": null,
       "overflow_x": null,
       "overflow_y": null,
       "padding": null,
       "right": null,
       "top": null,
       "visibility": null,
       "width": null
      }
     },
     "626a6efa25d84bf9bf01b373d1c86142": {
      "model_module": "@jupyter-widgets/base",
      "model_module_version": "1.2.0",
      "model_name": "LayoutModel",
      "state": {
       "_model_module": "@jupyter-widgets/base",
       "_model_module_version": "1.2.0",
       "_model_name": "LayoutModel",
       "_view_count": null,
       "_view_module": "@jupyter-widgets/base",
       "_view_module_version": "1.2.0",
       "_view_name": "LayoutView",
       "align_content": null,
       "align_items": null,
       "align_self": null,
       "border": null,
       "bottom": null,
       "display": null,
       "flex": null,
       "flex_flow": null,
       "grid_area": null,
       "grid_auto_columns": null,
       "grid_auto_flow": null,
       "grid_auto_rows": null,
       "grid_column": null,
       "grid_gap": null,
       "grid_row": null,
       "grid_template_areas": null,
       "grid_template_columns": null,
       "grid_template_rows": null,
       "height": null,
       "justify_content": null,
       "justify_items": null,
       "left": null,
       "margin": null,
       "max_height": null,
       "max_width": null,
       "min_height": null,
       "min_width": null,
       "object_fit": null,
       "object_position": null,
       "order": null,
       "overflow": null,
       "overflow_x": null,
       "overflow_y": null,
       "padding": null,
       "right": null,
       "top": null,
       "visibility": null,
       "width": null
      }
     },
     "6b647455d7b04af3b4811428dbe3df73": {
      "model_module": "@jupyter-widgets/controls",
      "model_module_version": "1.5.0",
      "model_name": "FloatProgressModel",
      "state": {
       "_dom_classes": [],
       "_model_module": "@jupyter-widgets/controls",
       "_model_module_version": "1.5.0",
       "_model_name": "FloatProgressModel",
       "_view_count": null,
       "_view_module": "@jupyter-widgets/controls",
       "_view_module_version": "1.5.0",
       "_view_name": "ProgressView",
       "bar_style": "success",
       "description": "Downloading: 100%",
       "description_tooltip": null,
       "layout": "IPY_MODEL_43dc72c930f64b35b8e2c5de0919e9bf",
       "max": 891691430.0,
       "min": 0.0,
       "orientation": "horizontal",
       "style": "IPY_MODEL_14f980f17891467dbcd4b5e0aaf5dadb",
       "value": 891691430.0
      }
     },
     "719a1a3f7b1546c1ba14c63450ff8a69": {
      "model_module": "@jupyter-widgets/controls",
      "model_module_version": "1.5.0",
      "model_name": "FloatProgressModel",
      "state": {
       "_dom_classes": [],
       "_model_module": "@jupyter-widgets/controls",
       "_model_module_version": "1.5.0",
       "_model_name": "FloatProgressModel",
       "_view_count": null,
       "_view_module": "@jupyter-widgets/controls",
       "_view_module_version": "1.5.0",
       "_view_name": "ProgressView",
       "bar_style": "success",
       "description": "Epoch 0: 100%",
       "description_tooltip": null,
       "layout": "IPY_MODEL_626a6efa25d84bf9bf01b373d1c86142",
       "max": 984.0,
       "min": 0.0,
       "orientation": "horizontal",
       "style": "IPY_MODEL_f56d3a7a4a504681b87f9fd923e584cb",
       "value": 984.0
      }
     },
     "799d87f051e44cf28c5ef4abbfbb90e2": {
      "model_module": "@jupyter-widgets/controls",
      "model_module_version": "1.5.0",
      "model_name": "HTMLModel",
      "state": {
       "_dom_classes": [],
       "_model_module": "@jupyter-widgets/controls",
       "_model_module_version": "1.5.0",
       "_model_name": "HTMLModel",
       "_view_count": null,
       "_view_module": "@jupyter-widgets/controls",
       "_view_module_version": "1.5.0",
       "_view_name": "HTMLView",
       "description": "",
       "description_tooltip": null,
       "layout": "IPY_MODEL_dd0a42a8e36540ba86a039228ed58c78",
       "placeholder": "​",
       "style": "IPY_MODEL_9b2e0207923f48c8a9cab6d3ada2b603",
       "value": " 562/562 [03:02&lt;00:00,  3.08it/s]"
      }
     },
     "906f88d855f3430b837758c3df7d9e69": {
      "model_module": "@jupyter-widgets/base",
      "model_module_version": "1.2.0",
      "model_name": "LayoutModel",
      "state": {
       "_model_module": "@jupyter-widgets/base",
       "_model_module_version": "1.2.0",
       "_model_name": "LayoutModel",
       "_view_count": null,
       "_view_module": "@jupyter-widgets/base",
       "_view_module_version": "1.2.0",
       "_view_name": "LayoutView",
       "align_content": null,
       "align_items": null,
       "align_self": null,
       "border": null,
       "bottom": null,
       "display": null,
       "flex": null,
       "flex_flow": null,
       "grid_area": null,
       "grid_auto_columns": null,
       "grid_auto_flow": null,
       "grid_auto_rows": null,
       "grid_column": null,
       "grid_gap": null,
       "grid_row": null,
       "grid_template_areas": null,
       "grid_template_columns": null,
       "grid_template_rows": null,
       "height": null,
       "justify_content": null,
       "justify_items": null,
       "left": null,
       "margin": null,
       "max_height": null,
       "max_width": null,
       "min_height": null,
       "min_width": null,
       "object_fit": null,
       "object_position": null,
       "order": null,
       "overflow": null,
       "overflow_x": null,
       "overflow_y": null,
       "padding": null,
       "right": null,
       "top": null,
       "visibility": null,
       "width": null
      }
     },
     "915a33aafd07490ba3fde8e50741083b": {
      "model_module": "@jupyter-widgets/base",
      "model_module_version": "1.2.0",
      "model_name": "LayoutModel",
      "state": {
       "_model_module": "@jupyter-widgets/base",
       "_model_module_version": "1.2.0",
       "_model_name": "LayoutModel",
       "_view_count": null,
       "_view_module": "@jupyter-widgets/base",
       "_view_module_version": "1.2.0",
       "_view_name": "LayoutView",
       "align_content": null,
       "align_items": null,
       "align_self": null,
       "border": null,
       "bottom": null,
       "display": null,
       "flex": null,
       "flex_flow": null,
       "grid_area": null,
       "grid_auto_columns": null,
       "grid_auto_flow": null,
       "grid_auto_rows": null,
       "grid_column": null,
       "grid_gap": null,
       "grid_row": null,
       "grid_template_areas": null,
       "grid_template_columns": null,
       "grid_template_rows": null,
       "height": null,
       "justify_content": null,
       "justify_items": null,
       "left": null,
       "margin": null,
       "max_height": null,
       "max_width": null,
       "min_height": null,
       "min_width": null,
       "object_fit": null,
       "object_position": null,
       "order": null,
       "overflow": null,
       "overflow_x": null,
       "overflow_y": null,
       "padding": null,
       "right": null,
       "top": null,
       "visibility": null,
       "width": null
      }
     },
     "953f10f0de0b4187a0c0a2e54b9d7403": {
      "model_module": "@jupyter-widgets/controls",
      "model_module_version": "1.5.0",
      "model_name": "DescriptionStyleModel",
      "state": {
       "_model_module": "@jupyter-widgets/controls",
       "_model_module_version": "1.5.0",
       "_model_name": "DescriptionStyleModel",
       "_view_count": null,
       "_view_module": "@jupyter-widgets/base",
       "_view_module_version": "1.2.0",
       "_view_name": "StyleView",
       "description_width": ""
      }
     },
     "9ac6c724d5dd468786373e8e4c899b80": {
      "model_module": "@jupyter-widgets/controls",
      "model_module_version": "1.5.0",
      "model_name": "DescriptionStyleModel",
      "state": {
       "_model_module": "@jupyter-widgets/controls",
       "_model_module_version": "1.5.0",
       "_model_name": "DescriptionStyleModel",
       "_view_count": null,
       "_view_module": "@jupyter-widgets/base",
       "_view_module_version": "1.2.0",
       "_view_name": "StyleView",
       "description_width": ""
      }
     },
     "9b2e0207923f48c8a9cab6d3ada2b603": {
      "model_module": "@jupyter-widgets/controls",
      "model_module_version": "1.5.0",
      "model_name": "DescriptionStyleModel",
      "state": {
       "_model_module": "@jupyter-widgets/controls",
       "_model_module_version": "1.5.0",
       "_model_name": "DescriptionStyleModel",
       "_view_count": null,
       "_view_module": "@jupyter-widgets/base",
       "_view_module_version": "1.2.0",
       "_view_name": "StyleView",
       "description_width": ""
      }
     },
     "a89671faa05644209c90e67b55249138": {
      "model_module": "@jupyter-widgets/controls",
      "model_module_version": "1.5.0",
      "model_name": "ProgressStyleModel",
      "state": {
       "_model_module": "@jupyter-widgets/controls",
       "_model_module_version": "1.5.0",
       "_model_name": "ProgressStyleModel",
       "_view_count": null,
       "_view_module": "@jupyter-widgets/base",
       "_view_module_version": "1.2.0",
       "_view_name": "StyleView",
       "bar_color": null,
       "description_width": "initial"
      }
     },
     "c69b70950b914ed6af460468f0108cb2": {
      "model_module": "@jupyter-widgets/base",
      "model_module_version": "1.2.0",
      "model_name": "LayoutModel",
      "state": {
       "_model_module": "@jupyter-widgets/base",
       "_model_module_version": "1.2.0",
       "_model_name": "LayoutModel",
       "_view_count": null,
       "_view_module": "@jupyter-widgets/base",
       "_view_module_version": "1.2.0",
       "_view_name": "LayoutView",
       "align_content": null,
       "align_items": null,
       "align_self": null,
       "border": null,
       "bottom": null,
       "display": null,
       "flex": null,
       "flex_flow": null,
       "grid_area": null,
       "grid_auto_columns": null,
       "grid_auto_flow": null,
       "grid_auto_rows": null,
       "grid_column": null,
       "grid_gap": null,
       "grid_row": null,
       "grid_template_areas": null,
       "grid_template_columns": null,
       "grid_template_rows": null,
       "height": null,
       "justify_content": null,
       "justify_items": null,
       "left": null,
       "margin": null,
       "max_height": null,
       "max_width": null,
       "min_height": null,
       "min_width": null,
       "object_fit": null,
       "object_position": null,
       "order": null,
       "overflow": null,
       "overflow_x": null,
       "overflow_y": null,
       "padding": null,
       "right": null,
       "top": null,
       "visibility": null,
       "width": null
      }
     },
     "c6b4edfbede943f88a8f20fb78d5d220": {
      "model_module": "@jupyter-widgets/controls",
      "model_module_version": "1.5.0",
      "model_name": "HTMLModel",
      "state": {
       "_dom_classes": [],
       "_model_module": "@jupyter-widgets/controls",
       "_model_module_version": "1.5.0",
       "_model_name": "HTMLModel",
       "_view_count": null,
       "_view_module": "@jupyter-widgets/controls",
       "_view_module_version": "1.5.0",
       "_view_name": "HTMLView",
       "description": "",
       "description_tooltip": null,
       "layout": "IPY_MODEL_53e262fb59784d7c8d28c02bb8c5665b",
       "placeholder": "​",
       "style": "IPY_MODEL_953f10f0de0b4187a0c0a2e54b9d7403",
       "value": " 792k/792k [00:00&lt;00:00, 1.34MB/s]"
      }
     },
     "c7c00aae1d574f18b81233e5c029081d": {
      "model_module": "@jupyter-widgets/base",
      "model_module_version": "1.2.0",
      "model_name": "LayoutModel",
      "state": {
       "_model_module": "@jupyter-widgets/base",
       "_model_module_version": "1.2.0",
       "_model_name": "LayoutModel",
       "_view_count": null,
       "_view_module": "@jupyter-widgets/base",
       "_view_module_version": "1.2.0",
       "_view_name": "LayoutView",
       "align_content": null,
       "align_items": null,
       "align_self": null,
       "border": null,
       "bottom": null,
       "display": null,
       "flex": null,
       "flex_flow": null,
       "grid_area": null,
       "grid_auto_columns": null,
       "grid_auto_flow": null,
       "grid_auto_rows": null,
       "grid_column": null,
       "grid_gap": null,
       "grid_row": null,
       "grid_template_areas": null,
       "grid_template_columns": null,
       "grid_template_rows": null,
       "height": null,
       "justify_content": null,
       "justify_items": null,
       "left": null,
       "margin": null,
       "max_height": null,
       "max_width": null,
       "min_height": null,
       "min_width": null,
       "object_fit": null,
       "object_position": null,
       "order": null,
       "overflow": null,
       "overflow_x": null,
       "overflow_y": null,
       "padding": null,
       "right": null,
       "top": null,
       "visibility": null,
       "width": null
      }
     },
     "db56908e6b1b40889fa9a0fe337e4e67": {
      "model_module": "@jupyter-widgets/controls",
      "model_module_version": "1.5.0",
      "model_name": "HBoxModel",
      "state": {
       "_dom_classes": [],
       "_model_module": "@jupyter-widgets/controls",
       "_model_module_version": "1.5.0",
       "_model_name": "HBoxModel",
       "_view_count": null,
       "_view_module": "@jupyter-widgets/controls",
       "_view_module_version": "1.5.0",
       "_view_name": "HBoxView",
       "box_style": "",
       "children": [
        "IPY_MODEL_4fdfc32a411a4217a633748069fbae2f",
        "IPY_MODEL_c6b4edfbede943f88a8f20fb78d5d220"
       ],
       "layout": "IPY_MODEL_f042e7183f5743cc8138d7190d228754"
      }
     },
     "dd0a42a8e36540ba86a039228ed58c78": {
      "model_module": "@jupyter-widgets/base",
      "model_module_version": "1.2.0",
      "model_name": "LayoutModel",
      "state": {
       "_model_module": "@jupyter-widgets/base",
       "_model_module_version": "1.2.0",
       "_model_name": "LayoutModel",
       "_view_count": null,
       "_view_module": "@jupyter-widgets/base",
       "_view_module_version": "1.2.0",
       "_view_name": "LayoutView",
       "align_content": null,
       "align_items": null,
       "align_self": null,
       "border": null,
       "bottom": null,
       "display": null,
       "flex": null,
       "flex_flow": null,
       "grid_area": null,
       "grid_auto_columns": null,
       "grid_auto_flow": null,
       "grid_auto_rows": null,
       "grid_column": null,
       "grid_gap": null,
       "grid_row": null,
       "grid_template_areas": null,
       "grid_template_columns": null,
       "grid_template_rows": null,
       "height": null,
       "justify_content": null,
       "justify_items": null,
       "left": null,
       "margin": null,
       "max_height": null,
       "max_width": null,
       "min_height": null,
       "min_width": null,
       "object_fit": null,
       "object_position": null,
       "order": null,
       "overflow": null,
       "overflow_x": null,
       "overflow_y": null,
       "padding": null,
       "right": null,
       "top": null,
       "visibility": null,
       "width": null
      }
     },
     "e54a2d1cbf8145278e5076a48b89054f": {
      "model_module": "@jupyter-widgets/controls",
      "model_module_version": "1.5.0",
      "model_name": "ProgressStyleModel",
      "state": {
       "_model_module": "@jupyter-widgets/controls",
       "_model_module_version": "1.5.0",
       "_model_name": "ProgressStyleModel",
       "_view_count": null,
       "_view_module": "@jupyter-widgets/base",
       "_view_module_version": "1.2.0",
       "_view_name": "StyleView",
       "bar_color": null,
       "description_width": "initial"
      }
     },
     "e6b73107815844b5aecb2fb0677b7d32": {
      "model_module": "@jupyter-widgets/base",
      "model_module_version": "1.2.0",
      "model_name": "LayoutModel",
      "state": {
       "_model_module": "@jupyter-widgets/base",
       "_model_module_version": "1.2.0",
       "_model_name": "LayoutModel",
       "_view_count": null,
       "_view_module": "@jupyter-widgets/base",
       "_view_module_version": "1.2.0",
       "_view_name": "LayoutView",
       "align_content": null,
       "align_items": null,
       "align_self": null,
       "border": null,
       "bottom": null,
       "display": null,
       "flex": null,
       "flex_flow": null,
       "grid_area": null,
       "grid_auto_columns": null,
       "grid_auto_flow": null,
       "grid_auto_rows": null,
       "grid_column": null,
       "grid_gap": null,
       "grid_row": null,
       "grid_template_areas": null,
       "grid_template_columns": null,
       "grid_template_rows": null,
       "height": null,
       "justify_content": null,
       "justify_items": null,
       "left": null,
       "margin": null,
       "max_height": null,
       "max_width": null,
       "min_height": null,
       "min_width": null,
       "object_fit": null,
       "object_position": null,
       "order": null,
       "overflow": null,
       "overflow_x": null,
       "overflow_y": null,
       "padding": null,
       "right": null,
       "top": null,
       "visibility": null,
       "width": null
      }
     },
     "eb4605d5ca0247d2933a6ae217b5da56": {
      "model_module": "@jupyter-widgets/controls",
      "model_module_version": "1.5.0",
      "model_name": "HTMLModel",
      "state": {
       "_dom_classes": [],
       "_model_module": "@jupyter-widgets/controls",
       "_model_module_version": "1.5.0",
       "_model_name": "HTMLModel",
       "_view_count": null,
       "_view_module": "@jupyter-widgets/controls",
       "_view_module_version": "1.5.0",
       "_view_name": "HTMLView",
       "description": "",
       "description_tooltip": null,
       "layout": "IPY_MODEL_c7c00aae1d574f18b81233e5c029081d",
       "placeholder": "​",
       "style": "IPY_MODEL_9ac6c724d5dd468786373e8e4c899b80",
       "value": " 892M/892M [00:25&lt;00:00, 34.4MB/s]"
      }
     },
     "ef2917b323d241d08cd299996fec81a2": {
      "model_module": "@jupyter-widgets/controls",
      "model_module_version": "1.5.0",
      "model_name": "ProgressStyleModel",
      "state": {
       "_model_module": "@jupyter-widgets/controls",
       "_model_module_version": "1.5.0",
       "_model_name": "ProgressStyleModel",
       "_view_count": null,
       "_view_module": "@jupyter-widgets/base",
       "_view_module_version": "1.2.0",
       "_view_name": "StyleView",
       "bar_color": null,
       "description_width": "initial"
      }
     },
     "f042e7183f5743cc8138d7190d228754": {
      "model_module": "@jupyter-widgets/base",
      "model_module_version": "1.2.0",
      "model_name": "LayoutModel",
      "state": {
       "_model_module": "@jupyter-widgets/base",
       "_model_module_version": "1.2.0",
       "_model_name": "LayoutModel",
       "_view_count": null,
       "_view_module": "@jupyter-widgets/base",
       "_view_module_version": "1.2.0",
       "_view_name": "LayoutView",
       "align_content": null,
       "align_items": null,
       "align_self": null,
       "border": null,
       "bottom": null,
       "display": null,
       "flex": null,
       "flex_flow": null,
       "grid_area": null,
       "grid_auto_columns": null,
       "grid_auto_flow": null,
       "grid_auto_rows": null,
       "grid_column": null,
       "grid_gap": null,
       "grid_row": null,
       "grid_template_areas": null,
       "grid_template_columns": null,
       "grid_template_rows": null,
       "height": null,
       "justify_content": null,
       "justify_items": null,
       "left": null,
       "margin": null,
       "max_height": null,
       "max_width": null,
       "min_height": null,
       "min_width": null,
       "object_fit": null,
       "object_position": null,
       "order": null,
       "overflow": null,
       "overflow_x": null,
       "overflow_y": null,
       "padding": null,
       "right": null,
       "top": null,
       "visibility": null,
       "width": null
      }
     },
     "f43c5975540b4b7d993d1f249bdc4551": {
      "model_module": "@jupyter-widgets/controls",
      "model_module_version": "1.5.0",
      "model_name": "FloatProgressModel",
      "state": {
       "_dom_classes": [],
       "_model_module": "@jupyter-widgets/controls",
       "_model_module_version": "1.5.0",
       "_model_name": "FloatProgressModel",
       "_view_count": null,
       "_view_module": "@jupyter-widgets/controls",
       "_view_module_version": "1.5.0",
       "_view_name": "ProgressView",
       "bar_style": "success",
       "description": "Downloading: 100%",
       "description_tooltip": null,
       "layout": "IPY_MODEL_4d1ecbe5e25d4592a2821e8e1364eec2",
       "max": 1199.0,
       "min": 0.0,
       "orientation": "horizontal",
       "style": "IPY_MODEL_a89671faa05644209c90e67b55249138",
       "value": 1199.0
      }
     },
     "f56d3a7a4a504681b87f9fd923e584cb": {
      "model_module": "@jupyter-widgets/controls",
      "model_module_version": "1.5.0",
      "model_name": "ProgressStyleModel",
      "state": {
       "_model_module": "@jupyter-widgets/controls",
       "_model_module_version": "1.5.0",
       "_model_name": "ProgressStyleModel",
       "_view_count": null,
       "_view_module": "@jupyter-widgets/base",
       "_view_module_version": "1.2.0",
       "_view_name": "StyleView",
       "bar_color": null,
       "description_width": "initial"
      }
     },
     "fa72e2f7a8994a81929a4967f68ca4d0": {
      "model_module": "@jupyter-widgets/controls",
      "model_module_version": "1.5.0",
      "model_name": "HTMLModel",
      "state": {
       "_dom_classes": [],
       "_model_module": "@jupyter-widgets/controls",
       "_model_module_version": "1.5.0",
       "_model_name": "HTMLModel",
       "_view_count": null,
       "_view_module": "@jupyter-widgets/controls",
       "_view_module_version": "1.5.0",
       "_view_name": "HTMLView",
       "description": "",
       "description_tooltip": null,
       "layout": "IPY_MODEL_4a015de21ccb41aa91ac2273ec125bf0",
       "placeholder": "​",
       "style": "IPY_MODEL_257d215489d9425eae3641d344f2a867",
       "value": " 1.20k/1.20k [00:00&lt;00:00, 1.93kB/s]"
      }
     }
    },
    "version_major": 2,
    "version_minor": 0
   }
  }
 },
 "nbformat": 4,
 "nbformat_minor": 4
}
